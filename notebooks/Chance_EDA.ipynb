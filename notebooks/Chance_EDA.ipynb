{
  "nbformat": 4,
  "nbformat_minor": 0,
  "metadata": {
    "colab": {
      "name": "Chance_EDA.ipynb",
      "version": "0.3.2",
      "provenance": [],
      "include_colab_link": true
    },
    "kernelspec": {
      "name": "python3",
      "display_name": "Python 3"
    }
  },
  "cells": [
    {
      "cell_type": "markdown",
      "metadata": {
        "id": "view-in-github",
        "colab_type": "text"
      },
      "source": [
        "<a href=\"https://colab.research.google.com/github/elizabethts/DS5-kaggle-scalar-coupling/blob/master/notebooks/Chance_EDA.ipynb\" target=\"_parent\"><img src=\"https://colab.research.google.com/assets/colab-badge.svg\" alt=\"Open In Colab\"/></a>"
      ]
    },
    {
      "cell_type": "code",
      "metadata": {
        "id": "kV4ioyBw3Aw-",
        "colab_type": "code",
        "outputId": "fed5cbd6-0981-41a6-ffe3-dbff3c21a665",
        "colab": {
          "base_uri": "https://localhost:8080/",
          "height": 925
        }
      },
      "source": [
        "# !pip install kaggle\n",
        "# !mkdir .kaggle\n",
        "\n",
        "import json\n",
        "token = ''\n",
        "with open('/content/.kaggle/kaggle.json', 'w') as file:\n",
        "    json.dump(token, file)\n",
        "    \n",
        "!cp /content/.kaggle/kaggle.json ~/.kaggle/kaggle.json\n",
        "!kaggle config set -n path -v{/content}\n",
        "\n",
        "!chmod 600 /root/.kaggle/kaggle.json\n",
        "\n",
        "\n",
        "!kaggle competitions download -c champs-scalar-coupling"
      ],
      "execution_count": 9,
      "outputs": [
        {
          "output_type": "stream",
          "text": [
            "Warning: Your Kaggle API key is readable by other users on this system! To fix this, you can run 'chmod 600 /root/.kaggle/kaggle.json'\n",
            "- path is now set to: {/content}\n",
            "Downloading train.csv.zip to {/content}/competitions/champs-scalar-coupling\n",
            " 56% 25.0M/44.5M [00:00<00:00, 77.2MB/s]\n",
            "100% 44.5M/44.5M [00:00<00:00, 113MB/s] \n",
            "Downloading test.csv.zip to {/content}/competitions/champs-scalar-coupling\n",
            " 45% 6.00M/13.4M [00:00<00:00, 60.3MB/s]\n",
            "100% 13.4M/13.4M [00:00<00:00, 85.1MB/s]\n",
            "Downloading structures.zip to {/content}/competitions/champs-scalar-coupling\n",
            " 95% 60.0M/62.9M [00:00<00:00, 144MB/s]\n",
            "100% 62.9M/62.9M [00:00<00:00, 141MB/s]\n",
            "Downloading structures.csv.zip to {/content}/competitions/champs-scalar-coupling\n",
            " 86% 42.0M/48.7M [00:00<00:00, 66.9MB/s]\n",
            "100% 48.7M/48.7M [00:00<00:00, 96.8MB/s]\n",
            "Downloading scalar_coupling_contributions.csv.zip to {/content}/competitions/champs-scalar-coupling\n",
            " 88% 76.0M/86.6M [00:00<00:00, 106MB/s] \n",
            "100% 86.6M/86.6M [00:00<00:00, 126MB/s]\n",
            "Downloading sample_submission.csv.zip to {/content}/competitions/champs-scalar-coupling\n",
            "  0% 0.00/5.31M [00:00<?, ?B/s]\n",
            "100% 5.31M/5.31M [00:00<00:00, 85.8MB/s]\n",
            "Downloading potential_energy.csv.zip to {/content}/competitions/champs-scalar-coupling\n",
            "  0% 0.00/497k [00:00<?, ?B/s]\n",
            "100% 497k/497k [00:00<00:00, 67.7MB/s]\n",
            "Downloading mulliken_charges.csv.zip to {/content}/competitions/champs-scalar-coupling\n",
            "  0% 0.00/9.24M [00:00<?, ?B/s]\n",
            "100% 9.24M/9.24M [00:00<00:00, 83.7MB/s]\n",
            "Downloading magnetic_shielding_tensors.csv.zip to {/content}/competitions/champs-scalar-coupling\n",
            " 84% 42.0M/49.8M [00:00<00:00, 92.9MB/s]\n",
            "100% 49.8M/49.8M [00:00<00:00, 143MB/s] \n",
            "Downloading dipole_moments.csv.zip to {/content}/competitions/champs-scalar-coupling\n",
            "  0% 0.00/965k [00:00<?, ?B/s]\n",
            "100% 965k/965k [00:00<00:00, 130MB/s]\n"
          ],
          "name": "stdout"
        }
      ]
    },
    {
      "cell_type": "code",
      "metadata": {
        "id": "BAnQ3CJlRdCv",
        "colab_type": "code",
        "colab": {}
      },
      "source": [
        "import pandas as pd\n",
        "from sklearn.model_selection import train_test_split\n",
        "from sklearn.linear_model import LinearRegression\n",
        "from sklearn.ensemble import RandomForestRegressor\n",
        "import matplotlib.pyplot as plt\n",
        "# !pip install category_encoders\n",
        "from category_encoders import OrdinalEncoder\n",
        "from sklearn.pipeline import make_pipeline\n",
        "from sklearn.metrics import mean_absolute_error\n",
        "import numpy as np\n",
        "import xgboost as xgb\n",
        "from xgboost import XGBRegressor"
      ],
      "execution_count": 0,
      "outputs": []
    },
    {
      "cell_type": "code",
      "metadata": {
        "id": "FiB4jhrGDCOH",
        "colab_type": "code",
        "colab": {}
      },
      "source": [
        "trainval = pd.read_csv('/content/{/content}/competitions/champs-scalar-coupling/train.csv.zip')\n",
        "test = pd.read_csv('/content/{/content}/competitions/champs-scalar-coupling/test.csv.zip')\n",
        "structures = pd.read_csv('/content/structures.csv')"
      ],
      "execution_count": 0,
      "outputs": []
    },
    {
      "cell_type": "code",
      "metadata": {
        "id": "-UX4Jy3ec7oA",
        "colab_type": "code",
        "colab": {}
      },
      "source": [
        "def merge_train_structures(train, structures):\n",
        "  \n",
        "  \"\"\"This function is used to merge the structures dataset to the \n",
        "     original train dataset\n",
        "     \n",
        "     Parameters:\n",
        "     ===========\n",
        "\t   train: train dataframe\n",
        "\t   structures: structures dataframe.\n",
        "     \n",
        "     Output:\n",
        "\t   ===========\n",
        "\t   dataframe: merged dataframe\n",
        "     \"\"\"\n",
        "  \n",
        "  structures = structures.rename({'atom_index': 'atom_index_0',\n",
        "                                  'x':'x_0', 'y':'y_0', 'z':'z_0',\n",
        "                                  'atom':'atom_0'}, axis=1)\n",
        "  \n",
        "  merged = pd.merge(train, structures, on=['molecule_name', 'atom_index_0'])\n",
        "  \n",
        "  structures = structures.rename({'atom_index_0': 'atom_index_1',\n",
        "                                  'x_0':'x_1', 'y_0':'y_1', 'z_0':'z_1',\n",
        "                                  'atom_0':'atom_1'}, axis=1)\n",
        "  \n",
        "  merged_1 = pd.merge(merged, structures, on=['molecule_name', 'atom_index_1'])\n",
        "  \n",
        "  structures = structures.rename({'atom_index_1': 'atom_index',\n",
        "                                  'x_1':'x', 'y_1':'y', 'z_1':'z',\n",
        "                                  'atom_1':'atom'}, axis=1)\n",
        "  \n",
        "  assert train.shape[0] == merged.shape[0]\n",
        "  \n",
        "  return merged_1"
      ],
      "execution_count": 0,
      "outputs": []
    },
    {
      "cell_type": "code",
      "metadata": {
        "id": "Xp0WIu0kY97d",
        "colab_type": "code",
        "colab": {}
      },
      "source": [
        "merged = merge_train_structures(trainval, structures)"
      ],
      "execution_count": 0,
      "outputs": []
    },
    {
      "cell_type": "code",
      "metadata": {
        "id": "Pq56ueOz4vaY",
        "colab_type": "code",
        "colab": {}
      },
      "source": [
        "def fe(merged):\n",
        "  merged['dihedral_angle'] = abs(merged['x_0'] * merged['x_1'] + merged['y_0'] * merged['y_1'] + merged['z_0'] * merged['z_1']) / (np.sqrt(np.square(merged['x_0']) + np.square(merged['y_0']) + np.square(merged['z_0'])) * (np.sqrt(np.square(merged['x_1']) + np.square(merged['y_1']) + np.square(merged['z_1']))))\n",
        "  merged['bond'] = merged['type'].str[2:]\n",
        "  merged['j_type'] = merged['type'].str[:2]\n",
        "  merged['distance'] = np.power((np.power((merged['x_1'] - merged['x_0']), 2) + np.power((merged['y_1'] - merged['y_0']), 2) + np.power((merged['z_1'] - merged['z_0']), 2)), 0.5)"
      ],
      "execution_count": 0,
      "outputs": []
    },
    {
      "cell_type": "code",
      "metadata": {
        "id": "PK54PkhzBTAB",
        "colab_type": "code",
        "colab": {}
      },
      "source": [
        "fe(merged)"
      ],
      "execution_count": 0,
      "outputs": []
    },
    {
      "cell_type": "code",
      "metadata": {
        "id": "7EGddBS_OPf4",
        "colab_type": "code",
        "outputId": "62dc69a3-15b6-43d2-b0e8-def3c3f5a967",
        "colab": {
          "base_uri": "https://localhost:8080/",
          "height": 76
        }
      },
      "source": [
        "train, val = train_test_split(merged, random_state=47)\n",
        "train.shape[0] + val.shape[0] == trainval.shape[0]"
      ],
      "execution_count": 106,
      "outputs": [
        {
          "output_type": "execute_result",
          "data": {
            "text/plain": [
              "True"
            ]
          },
          "metadata": {
            "tags": []
          },
          "execution_count": 106
        }
      ]
    },
    {
      "cell_type": "code",
      "metadata": {
        "id": "pxqo9gDE-z5G",
        "colab_type": "code",
        "colab": {}
      },
      "source": [
        "groups = val['type']\n",
        "\n",
        "def group_lmae(y_true, y_pred, groups, floor=1e-9):\n",
        "  maes = (y_true - y_pred).abs().groupby(groups).mean()\n",
        "  return np.log(maes.map(lambda x: max(x, floor))).mean()"
      ],
      "execution_count": 0,
      "outputs": []
    },
    {
      "cell_type": "code",
      "metadata": {
        "id": "wJ0t8ju5PaA7",
        "colab_type": "code",
        "outputId": "96263f8d-7cf6-463c-ad03-bb1f51410130",
        "colab": {
          "base_uri": "https://localhost:8080/",
          "height": 252
        }
      },
      "source": [
        "%%time\n",
        "features = ['type', 'atom_1', 'dihedral_angle', 'bond', 'j_type', 'distance']\n",
        "target = 'scalar_coupling_constant'\n",
        "\n",
        "X_train = train[features]\n",
        "y_train = train[target]\n",
        "X_val = val[features]\n",
        "y_val = val[target]\n",
        "\n",
        "y_train_log = np.log1p(y_train)\n",
        "\n",
        "xgbr = XGBRegressor(n_estimators=100,\n",
        "                    random_state=47,\n",
        "                    n_jobs=-1)\n",
        "\n",
        "encoder = OrdinalEncoder()\n",
        "\n",
        "pipe = make_pipeline(encoder, xgbr)\n",
        "pipe.fit(X_train, y_train)\n",
        "\n",
        "y_pred = pipe.predict(X_val)"
      ],
      "execution_count": 108,
      "outputs": [
        {
          "output_type": "stream",
          "text": [
            "/usr/local/lib/python3.6/dist-packages/ipykernel_launcher.py:9: RuntimeWarning: divide by zero encountered in log1p\n",
            "  if __name__ == '__main__':\n",
            "/usr/local/lib/python3.6/dist-packages/ipykernel_launcher.py:9: RuntimeWarning: invalid value encountered in log1p\n",
            "  if __name__ == '__main__':\n",
            "/usr/local/lib/python3.6/dist-packages/xgboost/core.py:587: FutureWarning: Series.base is deprecated and will be removed in a future version\n",
            "  if getattr(data, 'base', None) is not None and \\\n",
            "/usr/local/lib/python3.6/dist-packages/xgboost/core.py:588: FutureWarning: Series.base is deprecated and will be removed in a future version\n",
            "  data.base is not None and isinstance(data, np.ndarray) \\\n"
          ],
          "name": "stderr"
        },
        {
          "output_type": "stream",
          "text": [
            "[22:40:39] WARNING: /workspace/src/objective/regression_obj.cu:152: reg:linear is now deprecated in favor of reg:squarederror.\n",
            "CPU times: user 7min 26s, sys: 562 ms, total: 7min 27s\n",
            "Wall time: 4min 12s\n"
          ],
          "name": "stdout"
        }
      ]
    },
    {
      "cell_type": "code",
      "metadata": {
        "id": "6a53UDRr_h5Y",
        "colab_type": "code",
        "outputId": "8c4a4830-4ead-4c95-e4c2-d61cb4bf07ea",
        "colab": {
          "base_uri": "https://localhost:8080/",
          "height": 76
        }
      },
      "source": [
        "group_lmae(y_val, y_pred, groups)"
      ],
      "execution_count": 109,
      "outputs": [
        {
          "output_type": "execute_result",
          "data": {
            "text/plain": [
              "0.8330879623968482"
            ]
          },
          "metadata": {
            "tags": []
          },
          "execution_count": 109
        }
      ]
    },
    {
      "cell_type": "code",
      "metadata": {
        "id": "fbkEMD-Ytgt7",
        "colab_type": "code",
        "colab": {
          "base_uri": "https://localhost:8080/",
          "height": 92
        },
        "outputId": "bc10d062-5077-4183-9dee-e08adf237edf"
      },
      "source": [
        "importances = xgbr.feature_importances_.astype(float)\n",
        "features = X_train.columns\n",
        "importances"
      ],
      "execution_count": 110,
      "outputs": [
        {
          "output_type": "execute_result",
          "data": {
            "text/plain": [
              "array([5.63773513e-03, 0.00000000e+00, 2.35703032e-04, 0.00000000e+00,\n",
              "       9.89502609e-01, 4.62398864e-03])"
            ]
          },
          "metadata": {
            "tags": []
          },
          "execution_count": 110
        }
      ]
    },
    {
      "cell_type": "code",
      "metadata": {
        "id": "e0mQOGi80ntK",
        "colab_type": "code",
        "colab": {
          "base_uri": "https://localhost:8080/",
          "height": 92
        },
        "outputId": "ade4f1d7-f58a-4a41-c1de-7a99f2949333"
      },
      "source": [
        "print(features.shape)\n",
        "print(importances.shape)"
      ],
      "execution_count": 111,
      "outputs": [
        {
          "output_type": "stream",
          "text": [
            "(6,)\n",
            "(6,)\n"
          ],
          "name": "stdout"
        }
      ]
    },
    {
      "cell_type": "code",
      "metadata": {
        "id": "taeu_Q4Vxk3_",
        "colab_type": "code",
        "colab": {
          "base_uri": "https://localhost:8080/",
          "height": 307
        },
        "outputId": "d5e73d4d-9f6c-422a-c15a-5d7c6d43b56d"
      },
      "source": [
        "plt.barh(features, importances)"
      ],
      "execution_count": 112,
      "outputs": [
        {
          "output_type": "execute_result",
          "data": {
            "text/plain": [
              "<BarContainer object of 6 artists>"
            ]
          },
          "metadata": {
            "tags": []
          },
          "execution_count": 112
        },
        {
          "output_type": "display_data",
          "data": {
            "image/png": "[encoded data removed]",
            "text/plain": [
              "<Figure size 432x288 with 1 Axes>"
            ]
          },
          "metadata": {
            "tags": []
          }
        }
      ]
    },
    {
      "cell_type": "code",
      "metadata": {
        "id": "AYmKf-lp0EOC",
        "colab_type": "code",
        "colab": {}
      },
      "source": [
        "test_merged = merge_train_structures(test, structures)"
      ],
      "execution_count": 0,
      "outputs": []
    },
    {
      "cell_type": "code",
      "metadata": {
        "id": "yzxs1RY8A-Vl",
        "colab_type": "code",
        "colab": {}
      },
      "source": [
        "fe(test_merged)"
      ],
      "execution_count": 0,
      "outputs": []
    },
    {
      "cell_type": "code",
      "metadata": {
        "id": "hHXM6TNEBZSp",
        "colab_type": "code",
        "colab": {
          "base_uri": "https://localhost:8080/",
          "height": 248
        },
        "outputId": "cac3cad3-1848-49dc-edb8-6d4d423e083e"
      },
      "source": [
        "test_merged.head()"
      ],
      "execution_count": 120,
      "outputs": [
        {
          "output_type": "execute_result",
          "data": {
            "text/html": [
              "<div>\n",
              "<style scoped>\n",
              "    .dataframe tbody tr th:only-of-type {\n",
              "        vertical-align: middle;\n",
              "    }\n",
              "\n",
              "    .dataframe tbody tr th {\n",
              "        vertical-align: top;\n",
              "    }\n",
              "\n",
              "    .dataframe thead th {\n",
              "        text-align: right;\n",
              "    }\n",
              "</style>\n",
              "<table border=\"1\" class=\"dataframe\">\n",
              "  <thead>\n",
              "    <tr style=\"text-align: right;\">\n",
              "      <th></th>\n",
              "      <th>id</th>\n",
              "      <th>molecule_name</th>\n",
              "      <th>atom_index_0</th>\n",
              "      <th>atom_index_1</th>\n",
              "      <th>type</th>\n",
              "      <th>atom_0</th>\n",
              "      <th>x_0</th>\n",
              "      <th>y_0</th>\n",
              "      <th>z_0</th>\n",
              "      <th>atom_1</th>\n",
              "      <th>x_1</th>\n",
              "      <th>y_1</th>\n",
              "      <th>z_1</th>\n",
              "      <th>dihedral_angle</th>\n",
              "      <th>bond</th>\n",
              "      <th>j_type</th>\n",
              "      <th>distance</th>\n",
              "    </tr>\n",
              "  </thead>\n",
              "  <tbody>\n",
              "    <tr>\n",
              "      <th>0</th>\n",
              "      <td>4658147</td>\n",
              "      <td>dsgdb9nsd_000004</td>\n",
              "      <td>2</td>\n",
              "      <td>0</td>\n",
              "      <td>2JHC</td>\n",
              "      <td>H</td>\n",
              "      <td>-1.661639</td>\n",
              "      <td>0.0</td>\n",
              "      <td>1.0</td>\n",
              "      <td>C</td>\n",
              "      <td>0.599539</td>\n",
              "      <td>0.0</td>\n",
              "      <td>1.0</td>\n",
              "      <td>0.001673</td>\n",
              "      <td>HC</td>\n",
              "      <td>2J</td>\n",
              "      <td>2.261178</td>\n",
              "    </tr>\n",
              "    <tr>\n",
              "      <th>1</th>\n",
              "      <td>4658150</td>\n",
              "      <td>dsgdb9nsd_000004</td>\n",
              "      <td>3</td>\n",
              "      <td>0</td>\n",
              "      <td>1JHC</td>\n",
              "      <td>H</td>\n",
              "      <td>1.661639</td>\n",
              "      <td>0.0</td>\n",
              "      <td>1.0</td>\n",
              "      <td>C</td>\n",
              "      <td>0.599539</td>\n",
              "      <td>0.0</td>\n",
              "      <td>1.0</td>\n",
              "      <td>0.882821</td>\n",
              "      <td>HC</td>\n",
              "      <td>1J</td>\n",
              "      <td>1.062099</td>\n",
              "    </tr>\n",
              "    <tr>\n",
              "      <th>2</th>\n",
              "      <td>4658148</td>\n",
              "      <td>dsgdb9nsd_000004</td>\n",
              "      <td>2</td>\n",
              "      <td>1</td>\n",
              "      <td>1JHC</td>\n",
              "      <td>H</td>\n",
              "      <td>-1.661639</td>\n",
              "      <td>0.0</td>\n",
              "      <td>1.0</td>\n",
              "      <td>C</td>\n",
              "      <td>-0.599539</td>\n",
              "      <td>0.0</td>\n",
              "      <td>1.0</td>\n",
              "      <td>0.882821</td>\n",
              "      <td>HC</td>\n",
              "      <td>1J</td>\n",
              "      <td>1.062099</td>\n",
              "    </tr>\n",
              "    <tr>\n",
              "      <th>3</th>\n",
              "      <td>4658151</td>\n",
              "      <td>dsgdb9nsd_000004</td>\n",
              "      <td>3</td>\n",
              "      <td>1</td>\n",
              "      <td>2JHC</td>\n",
              "      <td>H</td>\n",
              "      <td>1.661639</td>\n",
              "      <td>0.0</td>\n",
              "      <td>1.0</td>\n",
              "      <td>C</td>\n",
              "      <td>-0.599539</td>\n",
              "      <td>0.0</td>\n",
              "      <td>1.0</td>\n",
              "      <td>0.001673</td>\n",
              "      <td>HC</td>\n",
              "      <td>2J</td>\n",
              "      <td>2.261178</td>\n",
              "    </tr>\n",
              "    <tr>\n",
              "      <th>4</th>\n",
              "      <td>4658149</td>\n",
              "      <td>dsgdb9nsd_000004</td>\n",
              "      <td>2</td>\n",
              "      <td>3</td>\n",
              "      <td>3JHH</td>\n",
              "      <td>H</td>\n",
              "      <td>-1.661639</td>\n",
              "      <td>0.0</td>\n",
              "      <td>1.0</td>\n",
              "      <td>H</td>\n",
              "      <td>1.661639</td>\n",
              "      <td>0.0</td>\n",
              "      <td>1.0</td>\n",
              "      <td>0.468233</td>\n",
              "      <td>HH</td>\n",
              "      <td>3J</td>\n",
              "      <td>3.323277</td>\n",
              "    </tr>\n",
              "  </tbody>\n",
              "</table>\n",
              "</div>"
            ],
            "text/plain": [
              "        id     molecule_name  atom_index_0  ...  bond j_type  distance\n",
              "0  4658147  dsgdb9nsd_000004             2  ...    HC     2J  2.261178\n",
              "1  4658150  dsgdb9nsd_000004             3  ...    HC     1J  1.062099\n",
              "2  4658148  dsgdb9nsd_000004             2  ...    HC     1J  1.062099\n",
              "3  4658151  dsgdb9nsd_000004             3  ...    HC     2J  2.261178\n",
              "4  4658149  dsgdb9nsd_000004             2  ...    HH     3J  3.323277\n",
              "\n",
              "[5 rows x 17 columns]"
            ]
          },
          "metadata": {
            "tags": []
          },
          "execution_count": 120
        }
      ]
    },
    {
      "cell_type": "code",
      "metadata": {
        "id": "jI5MWkB5Bnrv",
        "colab_type": "code",
        "colab": {}
      },
      "source": [
        "y_pred = pipe.predict(test_merged[features])"
      ],
      "execution_count": 0,
      "outputs": []
    },
    {
      "cell_type": "code",
      "metadata": {
        "id": "NM80awplBzhN",
        "colab_type": "code",
        "colab": {}
      },
      "source": [
        "sub = ''"
      ],
      "execution_count": 0,
      "outputs": []
    }
  ]
}