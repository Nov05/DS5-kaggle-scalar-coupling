{
  "nbformat": 4,
  "nbformat_minor": 0,
  "metadata": {
    "colab": {
      "name": "Chance_EDA.ipynb",
      "version": "0.3.2",
      "provenance": [],
      "include_colab_link": true
    },
    "kernelspec": {
      "name": "python3",
      "display_name": "Python 3"
    },
    "accelerator": "GPU"
  },
  "cells": [
    {
      "cell_type": "markdown",
      "metadata": {
        "id": "view-in-github",
        "colab_type": "text"
      },
      "source": [
        "<a href=\"https://colab.research.google.com/github/elizabethts/DS5-kaggle-scalar-coupling/blob/master/submissions/First_Submission.ipynb\" target=\"_parent\"><img src=\"https://colab.research.google.com/assets/colab-badge.svg\" alt=\"Open In Colab\"/></a>"
      ]
    },
    {
      "cell_type": "code",
      "metadata": {
        "id": "kV4ioyBw3Aw-",
        "colab_type": "code",
        "colab": {
          "base_uri": "https://localhost:8080/",
          "height": 1000
        },
        "outputId": "ea791d2c-6013-47c0-e8c8-8aaecb130fc1"
      },
      "source": [
        "# !pip install kaggle\n",
        "# !mkdir .kaggle\n",
        "\n",
        "import json\n",
        "token = ''\n",
        "with open('/content/.kaggle/kaggle.json', 'w') as file:\n",
        "    json.dump(token, file)\n",
        "    \n",
        "!cp /content/.kaggle/kaggle.json ~/.kaggle/kaggle.json\n",
        "!kaggle config set -n path -v{/content}\n",
        "\n",
        "!chmod 600 /root/.kaggle/kaggle.json\n",
        "\n",
        "\n",
        "!kaggle competitions download -c champs-scalar-coupling"
      ],
      "execution_count": 4,
      "outputs": [
        {
          "output_type": "stream",
          "text": [
            "Warning: Your Kaggle API key is readable by other users on this system! To fix this, you can run 'chmod 600 /root/.kaggle/kaggle.json'\n",
            "- path is now set to: {/content}\n",
            "Downloading train.csv.zip to {/content}/competitions/champs-scalar-coupling\n",
            " 99% 44.0M/44.5M [00:01<00:00, 20.4MB/s]\n",
            "100% 44.5M/44.5M [00:01<00:00, 34.1MB/s]\n",
            "Downloading test.csv.zip to {/content}/competitions/champs-scalar-coupling\n",
            " 37% 5.00M/13.4M [00:00<00:00, 10.2MB/s]\n",
            "100% 13.4M/13.4M [00:00<00:00, 22.8MB/s]\n",
            "Downloading structures.zip to {/content}/competitions/champs-scalar-coupling\n",
            " 78% 49.0M/62.9M [00:01<00:00, 24.5MB/s]\n",
            "100% 62.9M/62.9M [00:01<00:00, 48.2MB/s]\n",
            "Downloading structures.csv.zip to {/content}/competitions/champs-scalar-coupling\n",
            " 94% 46.0M/48.7M [00:01<00:00, 20.2MB/s]\n",
            "100% 48.7M/48.7M [00:01<00:00, 32.5MB/s]\n",
            "Downloading scalar_coupling_contributions.csv.zip to {/content}/competitions/champs-scalar-coupling\n",
            " 84% 73.0M/86.6M [00:01<00:00, 35.0MB/s]\n",
            "100% 86.6M/86.6M [00:01<00:00, 47.3MB/s]\n",
            "Downloading sample_submission.csv.zip to {/content}/competitions/champs-scalar-coupling\n",
            " 94% 5.00M/5.31M [00:00<00:00, 12.0MB/s]\n",
            "100% 5.31M/5.31M [00:00<00:00, 12.0MB/s]\n",
            "Downloading potential_energy.csv.zip to {/content}/competitions/champs-scalar-coupling\n",
            "  0% 0.00/497k [00:00<?, ?B/s]\n",
            "100% 497k/497k [00:00<00:00, 153MB/s]\n",
            "Downloading mulliken_charges.csv.zip to {/content}/competitions/champs-scalar-coupling\n",
            " 54% 5.00M/9.24M [00:00<00:00, 13.7MB/s]\n",
            "100% 9.24M/9.24M [00:00<00:00, 23.4MB/s]\n",
            "Downloading magnetic_shielding_tensors.csv.zip to {/content}/competitions/champs-scalar-coupling\n",
            " 82% 41.0M/49.8M [00:02<00:00, 12.6MB/s]\n",
            "100% 49.8M/49.8M [00:02<00:00, 23.0MB/s]\n",
            "Downloading dipole_moments.csv.zip to {/content}/competitions/champs-scalar-coupling\n",
            "  0% 0.00/965k [00:00<?, ?B/s]\n",
            "100% 965k/965k [00:00<00:00, 66.1MB/s]\n"
          ],
          "name": "stdout"
        }
      ]
    },
    {
      "cell_type": "code",
      "metadata": {
        "id": "BAnQ3CJlRdCv",
        "colab_type": "code",
        "colab": {
          "base_uri": "https://localhost:8080/",
          "height": 396
        },
        "outputId": "a5d71cc0-5221-4ee2-f8ec-3460d9e86e22"
      },
      "source": [
        "from google.colab import files\n",
        "import pandas as pd\n",
        "from sklearn.model_selection import train_test_split\n",
        "from sklearn.linear_model import LinearRegression\n",
        "from sklearn.ensemble import RandomForestRegressor\n",
        "import matplotlib.pyplot as plt\n",
        "!pip install category_encoders\n",
        "from category_encoders import OrdinalEncoder\n",
        "from sklearn.pipeline import make_pipeline\n",
        "from sklearn.metrics import mean_absolute_error\n",
        "import numpy as np\n",
        "import xgboost as xgb\n",
        "from xgboost import XGBRegressor"
      ],
      "execution_count": 6,
      "outputs": [
        {
          "output_type": "stream",
          "text": [
            "Collecting category_encoders\n",
            "\u001b[?25l  Downloading https://files.pythonhosted.org/packages/6e/a1/f7a22f144f33be78afeb06bfa78478e8284a64263a3c09b1ef54e673841e/category_encoders-2.0.0-py2.py3-none-any.whl (87kB)\n",
            "\u001b[K     |████████████████████████████████| 92kB 1.8MB/s \n",
            "\u001b[?25hRequirement already satisfied: scikit-learn>=0.20.0 in /usr/local/lib/python3.6/dist-packages (from category_encoders) (0.21.2)\n",
            "Requirement already satisfied: statsmodels>=0.6.1 in /usr/local/lib/python3.6/dist-packages (from category_encoders) (0.10.0)\n",
            "Requirement already satisfied: numpy>=1.11.3 in /usr/local/lib/python3.6/dist-packages (from category_encoders) (1.16.4)\n",
            "Requirement already satisfied: scipy>=0.19.0 in /usr/local/lib/python3.6/dist-packages (from category_encoders) (1.3.0)\n",
            "Requirement already satisfied: patsy>=0.4.1 in /usr/local/lib/python3.6/dist-packages (from category_encoders) (0.5.1)\n",
            "Requirement already satisfied: pandas>=0.21.1 in /usr/local/lib/python3.6/dist-packages (from category_encoders) (0.24.2)\n",
            "Requirement already satisfied: joblib>=0.11 in /usr/local/lib/python3.6/dist-packages (from scikit-learn>=0.20.0->category_encoders) (0.13.2)\n",
            "Requirement already satisfied: six in /usr/local/lib/python3.6/dist-packages (from patsy>=0.4.1->category_encoders) (1.12.0)\n",
            "Requirement already satisfied: python-dateutil>=2.5.0 in /usr/local/lib/python3.6/dist-packages (from pandas>=0.21.1->category_encoders) (2.5.3)\n",
            "Requirement already satisfied: pytz>=2011k in /usr/local/lib/python3.6/dist-packages (from pandas>=0.21.1->category_encoders) (2018.9)\n",
            "Installing collected packages: category-encoders\n",
            "Successfully installed category-encoders-2.0.0\n"
          ],
          "name": "stdout"
        }
      ]
    },
    {
      "cell_type": "code",
      "metadata": {
        "id": "MD-0peGV3tig",
        "colab_type": "code",
        "colab": {
          "base_uri": "https://localhost:8080/",
          "height": 445
        },
        "outputId": "7be967f5-d01e-4fce-c9ae-9566acb58d75"
      },
      "source": [
        "!unzip /content/{/content}/competitions/champs-scalar-coupling/dipole_moments.csv.zip\n",
        "!unzip /content/{/content}/competitions/champs-scalar-coupling/structures.csv.zip\n",
        "!unzip /content/{/content}/competitions/champs-scalar-coupling/scalar_coupling_contributions.csv.zip"
      ],
      "execution_count": 7,
      "outputs": [
        {
          "output_type": "stream",
          "text": [
            "Archive:  /content/{/content}/competitions/champs-scalar-coupling/dipole_moments.csv.zip\n",
            "  inflating: dipole_moments.csv      \n",
            "Archive:  /content/{/content}/competitions/champs-scalar-coupling/structures.csv.zip\n",
            "  inflating: structures.csv          \n",
            "Archive:  /content/{/content}/competitions/champs-scalar-coupling/scalar_coupling_contributions.csv.zip\n",
            "  inflating: scalar_coupling_contributions.csv  \n"
          ],
          "name": "stdout"
        }
      ]
    },
    {
      "cell_type": "code",
      "metadata": {
        "id": "FiB4jhrGDCOH",
        "colab_type": "code",
        "colab": {}
      },
      "source": [
        "trainval = pd.read_csv('/content/{/content}/competitions/champs-scalar-coupling/train.csv.zip')\n",
        "test = pd.read_csv('/content/{/content}/competitions/champs-scalar-coupling/test.csv.zip')\n",
        "structures = pd.read_csv('/content/structures.csv')\n",
        "dipole = pd.read_csv('/content/dipole_moments.csv')\n",
        "contrib = pd.read_csv('/content/scalar_coupling_contributions.csv')"
      ],
      "execution_count": 0,
      "outputs": []
    },
    {
      "cell_type": "code",
      "metadata": {
        "id": "-UX4Jy3ec7oA",
        "colab_type": "code",
        "colab": {}
      },
      "source": [
        "def merge_train_structures(train, structures):\n",
        "  \n",
        "  \"\"\"This function is used to merge the structures dataset to the \n",
        "     original train dataset\n",
        "     \n",
        "     Parameters:\n",
        "     ===========\n",
        "\t   train: train dataframe\n",
        "\t   structures: structures dataframe.\n",
        "     \n",
        "     Output:\n",
        "\t   ===========\n",
        "\t   dataframe: merged dataframe\n",
        "     \"\"\"\n",
        "  \n",
        "  structures = structures.rename({'atom_index': 'atom_index_0',\n",
        "                                  'x':'x_0', 'y':'y_0', 'z':'z_0',\n",
        "                                  'atom':'atom_0'}, axis=1)\n",
        "  \n",
        "  merged = pd.merge(train, structures, on=['molecule_name', 'atom_index_0'])\n",
        "  \n",
        "  structures = structures.rename({'atom_index_0': 'atom_index_1',\n",
        "                                  'x_0':'x_1', 'y_0':'y_1', 'z_0':'z_1',\n",
        "                                  'atom_0':'atom_1'}, axis=1)\n",
        "  \n",
        "  merged_1 = pd.merge(merged, structures, on=['molecule_name', 'atom_index_1'])\n",
        "  \n",
        "  structures = structures.rename({'atom_index_1': 'atom_index',\n",
        "                                  'x_1':'x', 'y_1':'y', 'z_1':'z',\n",
        "                                  'atom_1':'atom'}, axis=1)\n",
        "  \n",
        "  assert train.shape[0] == merged.shape[0]\n",
        "  \n",
        "  return merged_1"
      ],
      "execution_count": 0,
      "outputs": []
    },
    {
      "cell_type": "code",
      "metadata": {
        "id": "Xp0WIu0kY97d",
        "colab_type": "code",
        "colab": {}
      },
      "source": [
        "merged = merge_train_structures(trainval, structures)"
      ],
      "execution_count": 0,
      "outputs": []
    },
    {
      "cell_type": "code",
      "metadata": {
        "id": "Pq56ueOz4vaY",
        "colab_type": "code",
        "colab": {}
      },
      "source": [
        "def feature_eng(df):\n",
        "#   df['dihedral_angle'] = abs(df['x_0'] * df['x_1'] + df['y_0'] * df['y_1'] + df['z_0'] * df['z_1']) / (np.sqrt(np.square(df['x_0']) + np.square(df['y_0']) + np.square(df['z_0'])) * (np.sqrt(np.square(df['x_1']) + np.square(df['y_1']) + np.square(df['z_1']))))\n",
        "  df['bond'] = df['type'].str[2:]\n",
        "  df['j_type'] = df['type'].str[:2]\n",
        "  df['distance'] = np.power((np.power((df['x_1'] - df['x_0']), 2) + np.power((df['y_1'] - df['y_0']), 2) + np.power((df['z_1'] - df['z_0']), 2)), 0.5)"
      ],
      "execution_count": 0,
      "outputs": []
    },
    {
      "cell_type": "code",
      "metadata": {
        "id": "PK54PkhzBTAB",
        "colab_type": "code",
        "colab": {}
      },
      "source": [
        "feature_eng(merged)\n"
      ],
      "execution_count": 0,
      "outputs": []
    },
    {
      "cell_type": "code",
      "metadata": {
        "id": "7EGddBS_OPf4",
        "colab_type": "code",
        "outputId": "ee70a7b6-3a2b-4310-fc15-caaa50892091",
        "colab": {
          "base_uri": "https://localhost:8080/",
          "height": 96
        }
      },
      "source": [
        "train, val = train_test_split(merged, random_state=47)\n",
        "train.shape[0] + val.shape[0] == trainval.shape[0]"
      ],
      "execution_count": 49,
      "outputs": [
        {
          "output_type": "execute_result",
          "data": {
            "text/plain": [
              "True"
            ]
          },
          "metadata": {
            "tags": []
          },
          "execution_count": 49
        }
      ]
    },
    {
      "cell_type": "code",
      "metadata": {
        "id": "pxqo9gDE-z5G",
        "colab_type": "code",
        "colab": {}
      },
      "source": [
        "groups = val['type']\n",
        "\n",
        "def group_lmae(y_true, y_pred, groups, floor=1e-9):\n",
        "  maes = (y_true - y_pred).abs().groupby(groups).mean()\n",
        "  return np.log(maes.map(lambda x: max(x, floor))).mean()"
      ],
      "execution_count": 0,
      "outputs": []
    },
    {
      "cell_type": "code",
      "metadata": {
        "id": "wJ0t8ju5PaA7",
        "colab_type": "code",
        "outputId": "b1fd0e24-afb5-4f24-cb60-24eeb943c3b8",
        "colab": {
          "base_uri": "https://localhost:8080/",
          "height": 252
        }
      },
      "source": [
        "%%time\n",
        "features = ['type', 'atom_1', 'bond', 'j_type', 'distance']\n",
        "target = 'scalar_coupling_constant'\n",
        "\n",
        "X_train = train[features]\n",
        "y_train = train[target]\n",
        "X_val = val[features]\n",
        "y_val = val[target]\n",
        "\n",
        "y_train_log = np.log1p(y_train)\n",
        "\n",
        "xgbr = XGBRegressor(n_estimators=100,\n",
        "                    random_state=47,\n",
        "                    n_jobs=-1)\n",
        "\n",
        "encoder = OrdinalEncoder()\n",
        "\n",
        "pipe = make_pipeline(encoder, xgbr)\n",
        "pipe.fit(X_train, y_train)\n",
        "\n",
        "y_pred = pipe.predict(X_val)"
      ],
      "execution_count": 52,
      "outputs": [
        {
          "output_type": "stream",
          "text": [
            "/usr/local/lib/python3.6/dist-packages/ipykernel_launcher.py:9: RuntimeWarning: divide by zero encountered in log1p\n",
            "  if __name__ == '__main__':\n",
            "/usr/local/lib/python3.6/dist-packages/ipykernel_launcher.py:9: RuntimeWarning: invalid value encountered in log1p\n",
            "  if __name__ == '__main__':\n",
            "/usr/local/lib/python3.6/dist-packages/xgboost/core.py:587: FutureWarning: Series.base is deprecated and will be removed in a future version\n",
            "  if getattr(data, 'base', None) is not None and \\\n",
            "/usr/local/lib/python3.6/dist-packages/xgboost/core.py:588: FutureWarning: Series.base is deprecated and will be removed in a future version\n",
            "  data.base is not None and isinstance(data, np.ndarray) \\\n"
          ],
          "name": "stderr"
        },
        {
          "output_type": "stream",
          "text": [
            "[06:23:07] WARNING: /workspace/src/objective/regression_obj.cu:152: reg:linear is now deprecated in favor of reg:squarederror.\n",
            "CPU times: user 3min 44s, sys: 565 ms, total: 3min 44s\n",
            "Wall time: 2min 20s\n"
          ],
          "name": "stdout"
        }
      ]
    },
    {
      "cell_type": "code",
      "metadata": {
        "id": "6a53UDRr_h5Y",
        "colab_type": "code",
        "outputId": "7436fd74-883f-45fe-c3ce-2b6444aa9216",
        "colab": {
          "base_uri": "https://localhost:8080/",
          "height": 76
        }
      },
      "source": [
        "group_lmae(y_val, y_pred, groups)"
      ],
      "execution_count": 53,
      "outputs": [
        {
          "output_type": "execute_result",
          "data": {
            "text/plain": [
              "0.8295697935626145"
            ]
          },
          "metadata": {
            "tags": []
          },
          "execution_count": 53
        }
      ]
    },
    {
      "cell_type": "code",
      "metadata": {
        "id": "AYmKf-lp0EOC",
        "colab_type": "code",
        "colab": {}
      },
      "source": [
        "test_merged = merge_train_structures(test, structures)"
      ],
      "execution_count": 0,
      "outputs": []
    },
    {
      "cell_type": "code",
      "metadata": {
        "id": "yzxs1RY8A-Vl",
        "colab_type": "code",
        "colab": {}
      },
      "source": [
        "feature_eng(test_merged)"
      ],
      "execution_count": 0,
      "outputs": []
    },
    {
      "cell_type": "code",
      "metadata": {
        "id": "jI5MWkB5Bnrv",
        "colab_type": "code",
        "colab": {}
      },
      "source": [
        "y_pred = pipe.predict(test_merged[features])"
      ],
      "execution_count": 0,
      "outputs": []
    },
    {
      "cell_type": "code",
      "metadata": {
        "id": "NM80awplBzhN",
        "colab_type": "code",
        "colab": {}
      },
      "source": [
        "sub = pd.DataFrame(data = {\n",
        "    'id': test_merged['id'],\n",
        "    'scalar_coupling_constant': y_pred \n",
        "})\n",
        "sub.to_csv('submissionscalar.csv', index=False)"
      ],
      "execution_count": 0,
      "outputs": []
    },
    {
      "cell_type": "code",
      "metadata": {
        "id": "d7luQGC9DHX6",
        "colab_type": "code",
        "colab": {
          "base_uri": "https://localhost:8080/",
          "height": 497
        },
        "outputId": "e47d1f8c-3d9c-49b4-83f2-672b23ab080b"
      },
      "source": [
        "files.download('submissionscalar.csv')"
      ],
      "execution_count": 60,
      "outputs": [
        {
          "output_type": "stream",
          "text": [
            "----------------------------------------\n",
            "Exception happened during processing of request from ('::ffff:127.0.0.1', 34130, 0, 0)\n",
            "Traceback (most recent call last):\n",
            "  File \"/usr/lib/python3.6/socketserver.py\", line 320, in _handle_request_noblock\n",
            "    self.process_request(request, client_address)\n",
            "  File \"/usr/lib/python3.6/socketserver.py\", line 351, in process_request\n",
            "    self.finish_request(request, client_address)\n",
            "  File \"/usr/lib/python3.6/socketserver.py\", line 364, in finish_request\n",
            "    self.RequestHandlerClass(request, client_address, self)\n",
            "  File \"/usr/lib/python3.6/socketserver.py\", line 724, in __init__\n",
            "    self.handle()\n",
            "  File \"/usr/lib/python3.6/http/server.py\", line 418, in handle\n",
            "    self.handle_one_request()\n",
            "  File \"/usr/lib/python3.6/http/server.py\", line 406, in handle_one_request\n",
            "    method()\n",
            "  File \"/usr/lib/python3.6/http/server.py\", line 639, in do_GET\n",
            "    self.copyfile(f, self.wfile)\n",
            "  File \"/usr/lib/python3.6/http/server.py\", line 800, in copyfile\n",
            "    shutil.copyfileobj(source, outputfile)\n",
            "  File \"/usr/lib/python3.6/shutil.py\", line 82, in copyfileobj\n",
            "    fdst.write(buf)\n",
            "  File \"/usr/lib/python3.6/socketserver.py\", line 803, in write\n",
            "    self._sock.sendall(b)\n",
            "ConnectionResetError: [Errno 104] Connection reset by peer\n",
            "----------------------------------------\n"
          ],
          "name": "stderr"
        }
      ]
    },
    {
      "cell_type": "code",
      "metadata": {
        "id": "y4XQvnugqsAJ",
        "colab_type": "code",
        "colab": {}
      },
      "source": [
        ""
      ],
      "execution_count": 0,
      "outputs": []
    }
  ]
}