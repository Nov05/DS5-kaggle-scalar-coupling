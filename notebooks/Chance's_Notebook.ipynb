{
  "nbformat": 4,
  "nbformat_minor": 0,
  "metadata": {
    "colab": {
      "name": "Chance's Notebook.ipynb",
      "version": "0.3.2",
      "provenance": [],
      "include_colab_link": true
    },
    "kernelspec": {
      "name": "python3",
      "display_name": "Python 3"
    }
  },
  "cells": [
    {
      "cell_type": "markdown",
      "metadata": {
        "id": "view-in-github",
        "colab_type": "text"
      },
      "source": [
        "<a href=\"https://colab.research.google.com/github/elizabethts/DS5-kaggle-scalar-coupling/blob/master/notebooks/Chance's_Notebook.ipynb\" target=\"_parent\"><img src=\"https://colab.research.google.com/assets/colab-badge.svg\" alt=\"Open In Colab\"/></a>"
      ]
    },
    {
      "cell_type": "code",
      "metadata": {
        "id": "kV4ioyBw3Aw-",
        "colab_type": "code",
        "outputId": "90303523-f1ef-4b13-c50f-16d0f7449731",
        "colab": {
          "base_uri": "https://localhost:8080/",
          "height": 360
        }
      },
      "source": [
        "!pip install kaggle\n",
        "!mkdir .kaggle\n",
        "\n",
        "import json\n",
        "token = {\"username\":\"\",\"key\":\"\"}\n",
        "with open('/content/.kaggle/kaggle.json', 'w') as file:\n",
        "    json.dump(token, file)\n",
        "    \n",
        "!cp /content/.kaggle/kaggle.json ~/.kaggle/kaggle.json\n",
        "!kaggle config set -n path -v{/content}\n",
        "\n",
        "!chmod 600 /root/.kaggle/kaggle.json\n",
        "\n",
        "\n",
        "!kaggle competitions download -c champs-scalar-coupling"
      ],
      "execution_count": 0,
      "outputs": [
        {
          "output_type": "stream",
          "text": [
            "Requirement already satisfied: kaggle in /usr/local/lib/python3.6/dist-packages (1.5.4)\n",
            "Requirement already satisfied: certifi in /usr/local/lib/python3.6/dist-packages (from kaggle) (2019.6.16)\n",
            "Requirement already satisfied: requests in /usr/local/lib/python3.6/dist-packages (from kaggle) (2.21.0)\n",
            "Requirement already satisfied: tqdm in /usr/local/lib/python3.6/dist-packages (from kaggle) (4.28.1)\n",
            "Requirement already satisfied: python-slugify in /usr/local/lib/python3.6/dist-packages (from kaggle) (3.0.2)\n",
            "Requirement already satisfied: python-dateutil in /usr/local/lib/python3.6/dist-packages (from kaggle) (2.5.3)\n",
            "Requirement already satisfied: urllib3<1.25,>=1.21.1 in /usr/local/lib/python3.6/dist-packages (from kaggle) (1.24.3)\n",
            "Requirement already satisfied: six>=1.10 in /usr/local/lib/python3.6/dist-packages (from kaggle) (1.12.0)\n",
            "Requirement already satisfied: chardet<3.1.0,>=3.0.2 in /usr/local/lib/python3.6/dist-packages (from requests->kaggle) (3.0.4)\n",
            "Requirement already satisfied: idna<2.9,>=2.5 in /usr/local/lib/python3.6/dist-packages (from requests->kaggle) (2.8)\n",
            "Requirement already satisfied: text-unidecode==1.2 in /usr/local/lib/python3.6/dist-packages (from python-slugify->kaggle) (1.2)\n"
          ],
          "name": "stdout"
        }
      ]
    },
    {
      "cell_type": "code",
      "metadata": {
        "id": "FiB4jhrGDCOH",
        "colab_type": "code",
        "colab": {}
      },
      "source": [
        "import pandas as pd\n",
        "train = pd.read_csv('/content/{/content}/competitions/champs-scalar-coupling/train.csv.zip')"
      ],
      "execution_count": 0,
      "outputs": []
    },
    {
      "cell_type": "code",
      "metadata": {
        "id": "RA7dYRnCDC6Z",
        "colab_type": "code",
        "outputId": "68938400-6cca-48aa-fe2e-afd533c5b8ef",
        "colab": {
          "base_uri": "https://localhost:8080/",
          "height": 248
        }
      },
      "source": [
        "train.head()"
      ],
      "execution_count": 0,
      "outputs": [
        {
          "output_type": "execute_result",
          "data": {
            "text/html": [
              "<div>\n",
              "<style scoped>\n",
              "    .dataframe tbody tr th:only-of-type {\n",
              "        vertical-align: middle;\n",
              "    }\n",
              "\n",
              "    .dataframe tbody tr th {\n",
              "        vertical-align: top;\n",
              "    }\n",
              "\n",
              "    .dataframe thead th {\n",
              "        text-align: right;\n",
              "    }\n",
              "</style>\n",
              "<table border=\"1\" class=\"dataframe\">\n",
              "  <thead>\n",
              "    <tr style=\"text-align: right;\">\n",
              "      <th></th>\n",
              "      <th>id</th>\n",
              "      <th>molecule_name</th>\n",
              "      <th>atom_index_0</th>\n",
              "      <th>atom_index_1</th>\n",
              "      <th>type</th>\n",
              "      <th>scalar_coupling_constant</th>\n",
              "    </tr>\n",
              "  </thead>\n",
              "  <tbody>\n",
              "    <tr>\n",
              "      <th>0</th>\n",
              "      <td>0</td>\n",
              "      <td>dsgdb9nsd_000001</td>\n",
              "      <td>1</td>\n",
              "      <td>0</td>\n",
              "      <td>1JHC</td>\n",
              "      <td>84.8076</td>\n",
              "    </tr>\n",
              "    <tr>\n",
              "      <th>1</th>\n",
              "      <td>1</td>\n",
              "      <td>dsgdb9nsd_000001</td>\n",
              "      <td>1</td>\n",
              "      <td>2</td>\n",
              "      <td>2JHH</td>\n",
              "      <td>-11.2570</td>\n",
              "    </tr>\n",
              "    <tr>\n",
              "      <th>2</th>\n",
              "      <td>2</td>\n",
              "      <td>dsgdb9nsd_000001</td>\n",
              "      <td>1</td>\n",
              "      <td>3</td>\n",
              "      <td>2JHH</td>\n",
              "      <td>-11.2548</td>\n",
              "    </tr>\n",
              "    <tr>\n",
              "      <th>3</th>\n",
              "      <td>3</td>\n",
              "      <td>dsgdb9nsd_000001</td>\n",
              "      <td>1</td>\n",
              "      <td>4</td>\n",
              "      <td>2JHH</td>\n",
              "      <td>-11.2543</td>\n",
              "    </tr>\n",
              "    <tr>\n",
              "      <th>4</th>\n",
              "      <td>4</td>\n",
              "      <td>dsgdb9nsd_000001</td>\n",
              "      <td>2</td>\n",
              "      <td>0</td>\n",
              "      <td>1JHC</td>\n",
              "      <td>84.8074</td>\n",
              "    </tr>\n",
              "  </tbody>\n",
              "</table>\n",
              "</div>"
            ],
            "text/plain": [
              "   id     molecule_name  ...  type  scalar_coupling_constant\n",
              "0   0  dsgdb9nsd_000001  ...  1JHC                   84.8076\n",
              "1   1  dsgdb9nsd_000001  ...  2JHH                  -11.2570\n",
              "2   2  dsgdb9nsd_000001  ...  2JHH                  -11.2548\n",
              "3   3  dsgdb9nsd_000001  ...  2JHH                  -11.2543\n",
              "4   4  dsgdb9nsd_000001  ...  1JHC                   84.8074\n",
              "\n",
              "[5 rows x 6 columns]"
            ]
          },
          "metadata": {
            "tags": []
          },
          "execution_count": 20
        }
      ]
    },
    {
      "cell_type": "code",
      "metadata": {
        "id": "pzuIT70mD3qm",
        "colab_type": "code",
        "colab": {}
      },
      "source": [
        "train['element_bond'] = train['type'].str[2:]\n",
        "train['J'] = train['type'].str[:2]"
      ],
      "execution_count": 0,
      "outputs": []
    },
    {
      "cell_type": "code",
      "metadata": {
        "id": "7EGddBS_OPf4",
        "colab_type": "code",
        "colab": {
          "base_uri": "https://localhost:8080/",
          "height": 268
        },
        "outputId": "86d41fc0-0484-4e62-b0cc-6b9145d811c2"
      },
      "source": [
        "train.head()"
      ],
      "execution_count": 28,
      "outputs": [
        {
          "output_type": "execute_result",
          "data": {
            "text/html": [
              "<div>\n",
              "<style scoped>\n",
              "    .dataframe tbody tr th:only-of-type {\n",
              "        vertical-align: middle;\n",
              "    }\n",
              "\n",
              "    .dataframe tbody tr th {\n",
              "        vertical-align: top;\n",
              "    }\n",
              "\n",
              "    .dataframe thead th {\n",
              "        text-align: right;\n",
              "    }\n",
              "</style>\n",
              "<table border=\"1\" class=\"dataframe\">\n",
              "  <thead>\n",
              "    <tr style=\"text-align: right;\">\n",
              "      <th></th>\n",
              "      <th>id</th>\n",
              "      <th>molecule_name</th>\n",
              "      <th>atom_index_0</th>\n",
              "      <th>atom_index_1</th>\n",
              "      <th>type</th>\n",
              "      <th>scalar_coupling_constant</th>\n",
              "      <th>element_bond</th>\n",
              "      <th>J</th>\n",
              "    </tr>\n",
              "  </thead>\n",
              "  <tbody>\n",
              "    <tr>\n",
              "      <th>0</th>\n",
              "      <td>0</td>\n",
              "      <td>dsgdb9nsd_000001</td>\n",
              "      <td>1</td>\n",
              "      <td>0</td>\n",
              "      <td>1JHC</td>\n",
              "      <td>84.8076</td>\n",
              "      <td>HC</td>\n",
              "      <td>1J</td>\n",
              "    </tr>\n",
              "    <tr>\n",
              "      <th>1</th>\n",
              "      <td>1</td>\n",
              "      <td>dsgdb9nsd_000001</td>\n",
              "      <td>1</td>\n",
              "      <td>2</td>\n",
              "      <td>2JHH</td>\n",
              "      <td>-11.2570</td>\n",
              "      <td>HH</td>\n",
              "      <td>2J</td>\n",
              "    </tr>\n",
              "    <tr>\n",
              "      <th>2</th>\n",
              "      <td>2</td>\n",
              "      <td>dsgdb9nsd_000001</td>\n",
              "      <td>1</td>\n",
              "      <td>3</td>\n",
              "      <td>2JHH</td>\n",
              "      <td>-11.2548</td>\n",
              "      <td>HH</td>\n",
              "      <td>2J</td>\n",
              "    </tr>\n",
              "    <tr>\n",
              "      <th>3</th>\n",
              "      <td>3</td>\n",
              "      <td>dsgdb9nsd_000001</td>\n",
              "      <td>1</td>\n",
              "      <td>4</td>\n",
              "      <td>2JHH</td>\n",
              "      <td>-11.2543</td>\n",
              "      <td>HH</td>\n",
              "      <td>2J</td>\n",
              "    </tr>\n",
              "    <tr>\n",
              "      <th>4</th>\n",
              "      <td>4</td>\n",
              "      <td>dsgdb9nsd_000001</td>\n",
              "      <td>2</td>\n",
              "      <td>0</td>\n",
              "      <td>1JHC</td>\n",
              "      <td>84.8074</td>\n",
              "      <td>HC</td>\n",
              "      <td>1J</td>\n",
              "    </tr>\n",
              "  </tbody>\n",
              "</table>\n",
              "</div>"
            ],
            "text/plain": [
              "   id     molecule_name  ...  element_bond   J\n",
              "0   0  dsgdb9nsd_000001  ...            HC  1J\n",
              "1   1  dsgdb9nsd_000001  ...            HH  2J\n",
              "2   2  dsgdb9nsd_000001  ...            HH  2J\n",
              "3   3  dsgdb9nsd_000001  ...            HH  2J\n",
              "4   4  dsgdb9nsd_000001  ...            HC  1J\n",
              "\n",
              "[5 rows x 8 columns]"
            ]
          },
          "metadata": {
            "tags": []
          },
          "execution_count": 28
        }
      ]
    },
    {
      "cell_type": "code",
      "metadata": {
        "id": "gokyePUYOtO8",
        "colab_type": "code",
        "colab": {}
      },
      "source": [
        "sample_sub = pd.read_csv('/content/{/content}/competitions/champs-scalar-coupling/sample_submission.csv.zip')"
      ],
      "execution_count": 0,
      "outputs": []
    },
    {
      "cell_type": "code",
      "metadata": {
        "id": "_f9ifGxkPYjj",
        "colab_type": "code",
        "colab": {
          "base_uri": "https://localhost:8080/",
          "height": 248
        },
        "outputId": "0d8315a6-76da-4af5-9d09-40f4949845d7"
      },
      "source": [
        "sample_sub.head()"
      ],
      "execution_count": 30,
      "outputs": [
        {
          "output_type": "execute_result",
          "data": {
            "text/html": [
              "<div>\n",
              "<style scoped>\n",
              "    .dataframe tbody tr th:only-of-type {\n",
              "        vertical-align: middle;\n",
              "    }\n",
              "\n",
              "    .dataframe tbody tr th {\n",
              "        vertical-align: top;\n",
              "    }\n",
              "\n",
              "    .dataframe thead th {\n",
              "        text-align: right;\n",
              "    }\n",
              "</style>\n",
              "<table border=\"1\" class=\"dataframe\">\n",
              "  <thead>\n",
              "    <tr style=\"text-align: right;\">\n",
              "      <th></th>\n",
              "      <th>id</th>\n",
              "      <th>scalar_coupling_constant</th>\n",
              "    </tr>\n",
              "  </thead>\n",
              "  <tbody>\n",
              "    <tr>\n",
              "      <th>0</th>\n",
              "      <td>4658147</td>\n",
              "      <td>0</td>\n",
              "    </tr>\n",
              "    <tr>\n",
              "      <th>1</th>\n",
              "      <td>4658148</td>\n",
              "      <td>0</td>\n",
              "    </tr>\n",
              "    <tr>\n",
              "      <th>2</th>\n",
              "      <td>4658149</td>\n",
              "      <td>0</td>\n",
              "    </tr>\n",
              "    <tr>\n",
              "      <th>3</th>\n",
              "      <td>4658150</td>\n",
              "      <td>0</td>\n",
              "    </tr>\n",
              "    <tr>\n",
              "      <th>4</th>\n",
              "      <td>4658151</td>\n",
              "      <td>0</td>\n",
              "    </tr>\n",
              "  </tbody>\n",
              "</table>\n",
              "</div>"
            ],
            "text/plain": [
              "        id  scalar_coupling_constant\n",
              "0  4658147                         0\n",
              "1  4658148                         0\n",
              "2  4658149                         0\n",
              "3  4658150                         0\n",
              "4  4658151                         0"
            ]
          },
          "metadata": {
            "tags": []
          },
          "execution_count": 30
        }
      ]
    },
    {
      "cell_type": "code",
      "metadata": {
        "id": "wJ0t8ju5PaA7",
        "colab_type": "code",
        "colab": {}
      },
      "source": [
        ""
      ],
      "execution_count": 0,
      "outputs": []
    }
  ]
}