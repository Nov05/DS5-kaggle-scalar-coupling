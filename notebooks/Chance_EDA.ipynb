{
  "nbformat": 4,
  "nbformat_minor": 0,
  "metadata": {
    "colab": {
      "name": "Chance_EDA.ipynb",
      "version": "0.3.2",
      "provenance": [],
      "include_colab_link": true
    },
    "kernelspec": {
      "name": "python3",
      "display_name": "Python 3"
    },
    "accelerator": "GPU"
  },
  "cells": [
    {
      "cell_type": "markdown",
      "metadata": {
        "id": "view-in-github",
        "colab_type": "text"
      },
      "source": [
        "<a href=\"https://colab.research.google.com/github/elizabethts/DS5-kaggle-scalar-coupling/blob/master/notebooks/Chance_EDA.ipynb\" target=\"_parent\"><img src=\"https://colab.research.google.com/assets/colab-badge.svg\" alt=\"Open In Colab\"/></a>"
      ]
    },
    {
      "cell_type": "code",
      "metadata": {
        "id": "kV4ioyBw3Aw-",
        "colab_type": "code",
        "colab": {}
      },
      "source": [
        "# !pip install kaggle\n",
        "# !mkdir .kaggle\n",
        "\n",
        "import json\n",
        "token = ''\n",
        "with open('/content/.kaggle/kaggle.json', 'w') as file:\n",
        "    json.dump(token, file)\n",
        "    \n",
        "!cp /content/.kaggle/kaggle.json ~/.kaggle/kaggle.json\n",
        "!kaggle config set -n path -v{/content}\n",
        "\n",
        "!chmod 600 /root/.kaggle/kaggle.json\n",
        "\n",
        "\n",
        "!kaggle competitions download -c champs-scalar-coupling"
      ],
      "execution_count": 0,
      "outputs": []
    },
    {
      "cell_type": "code",
      "metadata": {
        "id": "BAnQ3CJlRdCv",
        "colab_type": "code",
        "colab": {}
      },
      "source": [
        "from google.colab import files\n",
        "import pandas as pd\n",
        "from sklearn.model_selection import train_test_split\n",
        "from sklearn.linear_model import LinearRegression\n",
        "from sklearn.ensemble import RandomForestRegressor\n",
        "import matplotlib.pyplot as plt\n",
        "# !pip install category_encoders\n",
        "from category_encoders import OrdinalEncoder\n",
        "from sklearn.pipeline import make_pipeline\n",
        "from sklearn.metrics import mean_absolute_error\n",
        "import numpy as np\n",
        "import xgboost as xgb\n",
        "from xgboost import XGBRegressor"
      ],
      "execution_count": 0,
      "outputs": []
    },
    {
      "cell_type": "code",
      "metadata": {
        "id": "MD-0peGV3tig",
        "colab_type": "code",
        "colab": {}
      },
      "source": [
        "# !unzip /content/{/content}/competitions/champs-scalar-coupling/dipole_moments.csv.zip\n",
        "# !unzip /content/{/content}/competitions/champs-scalar-coupling/structures.csv.zip\n",
        "# !unzip /content/{/content}/competitions/champs-scalar-coupling/scalar_coupling_contributions.csv.zip"
      ],
      "execution_count": 0,
      "outputs": []
    },
    {
      "cell_type": "code",
      "metadata": {
        "id": "FiB4jhrGDCOH",
        "colab_type": "code",
        "colab": {}
      },
      "source": [
        "trainval = pd.read_csv('/content/{/content}/competitions/champs-scalar-coupling/train.csv.zip')\n",
        "test = pd.read_csv('/content/{/content}/competitions/champs-scalar-coupling/test.csv.zip')\n",
        "structures = pd.read_csv('/content/structures.csv')\n",
        "dipole = pd.read_csv('/content/dipole_moments.csv')\n",
        "contrib = pd.read_csv('/content/scalar_coupling_contributions.csv')"
      ],
      "execution_count": 0,
      "outputs": []
    },
    {
      "cell_type": "code",
      "metadata": {
        "id": "-UX4Jy3ec7oA",
        "colab_type": "code",
        "colab": {}
      },
      "source": [
        "def merge_train_structures(train, structures):\n",
        "  \n",
        "  \"\"\"This function is used to merge the structures dataset to the \n",
        "     original train dataset\n",
        "     \n",
        "     Parameters:\n",
        "     ===========\n",
        "\t   train: train dataframe\n",
        "\t   structures: structures dataframe.\n",
        "     \n",
        "     Output:\n",
        "\t   ===========\n",
        "\t   dataframe: merged dataframe\n",
        "     \"\"\"\n",
        "  \n",
        "  structures = structures.rename({'atom_index': 'atom_index_0',\n",
        "                                  'x':'x_0', 'y':'y_0', 'z':'z_0',\n",
        "                                  'atom':'atom_0'}, axis=1)\n",
        "  \n",
        "  merged = pd.merge(train, structures, on=['molecule_name', 'atom_index_0'])\n",
        "  \n",
        "  structures = structures.rename({'atom_index_0': 'atom_index_1',\n",
        "                                  'x_0':'x_1', 'y_0':'y_1', 'z_0':'z_1',\n",
        "                                  'atom_0':'atom_1'}, axis=1)\n",
        "  \n",
        "  merged_1 = pd.merge(merged, structures, on=['molecule_name', 'atom_index_1'])\n",
        "  \n",
        "  structures = structures.rename({'atom_index_1': 'atom_index',\n",
        "                                  'x_1':'x', 'y_1':'y', 'z_1':'z',\n",
        "                                  'atom_1':'atom'}, axis=1)\n",
        "  \n",
        "  assert train.shape[0] == merged.shape[0]\n",
        "  \n",
        "  return merged_1"
      ],
      "execution_count": 0,
      "outputs": []
    },
    {
      "cell_type": "code",
      "metadata": {
        "id": "Xp0WIu0kY97d",
        "colab_type": "code",
        "colab": {}
      },
      "source": [
        "merged = merge_train_structures(trainval, structures)"
      ],
      "execution_count": 0,
      "outputs": []
    },
    {
      "cell_type": "code",
      "metadata": {
        "id": "Pq56ueOz4vaY",
        "colab_type": "code",
        "colab": {}
      },
      "source": [
        "def fe(df):\n",
        "#   df['dihedral_angle'] = abs(df['x_0'] * df['x_1'] + df['y_0'] * df['y_1'] + df['z_0'] * df['z_1']) / (np.sqrt(np.square(df['x_0']) + np.square(df['y_0']) + np.square(df['z_0'])) * (np.sqrt(np.square(df['x_1']) + np.square(df['y_1']) + np.square(df['z_1']))))\n",
        "  df['bond'] = df['type'].str[2:]\n",
        "  df['j_type'] = df['type'].str[:2]\n",
        "  df['distance'] = np.power((np.power((df['x_1'] - df['x_0']), 2) + np.power((df['y_1'] - df['y_0']), 2) + np.power((df['z_1'] - df['z_0']), 2)), 0.5)\n",
        "  df = pd.merge(df, contrib, on=['molecule_name', 'atom_index_0', 'atom_index_1', 'type'])"
      ],
      "execution_count": 0,
      "outputs": []
    },
    {
      "cell_type": "code",
      "metadata": {
        "id": "PK54PkhzBTAB",
        "colab_type": "code",
        "colab": {}
      },
      "source": [
        "fe(merged)\n"
      ],
      "execution_count": 0,
      "outputs": []
    },
    {
      "cell_type": "code",
      "metadata": {
        "id": "tzURfs5j6DiF",
        "colab_type": "code",
        "colab": {}
      },
      "source": [
        "merged = pd.merge(merged, contrib, on=['molecule_name', 'atom_index_0', 'atom_index_1', 'type'])"
      ],
      "execution_count": 0,
      "outputs": []
    },
    {
      "cell_type": "code",
      "metadata": {
        "id": "7EGddBS_OPf4",
        "colab_type": "code",
        "outputId": "70f18bfb-0520-4dbe-edda-d03f4a7f7dad",
        "colab": {
          "base_uri": "https://localhost:8080/",
          "height": 96
        }
      },
      "source": [
        "train, val = train_test_split(merged, random_state=47)\n",
        "train.shape[0] + val.shape[0] == trainval.shape[0]"
      ],
      "execution_count": 43,
      "outputs": [
        {
          "output_type": "execute_result",
          "data": {
            "text/plain": [
              "True"
            ]
          },
          "metadata": {
            "tags": []
          },
          "execution_count": 43
        }
      ]
    },
    {
      "cell_type": "code",
      "metadata": {
        "id": "pxqo9gDE-z5G",
        "colab_type": "code",
        "colab": {}
      },
      "source": [
        "groups = val['type']\n",
        "\n",
        "def group_lmae(y_true, y_pred, groups, floor=1e-9):\n",
        "  maes = (y_true - y_pred).abs().groupby(groups).mean()\n",
        "  return np.log(maes.map(lambda x: max(x, floor))).mean()"
      ],
      "execution_count": 0,
      "outputs": []
    },
    {
      "cell_type": "code",
      "metadata": {
        "id": "ZGc-qANK7SZL",
        "colab_type": "code",
        "colab": {
          "base_uri": "https://localhost:8080/",
          "height": 248
        },
        "outputId": "41173b85-f910-4a60-c1a5-fab8979a62be"
      },
      "source": [
        "merged.head()"
      ],
      "execution_count": 52,
      "outputs": [
        {
          "output_type": "execute_result",
          "data": {
            "text/html": [
              "<div>\n",
              "<style scoped>\n",
              "    .dataframe tbody tr th:only-of-type {\n",
              "        vertical-align: middle;\n",
              "    }\n",
              "\n",
              "    .dataframe tbody tr th {\n",
              "        vertical-align: top;\n",
              "    }\n",
              "\n",
              "    .dataframe thead th {\n",
              "        text-align: right;\n",
              "    }\n",
              "</style>\n",
              "<table border=\"1\" class=\"dataframe\">\n",
              "  <thead>\n",
              "    <tr style=\"text-align: right;\">\n",
              "      <th></th>\n",
              "      <th>id</th>\n",
              "      <th>molecule_name</th>\n",
              "      <th>atom_index_0</th>\n",
              "      <th>atom_index_1</th>\n",
              "      <th>type</th>\n",
              "      <th>scalar_coupling_constant</th>\n",
              "      <th>atom_0</th>\n",
              "      <th>x_0</th>\n",
              "      <th>y_0</th>\n",
              "      <th>z_0</th>\n",
              "      <th>atom_1</th>\n",
              "      <th>x_1</th>\n",
              "      <th>y_1</th>\n",
              "      <th>z_1</th>\n",
              "      <th>bond</th>\n",
              "      <th>j_type</th>\n",
              "      <th>distance</th>\n",
              "      <th>fc</th>\n",
              "      <th>sd</th>\n",
              "      <th>pso</th>\n",
              "      <th>dso</th>\n",
              "    </tr>\n",
              "  </thead>\n",
              "  <tbody>\n",
              "    <tr>\n",
              "      <th>0</th>\n",
              "      <td>0</td>\n",
              "      <td>dsgdb9nsd_000001</td>\n",
              "      <td>1</td>\n",
              "      <td>0</td>\n",
              "      <td>1JHC</td>\n",
              "      <td>84.8076</td>\n",
              "      <td>H</td>\n",
              "      <td>0.002150</td>\n",
              "      <td>-0.006031</td>\n",
              "      <td>0.001976</td>\n",
              "      <td>C</td>\n",
              "      <td>-0.012698</td>\n",
              "      <td>1.085804</td>\n",
              "      <td>0.008001</td>\n",
              "      <td>HC</td>\n",
              "      <td>1J</td>\n",
              "      <td>1.091953</td>\n",
              "      <td>83.0224</td>\n",
              "      <td>0.254579</td>\n",
              "      <td>1.25862</td>\n",
              "      <td>0.272010</td>\n",
              "    </tr>\n",
              "    <tr>\n",
              "      <th>1</th>\n",
              "      <td>4</td>\n",
              "      <td>dsgdb9nsd_000001</td>\n",
              "      <td>2</td>\n",
              "      <td>0</td>\n",
              "      <td>1JHC</td>\n",
              "      <td>84.8074</td>\n",
              "      <td>H</td>\n",
              "      <td>1.011731</td>\n",
              "      <td>1.463751</td>\n",
              "      <td>0.000277</td>\n",
              "      <td>C</td>\n",
              "      <td>-0.012698</td>\n",
              "      <td>1.085804</td>\n",
              "      <td>0.008001</td>\n",
              "      <td>HC</td>\n",
              "      <td>1J</td>\n",
              "      <td>1.091952</td>\n",
              "      <td>83.0222</td>\n",
              "      <td>0.254585</td>\n",
              "      <td>1.25861</td>\n",
              "      <td>0.272013</td>\n",
              "    </tr>\n",
              "    <tr>\n",
              "      <th>2</th>\n",
              "      <td>7</td>\n",
              "      <td>dsgdb9nsd_000001</td>\n",
              "      <td>3</td>\n",
              "      <td>0</td>\n",
              "      <td>1JHC</td>\n",
              "      <td>84.8093</td>\n",
              "      <td>H</td>\n",
              "      <td>-0.540815</td>\n",
              "      <td>1.447527</td>\n",
              "      <td>-0.876644</td>\n",
              "      <td>C</td>\n",
              "      <td>-0.012698</td>\n",
              "      <td>1.085804</td>\n",
              "      <td>0.008001</td>\n",
              "      <td>HC</td>\n",
              "      <td>1J</td>\n",
              "      <td>1.091946</td>\n",
              "      <td>83.0241</td>\n",
              "      <td>0.254634</td>\n",
              "      <td>1.25856</td>\n",
              "      <td>0.272012</td>\n",
              "    </tr>\n",
              "    <tr>\n",
              "      <th>3</th>\n",
              "      <td>9</td>\n",
              "      <td>dsgdb9nsd_000001</td>\n",
              "      <td>4</td>\n",
              "      <td>0</td>\n",
              "      <td>1JHC</td>\n",
              "      <td>84.8095</td>\n",
              "      <td>H</td>\n",
              "      <td>-0.523814</td>\n",
              "      <td>1.437933</td>\n",
              "      <td>0.906397</td>\n",
              "      <td>C</td>\n",
              "      <td>-0.012698</td>\n",
              "      <td>1.085804</td>\n",
              "      <td>0.008001</td>\n",
              "      <td>HC</td>\n",
              "      <td>1J</td>\n",
              "      <td>1.091948</td>\n",
              "      <td>83.0243</td>\n",
              "      <td>0.254628</td>\n",
              "      <td>1.25856</td>\n",
              "      <td>0.272012</td>\n",
              "    </tr>\n",
              "    <tr>\n",
              "      <th>4</th>\n",
              "      <td>1</td>\n",
              "      <td>dsgdb9nsd_000001</td>\n",
              "      <td>1</td>\n",
              "      <td>2</td>\n",
              "      <td>2JHH</td>\n",
              "      <td>-11.2570</td>\n",
              "      <td>H</td>\n",
              "      <td>0.002150</td>\n",
              "      <td>-0.006031</td>\n",
              "      <td>0.001976</td>\n",
              "      <td>H</td>\n",
              "      <td>1.011731</td>\n",
              "      <td>1.463751</td>\n",
              "      <td>0.000277</td>\n",
              "      <td>HH</td>\n",
              "      <td>2J</td>\n",
              "      <td>1.783120</td>\n",
              "      <td>-11.0347</td>\n",
              "      <td>0.352978</td>\n",
              "      <td>2.85839</td>\n",
              "      <td>-3.433600</td>\n",
              "    </tr>\n",
              "  </tbody>\n",
              "</table>\n",
              "</div>"
            ],
            "text/plain": [
              "   id     molecule_name  atom_index_0  ...        sd      pso       dso\n",
              "0   0  dsgdb9nsd_000001             1  ...  0.254579  1.25862  0.272010\n",
              "1   4  dsgdb9nsd_000001             2  ...  0.254585  1.25861  0.272013\n",
              "2   7  dsgdb9nsd_000001             3  ...  0.254634  1.25856  0.272012\n",
              "3   9  dsgdb9nsd_000001             4  ...  0.254628  1.25856  0.272012\n",
              "4   1  dsgdb9nsd_000001             1  ...  0.352978  2.85839 -3.433600\n",
              "\n",
              "[5 rows x 21 columns]"
            ]
          },
          "metadata": {
            "tags": []
          },
          "execution_count": 52
        }
      ]
    },
    {
      "cell_type": "code",
      "metadata": {
        "id": "wJ0t8ju5PaA7",
        "colab_type": "code",
        "outputId": "65b904b3-9b11-4123-cb4a-3ebd93ec1a22",
        "colab": {
          "base_uri": "https://localhost:8080/",
          "height": 252
        }
      },
      "source": [
        "%%time\n",
        "features = ['type', 'atom_1', 'bond', 'j_type', 'distance', 'dso', 'pso']\n",
        "target = 'scalar_coupling_constant'\n",
        "\n",
        "X_train = train[features]\n",
        "y_train = train[target]\n",
        "X_val = val[features]\n",
        "y_val = val[target]\n",
        "\n",
        "y_train_log = np.log1p(y_train)\n",
        "\n",
        "xgbr = XGBRegressor(n_estimators=100,\n",
        "                    random_state=47,\n",
        "                    n_jobs=-1)\n",
        "\n",
        "encoder = OrdinalEncoder()\n",
        "\n",
        "pipe = make_pipeline(encoder, xgbr)\n",
        "pipe.fit(X_train, y_train)\n",
        "\n",
        "y_pred = pipe.predict(X_val)"
      ],
      "execution_count": 53,
      "outputs": [
        {
          "output_type": "stream",
          "text": [
            "/usr/local/lib/python3.6/dist-packages/ipykernel_launcher.py:9: RuntimeWarning: divide by zero encountered in log1p\n",
            "  if __name__ == '__main__':\n",
            "/usr/local/lib/python3.6/dist-packages/ipykernel_launcher.py:9: RuntimeWarning: invalid value encountered in log1p\n",
            "  if __name__ == '__main__':\n",
            "/usr/local/lib/python3.6/dist-packages/xgboost/core.py:587: FutureWarning: Series.base is deprecated and will be removed in a future version\n",
            "  if getattr(data, 'base', None) is not None and \\\n",
            "/usr/local/lib/python3.6/dist-packages/xgboost/core.py:588: FutureWarning: Series.base is deprecated and will be removed in a future version\n",
            "  data.base is not None and isinstance(data, np.ndarray) \\\n"
          ],
          "name": "stderr"
        },
        {
          "output_type": "stream",
          "text": [
            "[03:05:52] WARNING: /workspace/src/objective/regression_obj.cu:152: reg:linear is now deprecated in favor of reg:squarederror.\n",
            "CPU times: user 6min 18s, sys: 484 ms, total: 6min 19s\n",
            "Wall time: 3min 37s\n"
          ],
          "name": "stdout"
        }
      ]
    },
    {
      "cell_type": "code",
      "metadata": {
        "id": "6a53UDRr_h5Y",
        "colab_type": "code",
        "outputId": "e94dd0f5-49ad-4aa5-fe09-bd40cd4d8c1d",
        "colab": {
          "base_uri": "https://localhost:8080/",
          "height": 76
        }
      },
      "source": [
        "group_lmae(y_val, y_pred, groups)"
      ],
      "execution_count": 54,
      "outputs": [
        {
          "output_type": "execute_result",
          "data": {
            "text/plain": [
              "0.717692519740361"
            ]
          },
          "metadata": {
            "tags": []
          },
          "execution_count": 54
        }
      ]
    },
    {
      "cell_type": "code",
      "metadata": {
        "id": "fbkEMD-Ytgt7",
        "colab_type": "code",
        "colab": {
          "base_uri": "https://localhost:8080/",
          "height": 92
        },
        "outputId": "bc865a84-0394-4235-d393-3aa49b353066"
      },
      "source": [
        "importances = xgbr.feature_importances_.astype(float)\n",
        "features = X_train.columns\n",
        "importances"
      ],
      "execution_count": 55,
      "outputs": [
        {
          "output_type": "execute_result",
          "data": {
            "text/plain": [
              "array([5.80838230e-03, 1.38996096e-04, 0.00000000e+00, 9.81952608e-01,\n",
              "       3.97996511e-03, 5.53997932e-03, 2.58003827e-03])"
            ]
          },
          "metadata": {
            "tags": []
          },
          "execution_count": 55
        }
      ]
    },
    {
      "cell_type": "code",
      "metadata": {
        "id": "e0mQOGi80ntK",
        "colab_type": "code",
        "colab": {
          "base_uri": "https://localhost:8080/",
          "height": 92
        },
        "outputId": "2678c5bb-53bd-41d6-d1b9-3418e2366541"
      },
      "source": [
        "print(features.shape)\n",
        "print(importances.shape)"
      ],
      "execution_count": 56,
      "outputs": [
        {
          "output_type": "stream",
          "text": [
            "(7,)\n",
            "(7,)\n"
          ],
          "name": "stdout"
        }
      ]
    },
    {
      "cell_type": "code",
      "metadata": {
        "id": "taeu_Q4Vxk3_",
        "colab_type": "code",
        "colab": {
          "base_uri": "https://localhost:8080/",
          "height": 307
        },
        "outputId": "decda6ff-fc7a-4657-f9a4-88ecd663d626"
      },
      "source": [
        "plt.barh(features, importances)"
      ],
      "execution_count": 57,
      "outputs": [
        {
          "output_type": "execute_result",
          "data": {
            "text/plain": [
              "<BarContainer object of 7 artists>"
            ]
          },
          "metadata": {
            "tags": []
          },
          "execution_count": 57
        },
        {
          "output_type": "display_data",
          "data": {
            "image/png": "[encoded data removed]",
            "text/plain": [
              "<Figure size 432x288 with 1 Axes>"
            ]
          },
          "metadata": {
            "tags": []
          }
        }
      ]
    },
    {
      "cell_type": "code",
      "metadata": {
        "id": "AYmKf-lp0EOC",
        "colab_type": "code",
        "colab": {}
      },
      "source": [
        "test_merged = merge_train_structures(test, structures)"
      ],
      "execution_count": 0,
      "outputs": []
    },
    {
      "cell_type": "code",
      "metadata": {
        "id": "yzxs1RY8A-Vl",
        "colab_type": "code",
        "colab": {}
      },
      "source": [
        "fe(test_merged)"
      ],
      "execution_count": 0,
      "outputs": []
    },
    {
      "cell_type": "code",
      "metadata": {
        "id": "jkvZrIQa6-io",
        "colab_type": "code",
        "colab": {}
      },
      "source": [
        "test = pd.merge(test, contrib, on=['molecule_name', 'atom_index_0', 'atom_index_1', 'type'])"
      ],
      "execution_count": 0,
      "outputs": []
    },
    {
      "cell_type": "code",
      "metadata": {
        "id": "jI5MWkB5Bnrv",
        "colab_type": "code",
        "colab": {}
      },
      "source": [
        "y_pred = pipe.predict(test_merged[features])"
      ],
      "execution_count": 0,
      "outputs": []
    },
    {
      "cell_type": "code",
      "metadata": {
        "id": "NM80awplBzhN",
        "colab_type": "code",
        "colab": {}
      },
      "source": [
        "sub = pd.DataFrame(data = {\n",
        "    'id': test_merged['id'],\n",
        "    'scalar_coupling_constant': y_pred \n",
        "})\n",
        "sub.to_csv('submissionscalar.csv', index=False)"
      ],
      "execution_count": 0,
      "outputs": []
    },
    {
      "cell_type": "code",
      "metadata": {
        "id": "d7luQGC9DHX6",
        "colab_type": "code",
        "colab": {}
      },
      "source": [
        "files.download('submissionscalar.csv')"
      ],
      "execution_count": 0,
      "outputs": []
    },
    {
      "cell_type": "code",
      "metadata": {
        "id": "VQLhXvVc1bP9",
        "colab_type": "code",
        "colab": {}
      },
      "source": [
        "merged = pd.merge(merged, contrib, on=['molecule_name', 'atom_index_0', 'atom_index_1'])"
      ],
      "execution_count": 0,
      "outputs": []
    },
    {
      "cell_type": "code",
      "metadata": {
        "id": "eXeQRgqR1cBn",
        "colab_type": "code",
        "colab": {
          "base_uri": "https://localhost:8080/",
          "height": 248
        },
        "outputId": "60b01414-c03e-49e2-da86-da2369eb6478"
      },
      "source": [
        "merged.head()"
      ],
      "execution_count": 25,
      "outputs": [
        {
          "output_type": "execute_result",
          "data": {
            "text/html": [
              "<div>\n",
              "<style scoped>\n",
              "    .dataframe tbody tr th:only-of-type {\n",
              "        vertical-align: middle;\n",
              "    }\n",
              "\n",
              "    .dataframe tbody tr th {\n",
              "        vertical-align: top;\n",
              "    }\n",
              "\n",
              "    .dataframe thead th {\n",
              "        text-align: right;\n",
              "    }\n",
              "</style>\n",
              "<table border=\"1\" class=\"dataframe\">\n",
              "  <thead>\n",
              "    <tr style=\"text-align: right;\">\n",
              "      <th></th>\n",
              "      <th>id</th>\n",
              "      <th>molecule_name</th>\n",
              "      <th>atom_index_0</th>\n",
              "      <th>atom_index_1</th>\n",
              "      <th>type</th>\n",
              "      <th>scalar_coupling_constant</th>\n",
              "      <th>atom_0</th>\n",
              "      <th>x_0</th>\n",
              "      <th>y_0</th>\n",
              "      <th>z_0</th>\n",
              "      <th>atom_1</th>\n",
              "      <th>x_1</th>\n",
              "      <th>y_1</th>\n",
              "      <th>z_1</th>\n",
              "      <th>bond</th>\n",
              "      <th>j_type</th>\n",
              "      <th>distance</th>\n",
              "    </tr>\n",
              "  </thead>\n",
              "  <tbody>\n",
              "    <tr>\n",
              "      <th>0</th>\n",
              "      <td>0</td>\n",
              "      <td>dsgdb9nsd_000001</td>\n",
              "      <td>1</td>\n",
              "      <td>0</td>\n",
              "      <td>1JHC</td>\n",
              "      <td>84.8076</td>\n",
              "      <td>H</td>\n",
              "      <td>0.002150</td>\n",
              "      <td>-0.006031</td>\n",
              "      <td>0.001976</td>\n",
              "      <td>C</td>\n",
              "      <td>-0.012698</td>\n",
              "      <td>1.085804</td>\n",
              "      <td>0.008001</td>\n",
              "      <td>HC</td>\n",
              "      <td>1J</td>\n",
              "      <td>1.091953</td>\n",
              "    </tr>\n",
              "    <tr>\n",
              "      <th>1</th>\n",
              "      <td>4</td>\n",
              "      <td>dsgdb9nsd_000001</td>\n",
              "      <td>2</td>\n",
              "      <td>0</td>\n",
              "      <td>1JHC</td>\n",
              "      <td>84.8074</td>\n",
              "      <td>H</td>\n",
              "      <td>1.011731</td>\n",
              "      <td>1.463751</td>\n",
              "      <td>0.000277</td>\n",
              "      <td>C</td>\n",
              "      <td>-0.012698</td>\n",
              "      <td>1.085804</td>\n",
              "      <td>0.008001</td>\n",
              "      <td>HC</td>\n",
              "      <td>1J</td>\n",
              "      <td>1.091952</td>\n",
              "    </tr>\n",
              "    <tr>\n",
              "      <th>2</th>\n",
              "      <td>7</td>\n",
              "      <td>dsgdb9nsd_000001</td>\n",
              "      <td>3</td>\n",
              "      <td>0</td>\n",
              "      <td>1JHC</td>\n",
              "      <td>84.8093</td>\n",
              "      <td>H</td>\n",
              "      <td>-0.540815</td>\n",
              "      <td>1.447527</td>\n",
              "      <td>-0.876644</td>\n",
              "      <td>C</td>\n",
              "      <td>-0.012698</td>\n",
              "      <td>1.085804</td>\n",
              "      <td>0.008001</td>\n",
              "      <td>HC</td>\n",
              "      <td>1J</td>\n",
              "      <td>1.091946</td>\n",
              "    </tr>\n",
              "    <tr>\n",
              "      <th>3</th>\n",
              "      <td>9</td>\n",
              "      <td>dsgdb9nsd_000001</td>\n",
              "      <td>4</td>\n",
              "      <td>0</td>\n",
              "      <td>1JHC</td>\n",
              "      <td>84.8095</td>\n",
              "      <td>H</td>\n",
              "      <td>-0.523814</td>\n",
              "      <td>1.437933</td>\n",
              "      <td>0.906397</td>\n",
              "      <td>C</td>\n",
              "      <td>-0.012698</td>\n",
              "      <td>1.085804</td>\n",
              "      <td>0.008001</td>\n",
              "      <td>HC</td>\n",
              "      <td>1J</td>\n",
              "      <td>1.091948</td>\n",
              "    </tr>\n",
              "    <tr>\n",
              "      <th>4</th>\n",
              "      <td>1</td>\n",
              "      <td>dsgdb9nsd_000001</td>\n",
              "      <td>1</td>\n",
              "      <td>2</td>\n",
              "      <td>2JHH</td>\n",
              "      <td>-11.2570</td>\n",
              "      <td>H</td>\n",
              "      <td>0.002150</td>\n",
              "      <td>-0.006031</td>\n",
              "      <td>0.001976</td>\n",
              "      <td>H</td>\n",
              "      <td>1.011731</td>\n",
              "      <td>1.463751</td>\n",
              "      <td>0.000277</td>\n",
              "      <td>HH</td>\n",
              "      <td>2J</td>\n",
              "      <td>1.783120</td>\n",
              "    </tr>\n",
              "  </tbody>\n",
              "</table>\n",
              "</div>"
            ],
            "text/plain": [
              "   id     molecule_name  atom_index_0  ...  bond j_type  distance\n",
              "0   0  dsgdb9nsd_000001             1  ...    HC     1J  1.091953\n",
              "1   4  dsgdb9nsd_000001             2  ...    HC     1J  1.091952\n",
              "2   7  dsgdb9nsd_000001             3  ...    HC     1J  1.091946\n",
              "3   9  dsgdb9nsd_000001             4  ...    HC     1J  1.091948\n",
              "4   1  dsgdb9nsd_000001             1  ...    HH     2J  1.783120\n",
              "\n",
              "[5 rows x 17 columns]"
            ]
          },
          "metadata": {
            "tags": []
          },
          "execution_count": 25
        }
      ]
    },
    {
      "cell_type": "code",
      "metadata": {
        "id": "l069vLOG2BCX",
        "colab_type": "code",
        "colab": {
          "base_uri": "https://localhost:8080/",
          "height": 248
        },
        "outputId": "d3461860-1c41-44af-bbba-538ad950033d"
      },
      "source": [
        "merged.head()"
      ],
      "execution_count": 21,
      "outputs": [
        {
          "output_type": "execute_result",
          "data": {
            "text/html": [
              "<div>\n",
              "<style scoped>\n",
              "    .dataframe tbody tr th:only-of-type {\n",
              "        vertical-align: middle;\n",
              "    }\n",
              "\n",
              "    .dataframe tbody tr th {\n",
              "        vertical-align: top;\n",
              "    }\n",
              "\n",
              "    .dataframe thead th {\n",
              "        text-align: right;\n",
              "    }\n",
              "</style>\n",
              "<table border=\"1\" class=\"dataframe\">\n",
              "  <thead>\n",
              "    <tr style=\"text-align: right;\">\n",
              "      <th></th>\n",
              "      <th>id</th>\n",
              "      <th>molecule_name</th>\n",
              "      <th>atom_index_0</th>\n",
              "      <th>atom_index_1</th>\n",
              "      <th>type</th>\n",
              "      <th>scalar_coupling_constant</th>\n",
              "      <th>atom_0</th>\n",
              "      <th>x_0</th>\n",
              "      <th>y_0</th>\n",
              "      <th>z_0</th>\n",
              "      <th>atom_1</th>\n",
              "      <th>x_1</th>\n",
              "      <th>y_1</th>\n",
              "      <th>z_1</th>\n",
              "      <th>bond</th>\n",
              "      <th>j_type</th>\n",
              "      <th>distance</th>\n",
              "    </tr>\n",
              "  </thead>\n",
              "  <tbody>\n",
              "    <tr>\n",
              "      <th>0</th>\n",
              "      <td>0</td>\n",
              "      <td>dsgdb9nsd_000001</td>\n",
              "      <td>1</td>\n",
              "      <td>0</td>\n",
              "      <td>1JHC</td>\n",
              "      <td>84.8076</td>\n",
              "      <td>H</td>\n",
              "      <td>0.002150</td>\n",
              "      <td>-0.006031</td>\n",
              "      <td>0.001976</td>\n",
              "      <td>C</td>\n",
              "      <td>-0.012698</td>\n",
              "      <td>1.085804</td>\n",
              "      <td>0.008001</td>\n",
              "      <td>HC</td>\n",
              "      <td>1J</td>\n",
              "      <td>1.091953</td>\n",
              "    </tr>\n",
              "    <tr>\n",
              "      <th>1</th>\n",
              "      <td>4</td>\n",
              "      <td>dsgdb9nsd_000001</td>\n",
              "      <td>2</td>\n",
              "      <td>0</td>\n",
              "      <td>1JHC</td>\n",
              "      <td>84.8074</td>\n",
              "      <td>H</td>\n",
              "      <td>1.011731</td>\n",
              "      <td>1.463751</td>\n",
              "      <td>0.000277</td>\n",
              "      <td>C</td>\n",
              "      <td>-0.012698</td>\n",
              "      <td>1.085804</td>\n",
              "      <td>0.008001</td>\n",
              "      <td>HC</td>\n",
              "      <td>1J</td>\n",
              "      <td>1.091952</td>\n",
              "    </tr>\n",
              "    <tr>\n",
              "      <th>2</th>\n",
              "      <td>7</td>\n",
              "      <td>dsgdb9nsd_000001</td>\n",
              "      <td>3</td>\n",
              "      <td>0</td>\n",
              "      <td>1JHC</td>\n",
              "      <td>84.8093</td>\n",
              "      <td>H</td>\n",
              "      <td>-0.540815</td>\n",
              "      <td>1.447527</td>\n",
              "      <td>-0.876644</td>\n",
              "      <td>C</td>\n",
              "      <td>-0.012698</td>\n",
              "      <td>1.085804</td>\n",
              "      <td>0.008001</td>\n",
              "      <td>HC</td>\n",
              "      <td>1J</td>\n",
              "      <td>1.091946</td>\n",
              "    </tr>\n",
              "    <tr>\n",
              "      <th>3</th>\n",
              "      <td>9</td>\n",
              "      <td>dsgdb9nsd_000001</td>\n",
              "      <td>4</td>\n",
              "      <td>0</td>\n",
              "      <td>1JHC</td>\n",
              "      <td>84.8095</td>\n",
              "      <td>H</td>\n",
              "      <td>-0.523814</td>\n",
              "      <td>1.437933</td>\n",
              "      <td>0.906397</td>\n",
              "      <td>C</td>\n",
              "      <td>-0.012698</td>\n",
              "      <td>1.085804</td>\n",
              "      <td>0.008001</td>\n",
              "      <td>HC</td>\n",
              "      <td>1J</td>\n",
              "      <td>1.091948</td>\n",
              "    </tr>\n",
              "    <tr>\n",
              "      <th>4</th>\n",
              "      <td>1</td>\n",
              "      <td>dsgdb9nsd_000001</td>\n",
              "      <td>1</td>\n",
              "      <td>2</td>\n",
              "      <td>2JHH</td>\n",
              "      <td>-11.2570</td>\n",
              "      <td>H</td>\n",
              "      <td>0.002150</td>\n",
              "      <td>-0.006031</td>\n",
              "      <td>0.001976</td>\n",
              "      <td>H</td>\n",
              "      <td>1.011731</td>\n",
              "      <td>1.463751</td>\n",
              "      <td>0.000277</td>\n",
              "      <td>HH</td>\n",
              "      <td>2J</td>\n",
              "      <td>1.783120</td>\n",
              "    </tr>\n",
              "  </tbody>\n",
              "</table>\n",
              "</div>"
            ],
            "text/plain": [
              "   id     molecule_name  atom_index_0  ...  bond j_type  distance\n",
              "0   0  dsgdb9nsd_000001             1  ...    HC     1J  1.091953\n",
              "1   4  dsgdb9nsd_000001             2  ...    HC     1J  1.091952\n",
              "2   7  dsgdb9nsd_000001             3  ...    HC     1J  1.091946\n",
              "3   9  dsgdb9nsd_000001             4  ...    HC     1J  1.091948\n",
              "4   1  dsgdb9nsd_000001             1  ...    HH     2J  1.783120\n",
              "\n",
              "[5 rows x 17 columns]"
            ]
          },
          "metadata": {
            "tags": []
          },
          "execution_count": 21
        }
      ]
    },
    {
      "cell_type": "code",
      "metadata": {
        "id": "qx29Z9It6qYL",
        "colab_type": "code",
        "colab": {}
      },
      "source": [
        ""
      ],
      "execution_count": 0,
      "outputs": []
    }
  ]
}