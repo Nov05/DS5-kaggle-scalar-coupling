{
  "nbformat": 4,
  "nbformat_minor": 0,
  "metadata": {
    "colab": {
      "name": "Chance_EDA.ipynb",
      "version": "0.3.2",
      "provenance": [],
      "include_colab_link": true
    },
    "kernelspec": {
      "name": "python3",
      "display_name": "Python 3"
    }
  },
  "cells": [
    {
      "cell_type": "markdown",
      "metadata": {
        "id": "view-in-github",
        "colab_type": "text"
      },
      "source": [
        "<a href=\"https://colab.research.google.com/github/elizabethts/DS5-kaggle-scalar-coupling/blob/master/notebooks/Chance_EDA.ipynb\" target=\"_parent\"><img src=\"https://colab.research.google.com/assets/colab-badge.svg\" alt=\"Open In Colab\"/></a>"
      ]
    },
    {
      "cell_type": "code",
      "metadata": {
        "id": "kV4ioyBw3Aw-",
        "colab_type": "code",
        "outputId": "fed5cbd6-0981-41a6-ffe3-dbff3c21a665",
        "colab": {
          "base_uri": "https://localhost:8080/",
          "height": 925
        }
      },
      "source": [
        "# !pip install kaggle\n",
        "# !mkdir .kaggle\n",
        "\n",
        "import json\n",
        "token = {\"username\":\"chancedurr\",\"key\":\"05529f8f357c5b341a00c7f9fb072dae\"}\n",
        "with open('/content/.kaggle/kaggle.json', 'w') as file:\n",
        "    json.dump(token, file)\n",
        "    \n",
        "!cp /content/.kaggle/kaggle.json ~/.kaggle/kaggle.json\n",
        "!kaggle config set -n path -v{/content}\n",
        "\n",
        "!chmod 600 /root/.kaggle/kaggle.json\n",
        "\n",
        "\n",
        "!kaggle competitions download -c champs-scalar-coupling"
      ],
      "execution_count": 9,
      "outputs": [
        {
          "output_type": "stream",
          "text": [
            "Warning: Your Kaggle API key is readable by other users on this system! To fix this, you can run 'chmod 600 /root/.kaggle/kaggle.json'\n",
            "- path is now set to: {/content}\n",
            "Downloading train.csv.zip to {/content}/competitions/champs-scalar-coupling\n",
            " 56% 25.0M/44.5M [00:00<00:00, 77.2MB/s]\n",
            "100% 44.5M/44.5M [00:00<00:00, 113MB/s] \n",
            "Downloading test.csv.zip to {/content}/competitions/champs-scalar-coupling\n",
            " 45% 6.00M/13.4M [00:00<00:00, 60.3MB/s]\n",
            "100% 13.4M/13.4M [00:00<00:00, 85.1MB/s]\n",
            "Downloading structures.zip to {/content}/competitions/champs-scalar-coupling\n",
            " 95% 60.0M/62.9M [00:00<00:00, 144MB/s]\n",
            "100% 62.9M/62.9M [00:00<00:00, 141MB/s]\n",
            "Downloading structures.csv.zip to {/content}/competitions/champs-scalar-coupling\n",
            " 86% 42.0M/48.7M [00:00<00:00, 66.9MB/s]\n",
            "100% 48.7M/48.7M [00:00<00:00, 96.8MB/s]\n",
            "Downloading scalar_coupling_contributions.csv.zip to {/content}/competitions/champs-scalar-coupling\n",
            " 88% 76.0M/86.6M [00:00<00:00, 106MB/s] \n",
            "100% 86.6M/86.6M [00:00<00:00, 126MB/s]\n",
            "Downloading sample_submission.csv.zip to {/content}/competitions/champs-scalar-coupling\n",
            "  0% 0.00/5.31M [00:00<?, ?B/s]\n",
            "100% 5.31M/5.31M [00:00<00:00, 85.8MB/s]\n",
            "Downloading potential_energy.csv.zip to {/content}/competitions/champs-scalar-coupling\n",
            "  0% 0.00/497k [00:00<?, ?B/s]\n",
            "100% 497k/497k [00:00<00:00, 67.7MB/s]\n",
            "Downloading mulliken_charges.csv.zip to {/content}/competitions/champs-scalar-coupling\n",
            "  0% 0.00/9.24M [00:00<?, ?B/s]\n",
            "100% 9.24M/9.24M [00:00<00:00, 83.7MB/s]\n",
            "Downloading magnetic_shielding_tensors.csv.zip to {/content}/competitions/champs-scalar-coupling\n",
            " 84% 42.0M/49.8M [00:00<00:00, 92.9MB/s]\n",
            "100% 49.8M/49.8M [00:00<00:00, 143MB/s] \n",
            "Downloading dipole_moments.csv.zip to {/content}/competitions/champs-scalar-coupling\n",
            "  0% 0.00/965k [00:00<?, ?B/s]\n",
            "100% 965k/965k [00:00<00:00, 130MB/s]\n"
          ],
          "name": "stdout"
        }
      ]
    },
    {
      "cell_type": "code",
      "metadata": {
        "id": "BAnQ3CJlRdCv",
        "colab_type": "code",
        "colab": {}
      },
      "source": [
        "import pandas as pd\n",
        "from sklearn.model_selection import train_test_split\n",
        "from sklearn.linear_model import LinearRegression\n",
        "from sklearn.ensemble import RandomForestRegressor\n",
        "import matplotlib.pyplot as plt\n",
        "# !pip install category_encoders\n",
        "from category_encoders import OrdinalEncoder\n",
        "from sklearn.pipeline import make_pipeline\n",
        "from sklearn.metrics import mean_absolute_error\n",
        "import numpy as np\n",
        "import xgboost as xgb\n",
        "from xgboost import XGBRegressor"
      ],
      "execution_count": 0,
      "outputs": []
    },
    {
      "cell_type": "code",
      "metadata": {
        "id": "FiB4jhrGDCOH",
        "colab_type": "code",
        "colab": {}
      },
      "source": [
        "trainval = pd.read_csv('/content/{/content}/competitions/champs-scalar-coupling/train.csv.zip')\n",
        "test = pd.read_csv('/content/{/content}/competitions/champs-scalar-coupling/test.csv.zip')\n",
        "structures = pd.read_csv('/content/structures.csv')"
      ],
      "execution_count": 0,
      "outputs": []
    },
    {
      "cell_type": "code",
      "metadata": {
        "id": "-UX4Jy3ec7oA",
        "colab_type": "code",
        "colab": {}
      },
      "source": [
        "def merge_train_structures(train, structures):\n",
        "  \n",
        "  \"\"\"This function is used to merge the structures dataset to the \n",
        "     original train dataset\n",
        "     \n",
        "     Parameters:\n",
        "     ===========\n",
        "\t   train: train dataframe\n",
        "\t   structures: structures dataframe.\n",
        "     \n",
        "     Output:\n",
        "\t   ===========\n",
        "\t   dataframe: merged dataframe\n",
        "     \"\"\"\n",
        "  \n",
        "  structures = structures.rename({'atom_index': 'atom_index_0',\n",
        "                                  'x':'x_0', 'y':'y_0', 'z':'z_0',\n",
        "                                  'atom':'atom_0'}, axis=1)\n",
        "  \n",
        "  merged = pd.merge(train, structures, on=['molecule_name', 'atom_index_0'])\n",
        "  \n",
        "  structures = structures.rename({'atom_index_0': 'atom_index_1',\n",
        "                                  'x_0':'x_1', 'y_0':'y_1', 'z_0':'z_1',\n",
        "                                  'atom_0':'atom_1'}, axis=1)\n",
        "  \n",
        "  merged_1 = pd.merge(merged, structures, on=['molecule_name', 'atom_index_1'])\n",
        "  \n",
        "  structures = structures.rename({'atom_index_1': 'atom_index',\n",
        "                                  'x_1':'x', 'y_1':'y', 'z_1':'z',\n",
        "                                  'atom_1':'atom'}, axis=1)\n",
        "  \n",
        "  assert train.shape[0] == merged.shape[0]\n",
        "  \n",
        "  return merged_1"
      ],
      "execution_count": 0,
      "outputs": []
    },
    {
      "cell_type": "code",
      "metadata": {
        "id": "Xp0WIu0kY97d",
        "colab_type": "code",
        "colab": {}
      },
      "source": [
        "merged = merge_train_structures(trainval, structures)"
      ],
      "execution_count": 0,
      "outputs": []
    },
    {
      "cell_type": "code",
      "metadata": {
        "id": "Pq56ueOz4vaY",
        "colab_type": "code",
        "colab": {}
      },
      "source": [
        "merged['dihedral_angle'] = abs(merged['x_0'] * merged['x_1'] + merged['y_0'] * merged['y_1'] + merged['z_0'] * merged['z_1']) / (np.sqrt(np.square(merged['x_0']) + np.square(merged['y_0']) + np.square(merged['z_0'])) * (np.sqrt(np.square(merged['x_1']) + np.square(merged['y_1']) + np.square(merged['z_1']))))"
      ],
      "execution_count": 0,
      "outputs": []
    },
    {
      "cell_type": "code",
      "metadata": {
        "id": "7EGddBS_OPf4",
        "colab_type": "code",
        "outputId": "0bd4219f-dc16-4551-aedf-ab0d61a30d7b",
        "colab": {
          "base_uri": "https://localhost:8080/",
          "height": 136
        }
      },
      "source": [
        "train, val = train_test_split(merged, random_state=47)\n",
        "train.shape[0] + val.shape[0] == trainval.shape[0]"
      ],
      "execution_count": 78,
      "outputs": [
        {
          "output_type": "execute_result",
          "data": {
            "text/plain": [
              "True"
            ]
          },
          "metadata": {
            "tags": []
          },
          "execution_count": 78
        }
      ]
    },
    {
      "cell_type": "code",
      "metadata": {
        "id": "pxqo9gDE-z5G",
        "colab_type": "code",
        "colab": {}
      },
      "source": [
        "groups = val['type']\n",
        "\n",
        "def group_lmae(y_true, y_pred, groups, floor=1e-9):\n",
        "  maes = (y_true - y_pred).abs().groupby(groups).mean()\n",
        "  return np.log(maes.map(lambda x: max(x, floor))).mean()"
      ],
      "execution_count": 0,
      "outputs": []
    },
    {
      "cell_type": "code",
      "metadata": {
        "id": "wJ0t8ju5PaA7",
        "colab_type": "code",
        "outputId": "0ae5f144-b952-4737-d1be-043447c76e60",
        "colab": {
          "base_uri": "https://localhost:8080/",
          "height": 252
        }
      },
      "source": [
        "%%time\n",
        "features = ['type', 'atom_1', 'dihedral_angle']\n",
        "target = 'scalar_coupling_constant'\n",
        "\n",
        "X_train = train[features]\n",
        "y_train = train[target]\n",
        "X_val = val[features]\n",
        "y_val = val[target]\n",
        "\n",
        "y_train_log = np.log1p(y_train)\n",
        "\n",
        "xgbr = XGBRegressor(n_estimators=100,\n",
        "                    random_state=47,\n",
        "                    n_jobs=-1)\n",
        "\n",
        "encoder = OrdinalEncoder()\n",
        "\n",
        "pipe = make_pipeline(encoder, xgbr)\n",
        "pipe.fit(X_train, y_train)\n",
        "\n",
        "y_pred = pipe.predict(X_val)"
      ],
      "execution_count": 85,
      "outputs": [
        {
          "output_type": "stream",
          "text": [
            "/usr/local/lib/python3.6/dist-packages/ipykernel_launcher.py:9: RuntimeWarning: divide by zero encountered in log1p\n",
            "  if __name__ == '__main__':\n",
            "/usr/local/lib/python3.6/dist-packages/ipykernel_launcher.py:9: RuntimeWarning: invalid value encountered in log1p\n",
            "  if __name__ == '__main__':\n",
            "/usr/local/lib/python3.6/dist-packages/xgboost/core.py:587: FutureWarning: Series.base is deprecated and will be removed in a future version\n",
            "  if getattr(data, 'base', None) is not None and \\\n",
            "/usr/local/lib/python3.6/dist-packages/xgboost/core.py:588: FutureWarning: Series.base is deprecated and will be removed in a future version\n",
            "  data.base is not None and isinstance(data, np.ndarray) \\\n"
          ],
          "name": "stderr"
        },
        {
          "output_type": "stream",
          "text": [
            "[22:22:32] WARNING: /workspace/src/objective/regression_obj.cu:152: reg:linear is now deprecated in favor of reg:squarederror.\n",
            "CPU times: user 4min 55s, sys: 227 ms, total: 4min 56s\n",
            "Wall time: 2min 54s\n"
          ],
          "name": "stdout"
        }
      ]
    },
    {
      "cell_type": "code",
      "metadata": {
        "id": "6a53UDRr_h5Y",
        "colab_type": "code",
        "outputId": "210aeb9f-9ab7-475d-bf6b-7e6c366ac385",
        "colab": {
          "base_uri": "https://localhost:8080/",
          "height": 76
        }
      },
      "source": [
        "group_lmae(y_val, y_pred, groups)"
      ],
      "execution_count": 86,
      "outputs": [
        {
          "output_type": "execute_result",
          "data": {
            "text/plain": [
              "1.2223153335410397"
            ]
          },
          "metadata": {
            "tags": []
          },
          "execution_count": 86
        }
      ]
    },
    {
      "cell_type": "code",
      "metadata": {
        "id": "fbkEMD-Ytgt7",
        "colab_type": "code",
        "colab": {
          "base_uri": "https://localhost:8080/",
          "height": 76
        },
        "outputId": "cf32cfc0-a992-45b4-d1ca-72236be95f2f"
      },
      "source": [
        "importances = xgbr.feature_importances_.astype(float)\n",
        "features = X_train.columns\n",
        "importances"
      ],
      "execution_count": 87,
      "outputs": [
        {
          "output_type": "execute_result",
          "data": {
            "text/plain": [
              "array([0.79514909, 0.12585007, 0.07900086])"
            ]
          },
          "metadata": {
            "tags": []
          },
          "execution_count": 87
        }
      ]
    },
    {
      "cell_type": "code",
      "metadata": {
        "id": "e0mQOGi80ntK",
        "colab_type": "code",
        "colab": {
          "base_uri": "https://localhost:8080/",
          "height": 92
        },
        "outputId": "6693f23d-24f7-47f4-e509-502c001b19b9"
      },
      "source": [
        "print(features.shape)\n",
        "print(importances.shape)"
      ],
      "execution_count": 88,
      "outputs": [
        {
          "output_type": "stream",
          "text": [
            "(3,)\n",
            "(3,)\n"
          ],
          "name": "stdout"
        }
      ]
    },
    {
      "cell_type": "code",
      "metadata": {
        "id": "taeu_Q4Vxk3_",
        "colab_type": "code",
        "colab": {
          "base_uri": "https://localhost:8080/",
          "height": 307
        },
        "outputId": "ba637b6e-7214-4ace-8d74-d1e7d7f9c487"
      },
      "source": [
        "plt.barh(features, importances)"
      ],
      "execution_count": 89,
      "outputs": [
        {
          "output_type": "execute_result",
          "data": {
            "text/plain": [
              "<BarContainer object of 3 artists>"
            ]
          },
          "metadata": {
            "tags": []
          },
          "execution_count": 89
        },
        {
          "output_type": "display_data",
          "data": {
            "image/png": "[encoded data removed]",
            "text/plain": [
              "<Figure size 432x288 with 1 Axes>"
            ]
          },
          "metadata": {
            "tags": []
          }
        }
      ]
    },
    {
      "cell_type": "code",
      "metadata": {
        "id": "AYmKf-lp0EOC",
        "colab_type": "code",
        "colab": {}
      },
      "source": [
        ""
      ],
      "execution_count": 0,
      "outputs": []
    },
    {
      "cell_type": "code",
      "metadata": {
        "id": "wwFD6iay4ps0",
        "colab_type": "code",
        "colab": {
          "base_uri": "https://localhost:8080/",
          "height": 288
        },
        "outputId": "6ae9cfc1-cb53-4f59-ee46-7bea235bb70c"
      },
      "source": [
        "merged.head()"
      ],
      "execution_count": 73,
      "outputs": [
        {
          "output_type": "execute_result",
          "data": {
            "text/html": [
              "<div>\n",
              "<style scoped>\n",
              "    .dataframe tbody tr th:only-of-type {\n",
              "        vertical-align: middle;\n",
              "    }\n",
              "\n",
              "    .dataframe tbody tr th {\n",
              "        vertical-align: top;\n",
              "    }\n",
              "\n",
              "    .dataframe thead th {\n",
              "        text-align: right;\n",
              "    }\n",
              "</style>\n",
              "<table border=\"1\" class=\"dataframe\">\n",
              "  <thead>\n",
              "    <tr style=\"text-align: right;\">\n",
              "      <th></th>\n",
              "      <th>id</th>\n",
              "      <th>molecule_name</th>\n",
              "      <th>atom_index_0</th>\n",
              "      <th>atom_index_1</th>\n",
              "      <th>type</th>\n",
              "      <th>scalar_coupling_constant</th>\n",
              "      <th>atom_0</th>\n",
              "      <th>x_0</th>\n",
              "      <th>y_0</th>\n",
              "      <th>z_0</th>\n",
              "      <th>atom_1</th>\n",
              "      <th>x_1</th>\n",
              "      <th>y_1</th>\n",
              "      <th>z_1</th>\n",
              "      <th>dihedral_angle</th>\n",
              "    </tr>\n",
              "  </thead>\n",
              "  <tbody>\n",
              "    <tr>\n",
              "      <th>0</th>\n",
              "      <td>0</td>\n",
              "      <td>dsgdb9nsd_000001</td>\n",
              "      <td>1</td>\n",
              "      <td>0</td>\n",
              "      <td>1JHC</td>\n",
              "      <td>84.8076</td>\n",
              "      <td>H</td>\n",
              "      <td>0.002150</td>\n",
              "      <td>-0.006031</td>\n",
              "      <td>0.001976</td>\n",
              "      <td>C</td>\n",
              "      <td>-0.012698</td>\n",
              "      <td>1.085804</td>\n",
              "      <td>0.008001</td>\n",
              "      <td>0.901529</td>\n",
              "    </tr>\n",
              "    <tr>\n",
              "      <th>1</th>\n",
              "      <td>4</td>\n",
              "      <td>dsgdb9nsd_000001</td>\n",
              "      <td>2</td>\n",
              "      <td>0</td>\n",
              "      <td>1JHC</td>\n",
              "      <td>84.8074</td>\n",
              "      <td>H</td>\n",
              "      <td>1.011731</td>\n",
              "      <td>1.463751</td>\n",
              "      <td>0.000277</td>\n",
              "      <td>C</td>\n",
              "      <td>-0.012698</td>\n",
              "      <td>1.085804</td>\n",
              "      <td>0.008001</td>\n",
              "      <td>0.815896</td>\n",
              "    </tr>\n",
              "    <tr>\n",
              "      <th>2</th>\n",
              "      <td>7</td>\n",
              "      <td>dsgdb9nsd_000001</td>\n",
              "      <td>3</td>\n",
              "      <td>0</td>\n",
              "      <td>1JHC</td>\n",
              "      <td>84.8093</td>\n",
              "      <td>H</td>\n",
              "      <td>-0.540815</td>\n",
              "      <td>1.447527</td>\n",
              "      <td>-0.876644</td>\n",
              "      <td>C</td>\n",
              "      <td>-0.012698</td>\n",
              "      <td>1.085804</td>\n",
              "      <td>0.008001</td>\n",
              "      <td>0.814618</td>\n",
              "    </tr>\n",
              "    <tr>\n",
              "      <th>3</th>\n",
              "      <td>9</td>\n",
              "      <td>dsgdb9nsd_000001</td>\n",
              "      <td>4</td>\n",
              "      <td>0</td>\n",
              "      <td>1JHC</td>\n",
              "      <td>84.8095</td>\n",
              "      <td>H</td>\n",
              "      <td>-0.523814</td>\n",
              "      <td>1.437933</td>\n",
              "      <td>0.906397</td>\n",
              "      <td>C</td>\n",
              "      <td>-0.012698</td>\n",
              "      <td>1.085804</td>\n",
              "      <td>0.008001</td>\n",
              "      <td>0.815563</td>\n",
              "    </tr>\n",
              "    <tr>\n",
              "      <th>4</th>\n",
              "      <td>1</td>\n",
              "      <td>dsgdb9nsd_000001</td>\n",
              "      <td>1</td>\n",
              "      <td>2</td>\n",
              "      <td>2JHH</td>\n",
              "      <td>-11.2570</td>\n",
              "      <td>H</td>\n",
              "      <td>0.002150</td>\n",
              "      <td>-0.006031</td>\n",
              "      <td>0.001976</td>\n",
              "      <td>H</td>\n",
              "      <td>1.011731</td>\n",
              "      <td>1.463751</td>\n",
              "      <td>0.000277</td>\n",
              "      <td>0.557883</td>\n",
              "    </tr>\n",
              "  </tbody>\n",
              "</table>\n",
              "</div>"
            ],
            "text/plain": [
              "   id     molecule_name  atom_index_0  ...       y_1       z_1  dihedral_angle\n",
              "0   0  dsgdb9nsd_000001             1  ...  1.085804  0.008001        0.901529\n",
              "1   4  dsgdb9nsd_000001             2  ...  1.085804  0.008001        0.815896\n",
              "2   7  dsgdb9nsd_000001             3  ...  1.085804  0.008001        0.814618\n",
              "3   9  dsgdb9nsd_000001             4  ...  1.085804  0.008001        0.815563\n",
              "4   1  dsgdb9nsd_000001             1  ...  1.463751  0.000277        0.557883\n",
              "\n",
              "[5 rows x 15 columns]"
            ]
          },
          "metadata": {
            "tags": []
          },
          "execution_count": 73
        }
      ]
    },
    {
      "cell_type": "code",
      "metadata": {
        "id": "_mUFqHu64q5F",
        "colab_type": "code",
        "colab": {}
      },
      "source": [
        ""
      ],
      "execution_count": 0,
      "outputs": []
    }
  ]
}