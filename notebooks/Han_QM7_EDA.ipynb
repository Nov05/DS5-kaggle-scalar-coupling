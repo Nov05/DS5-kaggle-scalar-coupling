{
 "cells": [
  {
   "cell_type": "code",
   "execution_count": 1,
   "metadata": {},
   "outputs": [],
   "source": [
    "import scipy.io\n",
    "import pandas as pd\n",
    "import numpy as np"
   ]
  },
  {
   "cell_type": "code",
   "execution_count": 2,
   "metadata": {},
   "outputs": [],
   "source": [
    "mat = scipy.io.loadmat('../dataset/qm7.mat')"
   ]
  },
  {
   "cell_type": "code",
   "execution_count": 3,
   "metadata": {},
   "outputs": [],
   "source": [
    "mat = {k:v for k, v in mat.items() if k[0] != '_'}"
   ]
  },
  {
   "cell_type": "code",
   "execution_count": 4,
   "metadata": {},
   "outputs": [
    {
     "name": "stdout",
     "output_type": "stream",
     "text": [
      "dict_keys(['X', 'R', 'Z', 'T', 'P'])\n"
     ]
    }
   ],
   "source": [
    "print(mat.keys())"
   ]
  },
  {
   "cell_type": "code",
   "execution_count": 5,
   "metadata": {
    "scrolled": false
   },
   "outputs": [
    {
     "name": "stdout",
     "output_type": "stream",
     "text": [
      "(7165, 23, 23) (1, 7165) (5, 1433) (7165, 23) (7165, 23, 3)\n"
     ]
    }
   ],
   "source": [
    "print(mat['X'].shape, mat['T'].shape, mat['P'].shape, mat['Z'].shape, mat['R'].shape)"
   ]
  },
  {
   "cell_type": "code",
   "execution_count": 6,
   "metadata": {},
   "outputs": [
    {
     "name": "stdout",
     "output_type": "stream",
     "text": [
      "[[[ 1.8864380e+00 -4.6487264e-03 -8.2392059e-03]\n",
      "  [ 3.9499245e+00 -4.5920345e-03  7.8234663e-03]\n",
      "  [ 1.1976895e+00  1.9404842e+00  7.8234663e-03]\n",
      "  ...\n",
      "  [ 0.0000000e+00  0.0000000e+00  0.0000000e+00]\n",
      "  [ 0.0000000e+00  0.0000000e+00  0.0000000e+00]\n",
      "  [ 0.0000000e+00  0.0000000e+00  0.0000000e+00]]\n",
      "\n",
      " [[ 1.8973607e+00 -5.5746920e-03 -1.2094247e-02]\n",
      "  [ 4.7544756e+00 -1.3265877e-02  1.1149384e-03]\n",
      "  [ 1.1760710e+00  1.9320560e+00 -3.0991510e-03]\n",
      "  ...\n",
      "  [ 0.0000000e+00  0.0000000e+00  0.0000000e+00]\n",
      "  [ 0.0000000e+00  0.0000000e+00  0.0000000e+00]\n",
      "  [ 0.0000000e+00  0.0000000e+00  0.0000000e+00]]\n",
      "\n",
      " [[ 1.8692415e+00  1.8897261e-04  0.0000000e+00]\n",
      "  [ 4.3934622e+00 -3.2125344e-04 -0.0000000e+00]\n",
      "  [ 8.1146729e-01  1.7577099e+00  0.0000000e+00]\n",
      "  ...\n",
      "  [ 0.0000000e+00  0.0000000e+00  0.0000000e+00]\n",
      "  [ 0.0000000e+00  0.0000000e+00  0.0000000e+00]\n",
      "  [ 0.0000000e+00  0.0000000e+00  0.0000000e+00]]\n",
      "\n",
      " ...\n",
      "\n",
      " [[ 4.1100221e+00 -1.0346062e+00  2.6948628e+00]\n",
      "  [ 4.3785710e+00  6.1529484e-02  4.8849419e-02]\n",
      "  [ 5.4806027e+00  2.6944661e+00  8.4980987e-02]\n",
      "  ...\n",
      "  [ 0.0000000e+00  0.0000000e+00  0.0000000e+00]\n",
      "  [ 0.0000000e+00  0.0000000e+00  0.0000000e+00]\n",
      "  [ 0.0000000e+00  0.0000000e+00  0.0000000e+00]]\n",
      "\n",
      " [[ 1.8003232e+00 -6.9693103e-02 -2.2911039e-01]\n",
      "  [ 4.6702313e+00  2.4490850e-02  1.9105131e-02]\n",
      "  [ 5.8963237e+00 -2.3141775e+00 -1.0460957e+00]\n",
      "  ...\n",
      "  [ 0.0000000e+00  0.0000000e+00  0.0000000e+00]\n",
      "  [ 0.0000000e+00  0.0000000e+00  0.0000000e+00]\n",
      "  [ 0.0000000e+00  0.0000000e+00  0.0000000e+00]]\n",
      "\n",
      " [[ 3.5317659e+00  2.5823107e-01 -1.3524770e+00]\n",
      "  [ 3.4395094e+00 -2.4942495e-01  1.4351336e+00]\n",
      "  [ 1.0076776e+00  1.2132042e-02 -4.0723599e-02]\n",
      "  ...\n",
      "  [ 0.0000000e+00  0.0000000e+00  0.0000000e+00]\n",
      "  [ 0.0000000e+00  0.0000000e+00  0.0000000e+00]\n",
      "  [ 0.0000000e+00  0.0000000e+00  0.0000000e+00]]]\n"
     ]
    }
   ],
   "source": [
    "print(mat['R'])"
   ]
  },
  {
   "cell_type": "code",
   "execution_count": 9,
   "metadata": {},
   "outputs": [
    {
     "name": "stdout",
     "output_type": "stream",
     "text": [
      "[[[ 1.886438   -0.00464873 -0.00823921]\n",
      "  [ 3.9499245  -0.00459203  0.00782347]\n",
      "  [ 1.1976895   1.9404842   0.00782347]\n",
      "  [ 1.1849339  -0.99726516  1.6593875 ]\n",
      "  [ 1.2119948  -0.9589793  -1.710958  ]\n",
      "  [ 0.          0.          0.        ]\n",
      "  [ 0.          0.          0.        ]\n",
      "  [ 0.          0.          0.        ]\n",
      "  [ 0.          0.          0.        ]\n",
      "  [ 0.          0.          0.        ]\n",
      "  [ 0.          0.          0.        ]\n",
      "  [ 0.          0.          0.        ]\n",
      "  [ 0.          0.          0.        ]\n",
      "  [ 0.          0.          0.        ]\n",
      "  [ 0.          0.          0.        ]\n",
      "  [ 0.          0.          0.        ]\n",
      "  [ 0.          0.          0.        ]\n",
      "  [ 0.          0.          0.        ]\n",
      "  [ 0.          0.          0.        ]\n",
      "  [ 0.          0.          0.        ]\n",
      "  [ 0.          0.          0.        ]\n",
      "  [ 0.          0.          0.        ]\n",
      "  [ 0.          0.          0.        ]]]\n"
     ]
    }
   ],
   "source": [
    "# print out the shape of the first R matrix.\n",
    "print(mat['R'][:1])"
   ]
  },
  {
   "cell_type": "code",
   "execution_count": 8,
   "metadata": {},
   "outputs": [
    {
     "name": "stdout",
     "output_type": "stream",
     "text": [
      "[[ -417.96  -712.42  -564.21 ... -1662.1  -1782.01 -1919.  ]]\n"
     ]
    }
   ],
   "source": [
    "print(mat['T'])"
   ]
  },
  {
   "cell_type": "code",
   "execution_count": null,
   "metadata": {},
   "outputs": [],
   "source": []
  },
  {
   "cell_type": "code",
   "execution_count": null,
   "metadata": {},
   "outputs": [],
   "source": [
    "data = pd.DataFrame({k: pd.Series(v[0]) for k, v in mat.iteritems()})\n",
    "data.to_csv(\"example.csv\")"
   ]
  }
 ],
 "metadata": {
  "kernelspec": {
   "display_name": "Python 3",
   "language": "python",
   "name": "python3"
  },
  "language_info": {
   "codemirror_mode": {
    "name": "ipython",
    "version": 3
   },
   "file_extension": ".py",
   "mimetype": "text/x-python",
   "name": "python",
   "nbconvert_exporter": "python",
   "pygments_lexer": "ipython3",
   "version": "3.7.3"
  }
 },
 "nbformat": 4,
 "nbformat_minor": 2
}
