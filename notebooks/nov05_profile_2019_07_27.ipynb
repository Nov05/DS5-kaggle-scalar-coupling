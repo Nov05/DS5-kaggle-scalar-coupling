{
  "nbformat": 4,
  "nbformat_minor": 0,
  "metadata": {
    "colab": {
      "name": "nov05_profile_2019-07-27.ipynb",
      "version": "0.3.2",
      "provenance": [],
      "collapsed_sections": [],
      "toc_visible": true,
      "include_colab_link": true
    },
    "kernelspec": {
      "name": "python3",
      "display_name": "Python 3"
    }
  },
  "cells": [
    {
      "cell_type": "markdown",
      "metadata": {
        "id": "view-in-github",
        "colab_type": "text"
      },
      "source": [
        "<a href=\"https://colab.research.google.com/github/elizabethts/DS5-kaggle-scalar-coupling/blob/master/notebooks/nov05_profile_2019_07_27.ipynb\" target=\"_parent\"><img src=\"https://colab.research.google.com/assets/colab-badge.svg\" alt=\"Open In Colab\"/></a>"
      ]
    },
    {
      "cell_type": "code",
      "metadata": {
        "id": "TjdvJmjhVudv",
        "colab_type": "code",
        "colab": {}
      },
      "source": [
        "# created by nov05 on 2019-07-27\n",
        "# DS5-kaggle-scalar-coupling/"
      ],
      "execution_count": 0,
      "outputs": []
    },
    {
      "cell_type": "markdown",
      "metadata": {
        "id": "2HvId9KhxPuZ",
        "colab_type": "text"
      },
      "source": [
        "Kaggle Data  Downloaded to Google Drive  \n",
        "https://drive.google.com/open?id=1ZDcOZRZgcLCdcGlRbryEPyI81h9rj-JX  \n",
        "GitHub Repo  \n",
        "https://github.com/elizabethts/DS5-kaggle-scalar-coupling  \n",
        "Notes on GitHub  \n",
        "https://github.com/Nov05/DS5-kaggle-scalar-coupling/blob/master/readme/notes.md  "
      ]
    },
    {
      "cell_type": "code",
      "metadata": {
        "id": "uugD6WXwWC0a",
        "colab_type": "code",
        "colab": {}
      },
      "source": [
        "from google.colab import drive\n",
        "drive.mount('/content/drive')"
      ],
      "execution_count": 0,
      "outputs": []
    },
    {
      "cell_type": "code",
      "metadata": {
        "id": "3takF-sWvqSL",
        "colab_type": "code",
        "colab": {}
      },
      "source": [
        "from google.colab import files\n",
        "import zipfile\n",
        "import glob\n",
        "import os\n",
        "import gc\n",
        "\n",
        "competition_name = \"champs-scalar-coupling\"\n",
        "path_data = \"/content/drive/My Drive/data/\"\n",
        "path_molecular = path_data + \"kaggle-molecular/\"\n",
        "path_structures = path_molecular + \"structures/\"\n",
        "\n",
        "import pandas as pd\n",
        "import numpy as np\n",
        "import matplotlib.pyplot as plt\n",
        "import seaborn as sns"
      ],
      "execution_count": 0,
      "outputs": []
    },
    {
      "cell_type": "code",
      "metadata": {
        "id": "nxuqYxYO7G2i",
        "colab_type": "code",
        "outputId": "dcecf8a6-cff5-41cb-cc66-431b920a30eb",
        "colab": {
          "base_uri": "https://localhost:8080/",
          "height": 140
        }
      },
      "source": [
        "# list all files\n",
        "%cd /content/drive/My Drive/data/kaggle-molecular/\n",
        "!ls"
      ],
      "execution_count": 0,
      "outputs": [
        {
          "output_type": "stream",
          "text": [
            "/content/drive/My Drive/data/kaggle-molecular\n",
            "dipole_moments.csv\t\tscalar_coupling_contributions.csv\n",
            "dipole_moments.gsheet\t\tstructures\n",
            "magnetic_shielding_tensors.csv\tstructures.csv\n",
            "mulliken_charges.csv\t\ttest.csv\n",
            "potential_energy.csv\t\ttrain.csv\n",
            "sample_submission.csv\n"
          ],
          "name": "stdout"
        }
      ]
    },
    {
      "cell_type": "markdown",
      "metadata": {
        "id": "klO1bJtBavxt",
        "colab_type": "text"
      },
      "source": [
        "## Data Description\n",
        "\n",
        "https://www.kaggle.com/c/champs-scalar-coupling/data   \n",
        "\n",
        "In this competition, you will be predicting the scalar_coupling_constant between atom pairs in molecules, given the two atom types (e.g., C and H), the coupling type (e.g., 2JHC), and any features you are able to create from the molecule structure (xyz) files.\n",
        "\n",
        "For this competition, **you will not be predicting all the atom pairs in each molecule** rather, you will only need to predict the pairs that are explicitly listed in the train and test files. For example, some molecules contain Fluorine (F), but you will not be predicting the scalar coupling constant for any pair that includes F.\n",
        "\n",
        "The training and test splits are by molecule, so that no molecule in the training data is found in the test data.\n",
        "\n",
        "## Files\n",
        "\n",
        "**train.csv** - the training set, where the first column (molecule_name) is the name of the molecule where the coupling constant originates (the corresponding XYZ file is located at ./structures/.xyz), the second (atom_index_0) and third column (atom_index_1) is the atom indices of the atom-pair creating the coupling and the fourth column (scalar_coupling_constant) is the scalar coupling constant that we want to be able to predict\n",
        "\n",
        "**test.csv** - the test set; same info as train, without the target variable\n",
        "\n",
        "**sample_submission.csv** - a sample submission file in the correct format\n",
        "\n",
        "**structures.zip** - folder containing molecular structure (xyz) files, where the first line is the number of atoms in the molecule, followed by a blank line, and then a line for every atom, where the first column contains the atomic element (H for hydrogen, C for carbon etc.) and the remaining columns contain the X, Y and Z cartesian coordinates (a standard format for chemists and molecular visualization programs)\n",
        "\n",
        "**structures.csv** - this file contains the same information as the individual xyz structure files, but in a single file\n",
        "\n",
        "## Additional Data\n",
        "\n",
        "NOTE: additional data is provided for the molecules in Train only!\n",
        "\n",
        "**dipole_moments.csv** - contains the molecular electric dipole moments. These are three dimensional vectors that indicate the charge distribution in the molecule. The first column (molecule_name) are the names of the molecule, the second to fourth column are the X, Y and Z components respectively of the dipole moment.\n",
        "\n",
        "**magnetic_shielding_tensors.csv** - contains the magnetic shielding tensors for all atoms in the molecules. The first column (molecule_name) contains the molecule name, the second column (atom_index) contains the index of the atom in the molecule, the third to eleventh columns contain the XX, YX, ZX, XY, YY, ZY, XZ, YZ and ZZ elements of the tensor/matrix respectively.\n",
        "\n",
        "**mulliken_charges.csv** - contains the mulliken charges for all atoms in the molecules. The first column (molecule_name) contains the name of the molecule, the second column (atom_index) contains the index of the atom in the molecule, the third column (mulliken_charge) contains the mulliken charge of the atom.\n",
        "\n",
        "**potential_energy.csv** - contains the potential energy of the molecules. The first column (molecule_name) contains the name of the molecule, the second column (potential_energy) contains the potential energy of the molecule.\n",
        "\n",
        "**scalar_coupling_contributions.csv** - The scalar coupling constants in train.csv (or corresponding files) are a sum of four terms. scalar_coupling_contributions.csv contain all these terms. The first column (molecule_name) are the name of the molecule, the second (atom_index_0) and third column (atom_index_1) are the atom indices of the atom-pair, the fourth column indicates the type of coupling, the fifth column (fc) is the Fermi Contact contribution, the sixth column (sd) is the Spin-dipolar contribution, the seventh column (pso) is the Paramagnetic spin-orbit contribution and the eighth column (dso) is the Diamagnetic spin-orbit contribution.   \n"
      ]
    },
    {
      "cell_type": "markdown",
      "metadata": {
        "id": "_6Cy8RDb2UkC",
        "colab_type": "text"
      },
      "source": [
        "https://medium.com/@Keshav31/colab-features-download-and-upload-e1ec537a83df  \n",
        "https://colab.research.google.com/notebooks/io.ipynb  \n",
        "\n",
        "You can manually trigger the garbage collection. But frequent calls to garbage collection is discouraged as it is a costly operation and may affect performance.  \n",
        "https://stackoverflow.com/questions/32247643/how-to-delete-multiple-pandas-python-dataframes-from-memory-to-save-ram  \n",
        "\n"
      ]
    },
    {
      "cell_type": "markdown",
      "metadata": {
        "id": "OuIod5WRuOcO",
        "colab_type": "text"
      },
      "source": [
        "## Check file sizes"
      ]
    },
    {
      "cell_type": "code",
      "metadata": {
        "id": "anQT8arxULzp",
        "colab_type": "code",
        "outputId": "9fc95d20-3295-4c9d-8b84-123ec169b0e6",
        "colab": {
          "base_uri": "https://localhost:8080/",
          "height": 193
        }
      },
      "source": [
        "# check file sizes\n",
        "def filesize(nbytes):\n",
        "  for x in ['bytes', 'KB', 'MB', 'GB', 'TB', 'PB']:\n",
        "    if nbytes < 1024.:\n",
        "      return \"%3.1f %s\" % (nbytes, x)\n",
        "    nbytes /= 1024.\n",
        "\n",
        "st_size_total = 0.\n",
        "fnames = []\n",
        "for f in glob.glob(path_molecular+'*.csv'):\n",
        "  st_size_total += os.stat(f).st_size\n",
        "  fname = f.replace(path_molecular, \"\")\n",
        "  fname = fname.replace('.csv', '')\n",
        "  fnames.append(fname)\n",
        "  fsize = filesize(os.stat(f).st_size)\n",
        "  print(fname, '\\t', fsize)\n",
        "print(\"Total size:\", filesize(st_size_total))"
      ],
      "execution_count": 0,
      "outputs": [
        {
          "output_type": "stream",
          "text": [
            "train \t 191.9 MB\n",
            "test \t 83.8 MB\n",
            "structures \t 135.2 MB\n",
            "scalar_coupling_contributions \t 279.6 MB\n",
            "sample_submission \t 23.9 MB\n",
            "potential_energy \t 2.2 MB\n",
            "mulliken_charges \t 42.0 MB\n",
            "magnetic_shielding_tensors \t 130.0 MB\n",
            "dipole_moments \t 3.1 MB\n",
            "Total size: 891.6 MB\n"
          ],
          "name": "stdout"
        }
      ]
    },
    {
      "cell_type": "markdown",
      "metadata": {
        "id": "tJlZrJvguVVi",
        "colab_type": "text"
      },
      "source": [
        "## train.csv"
      ]
    },
    {
      "cell_type": "code",
      "metadata": {
        "id": "hEOapNshL0wy",
        "colab_type": "code",
        "colab": {}
      },
      "source": [
        "f = fnames[0]\n",
        "df = pd.read_csv(path_molecular+f+'.csv')"
      ],
      "execution_count": 0,
      "outputs": []
    },
    {
      "cell_type": "code",
      "metadata": {
        "id": "M8RuAyfOCY3L",
        "colab_type": "code",
        "outputId": "dd8a7795-4c0f-43b0-f494-a950c63b2250",
        "colab": {
          "base_uri": "https://localhost:8080/",
          "height": 220
        }
      },
      "source": [
        "print(f, df.shape)\n",
        "df.head()"
      ],
      "execution_count": 0,
      "outputs": [
        {
          "output_type": "stream",
          "text": [
            "train (4658147, 6)\n"
          ],
          "name": "stdout"
        },
        {
          "output_type": "execute_result",
          "data": {
            "text/html": [
              "<div>\n",
              "<style scoped>\n",
              "    .dataframe tbody tr th:only-of-type {\n",
              "        vertical-align: middle;\n",
              "    }\n",
              "\n",
              "    .dataframe tbody tr th {\n",
              "        vertical-align: top;\n",
              "    }\n",
              "\n",
              "    .dataframe thead th {\n",
              "        text-align: right;\n",
              "    }\n",
              "</style>\n",
              "<table border=\"1\" class=\"dataframe\">\n",
              "  <thead>\n",
              "    <tr style=\"text-align: right;\">\n",
              "      <th></th>\n",
              "      <th>id</th>\n",
              "      <th>molecule_name</th>\n",
              "      <th>atom_index_0</th>\n",
              "      <th>atom_index_1</th>\n",
              "      <th>type</th>\n",
              "      <th>scalar_coupling_constant</th>\n",
              "    </tr>\n",
              "  </thead>\n",
              "  <tbody>\n",
              "    <tr>\n",
              "      <th>0</th>\n",
              "      <td>0</td>\n",
              "      <td>dsgdb9nsd_000001</td>\n",
              "      <td>1</td>\n",
              "      <td>0</td>\n",
              "      <td>1JHC</td>\n",
              "      <td>84.8076</td>\n",
              "    </tr>\n",
              "    <tr>\n",
              "      <th>1</th>\n",
              "      <td>1</td>\n",
              "      <td>dsgdb9nsd_000001</td>\n",
              "      <td>1</td>\n",
              "      <td>2</td>\n",
              "      <td>2JHH</td>\n",
              "      <td>-11.2570</td>\n",
              "    </tr>\n",
              "    <tr>\n",
              "      <th>2</th>\n",
              "      <td>2</td>\n",
              "      <td>dsgdb9nsd_000001</td>\n",
              "      <td>1</td>\n",
              "      <td>3</td>\n",
              "      <td>2JHH</td>\n",
              "      <td>-11.2548</td>\n",
              "    </tr>\n",
              "    <tr>\n",
              "      <th>3</th>\n",
              "      <td>3</td>\n",
              "      <td>dsgdb9nsd_000001</td>\n",
              "      <td>1</td>\n",
              "      <td>4</td>\n",
              "      <td>2JHH</td>\n",
              "      <td>-11.2543</td>\n",
              "    </tr>\n",
              "    <tr>\n",
              "      <th>4</th>\n",
              "      <td>4</td>\n",
              "      <td>dsgdb9nsd_000001</td>\n",
              "      <td>2</td>\n",
              "      <td>0</td>\n",
              "      <td>1JHC</td>\n",
              "      <td>84.8074</td>\n",
              "    </tr>\n",
              "  </tbody>\n",
              "</table>\n",
              "</div>"
            ],
            "text/plain": [
              "   id     molecule_name  ...  type  scalar_coupling_constant\n",
              "0   0  dsgdb9nsd_000001  ...  1JHC                   84.8076\n",
              "1   1  dsgdb9nsd_000001  ...  2JHH                  -11.2570\n",
              "2   2  dsgdb9nsd_000001  ...  2JHH                  -11.2548\n",
              "3   3  dsgdb9nsd_000001  ...  2JHH                  -11.2543\n",
              "4   4  dsgdb9nsd_000001  ...  1JHC                   84.8074\n",
              "\n",
              "[5 rows x 6 columns]"
            ]
          },
          "metadata": {
            "tags": []
          },
          "execution_count": 8
        }
      ]
    },
    {
      "cell_type": "code",
      "metadata": {
        "id": "KNxXlrZKDk6L",
        "colab_type": "code",
        "outputId": "7f4c6a96-45ff-48bc-bc56-0b70a1b8fb46",
        "colab": {
          "base_uri": "https://localhost:8080/",
          "height": 295
        }
      },
      "source": [
        "df.describe()"
      ],
      "execution_count": 0,
      "outputs": [
        {
          "output_type": "execute_result",
          "data": {
            "text/html": [
              "<div>\n",
              "<style scoped>\n",
              "    .dataframe tbody tr th:only-of-type {\n",
              "        vertical-align: middle;\n",
              "    }\n",
              "\n",
              "    .dataframe tbody tr th {\n",
              "        vertical-align: top;\n",
              "    }\n",
              "\n",
              "    .dataframe thead th {\n",
              "        text-align: right;\n",
              "    }\n",
              "</style>\n",
              "<table border=\"1\" class=\"dataframe\">\n",
              "  <thead>\n",
              "    <tr style=\"text-align: right;\">\n",
              "      <th></th>\n",
              "      <th>id</th>\n",
              "      <th>atom_index_0</th>\n",
              "      <th>atom_index_1</th>\n",
              "      <th>scalar_coupling_constant</th>\n",
              "    </tr>\n",
              "  </thead>\n",
              "  <tbody>\n",
              "    <tr>\n",
              "      <th>count</th>\n",
              "      <td>4.658147e+06</td>\n",
              "      <td>4.658147e+06</td>\n",
              "      <td>4.658147e+06</td>\n",
              "      <td>4.658147e+06</td>\n",
              "    </tr>\n",
              "    <tr>\n",
              "      <th>mean</th>\n",
              "      <td>2.329073e+06</td>\n",
              "      <td>1.335689e+01</td>\n",
              "      <td>5.883966e+00</td>\n",
              "      <td>1.592165e+01</td>\n",
              "    </tr>\n",
              "    <tr>\n",
              "      <th>std</th>\n",
              "      <td>1.344691e+06</td>\n",
              "      <td>3.267712e+00</td>\n",
              "      <td>4.993943e+00</td>\n",
              "      <td>3.494198e+01</td>\n",
              "    </tr>\n",
              "    <tr>\n",
              "      <th>min</th>\n",
              "      <td>0.000000e+00</td>\n",
              "      <td>0.000000e+00</td>\n",
              "      <td>0.000000e+00</td>\n",
              "      <td>-3.621860e+01</td>\n",
              "    </tr>\n",
              "    <tr>\n",
              "      <th>25%</th>\n",
              "      <td>1.164536e+06</td>\n",
              "      <td>1.100000e+01</td>\n",
              "      <td>2.000000e+00</td>\n",
              "      <td>-2.549780e-01</td>\n",
              "    </tr>\n",
              "    <tr>\n",
              "      <th>50%</th>\n",
              "      <td>2.329073e+06</td>\n",
              "      <td>1.300000e+01</td>\n",
              "      <td>5.000000e+00</td>\n",
              "      <td>2.281130e+00</td>\n",
              "    </tr>\n",
              "    <tr>\n",
              "      <th>75%</th>\n",
              "      <td>3.493610e+06</td>\n",
              "      <td>1.600000e+01</td>\n",
              "      <td>8.000000e+00</td>\n",
              "      <td>7.390655e+00</td>\n",
              "    </tr>\n",
              "    <tr>\n",
              "      <th>max</th>\n",
              "      <td>4.658146e+06</td>\n",
              "      <td>2.800000e+01</td>\n",
              "      <td>2.800000e+01</td>\n",
              "      <td>2.048800e+02</td>\n",
              "    </tr>\n",
              "  </tbody>\n",
              "</table>\n",
              "</div>"
            ],
            "text/plain": [
              "                 id  atom_index_0  atom_index_1  scalar_coupling_constant\n",
              "count  4.658147e+06  4.658147e+06  4.658147e+06              4.658147e+06\n",
              "mean   2.329073e+06  1.335689e+01  5.883966e+00              1.592165e+01\n",
              "std    1.344691e+06  3.267712e+00  4.993943e+00              3.494198e+01\n",
              "min    0.000000e+00  0.000000e+00  0.000000e+00             -3.621860e+01\n",
              "25%    1.164536e+06  1.100000e+01  2.000000e+00             -2.549780e-01\n",
              "50%    2.329073e+06  1.300000e+01  5.000000e+00              2.281130e+00\n",
              "75%    3.493610e+06  1.600000e+01  8.000000e+00              7.390655e+00\n",
              "max    4.658146e+06  2.800000e+01  2.800000e+01              2.048800e+02"
            ]
          },
          "metadata": {
            "tags": []
          },
          "execution_count": 9
        }
      ]
    },
    {
      "cell_type": "code",
      "metadata": {
        "id": "1sK-ZXgrvJa5",
        "colab_type": "code",
        "outputId": "b7f23ff7-1bc3-447d-a5aa-ff231ecbb7be",
        "colab": {
          "base_uri": "https://localhost:8080/",
          "height": 172
        }
      },
      "source": [
        "df.select_dtypes(exclude=np.number).describe()"
      ],
      "execution_count": 0,
      "outputs": [
        {
          "output_type": "execute_result",
          "data": {
            "text/html": [
              "<div>\n",
              "<style scoped>\n",
              "    .dataframe tbody tr th:only-of-type {\n",
              "        vertical-align: middle;\n",
              "    }\n",
              "\n",
              "    .dataframe tbody tr th {\n",
              "        vertical-align: top;\n",
              "    }\n",
              "\n",
              "    .dataframe thead th {\n",
              "        text-align: right;\n",
              "    }\n",
              "</style>\n",
              "<table border=\"1\" class=\"dataframe\">\n",
              "  <thead>\n",
              "    <tr style=\"text-align: right;\">\n",
              "      <th></th>\n",
              "      <th>molecule_name</th>\n",
              "      <th>type</th>\n",
              "    </tr>\n",
              "  </thead>\n",
              "  <tbody>\n",
              "    <tr>\n",
              "      <th>count</th>\n",
              "      <td>4658147</td>\n",
              "      <td>4658147</td>\n",
              "    </tr>\n",
              "    <tr>\n",
              "      <th>unique</th>\n",
              "      <td>85003</td>\n",
              "      <td>8</td>\n",
              "    </tr>\n",
              "    <tr>\n",
              "      <th>top</th>\n",
              "      <td>dsgdb9nsd_042139</td>\n",
              "      <td>3JHC</td>\n",
              "    </tr>\n",
              "    <tr>\n",
              "      <th>freq</th>\n",
              "      <td>135</td>\n",
              "      <td>1510379</td>\n",
              "    </tr>\n",
              "  </tbody>\n",
              "</table>\n",
              "</div>"
            ],
            "text/plain": [
              "           molecule_name     type\n",
              "count            4658147  4658147\n",
              "unique             85003        8\n",
              "top     dsgdb9nsd_042139     3JHC\n",
              "freq                 135  1510379"
            ]
          },
          "metadata": {
            "tags": []
          },
          "execution_count": 46
        }
      ]
    },
    {
      "cell_type": "code",
      "metadata": {
        "id": "mwrxvyrxCxBd",
        "colab_type": "code",
        "outputId": "44cfc2a9-6a64-4e93-b4c5-450315832d10",
        "colab": {
          "base_uri": "https://localhost:8080/",
          "height": 240
        }
      },
      "source": [
        "def df_value_counts(df):\n",
        "  values, lens, colnames = [], [], []\n",
        "  idx = [i for i in range(5)]\n",
        "  for col in df.columns:\n",
        "    v = df[col].value_counts().reset_index()\n",
        "    lens.append(col+':'+str(len(v)))\n",
        "    h = v.head()\n",
        "    h.index = idx\n",
        "    t = v.tail()\n",
        "    t.index = idx\n",
        "    values.append(h)\n",
        "    values.append(t)\n",
        "    colnames.append(col)\n",
        "    colnames.append('head')\n",
        "    colnames.append(col)\n",
        "    colnames.append('tail')\n",
        "  values = pd.concat(values, axis=1, sort=False)\n",
        "  values.columns = colnames\n",
        "  print(\"different values:\", lens)\n",
        "  return values\n",
        "values = df_value_counts(df)\n",
        "values"
      ],
      "execution_count": 0,
      "outputs": [
        {
          "output_type": "stream",
          "text": [
            "different values: ['id:4658147', 'molecule_name:85003', 'atom_index_0:29', 'atom_index_1:29', 'type:8', 'scalar_coupling_constant:2182935']\n"
          ],
          "name": "stdout"
        },
        {
          "output_type": "execute_result",
          "data": {
            "text/html": [
              "<div>\n",
              "<style scoped>\n",
              "    .dataframe tbody tr th:only-of-type {\n",
              "        vertical-align: middle;\n",
              "    }\n",
              "\n",
              "    .dataframe tbody tr th {\n",
              "        vertical-align: top;\n",
              "    }\n",
              "\n",
              "    .dataframe thead th {\n",
              "        text-align: right;\n",
              "    }\n",
              "</style>\n",
              "<table border=\"1\" class=\"dataframe\">\n",
              "  <thead>\n",
              "    <tr style=\"text-align: right;\">\n",
              "      <th></th>\n",
              "      <th>id</th>\n",
              "      <th>head</th>\n",
              "      <th>id</th>\n",
              "      <th>tail</th>\n",
              "      <th>molecule_name</th>\n",
              "      <th>head</th>\n",
              "      <th>molecule_name</th>\n",
              "      <th>tail</th>\n",
              "      <th>atom_index_0</th>\n",
              "      <th>head</th>\n",
              "      <th>atom_index_0</th>\n",
              "      <th>tail</th>\n",
              "      <th>atom_index_1</th>\n",
              "      <th>head</th>\n",
              "      <th>atom_index_1</th>\n",
              "      <th>tail</th>\n",
              "      <th>type</th>\n",
              "      <th>head</th>\n",
              "      <th>type</th>\n",
              "      <th>tail</th>\n",
              "      <th>scalar_coupling_constant</th>\n",
              "      <th>head</th>\n",
              "      <th>scalar_coupling_constant</th>\n",
              "      <th>tail</th>\n",
              "    </tr>\n",
              "  </thead>\n",
              "  <tbody>\n",
              "    <tr>\n",
              "      <th>0</th>\n",
              "      <td>4196351</td>\n",
              "      <td>1</td>\n",
              "      <td>3402967</td>\n",
              "      <td>1</td>\n",
              "      <td>dsgdb9nsd_042139</td>\n",
              "      <td>135</td>\n",
              "      <td>dsgdb9nsd_021441</td>\n",
              "      <td>2</td>\n",
              "      <td>12</td>\n",
              "      <td>552263</td>\n",
              "      <td>4</td>\n",
              "      <td>635</td>\n",
              "      <td>2</td>\n",
              "      <td>537311</td>\n",
              "      <td>24</td>\n",
              "      <td>3520</td>\n",
              "      <td>3JHC</td>\n",
              "      <td>1510379</td>\n",
              "      <td>3JHH</td>\n",
              "      <td>590611</td>\n",
              "      <td>-11.6520</td>\n",
              "      <td>31</td>\n",
              "      <td>-3.092770</td>\n",
              "      <td>1</td>\n",
              "    </tr>\n",
              "    <tr>\n",
              "      <th>1</th>\n",
              "      <td>4255048</td>\n",
              "      <td>1</td>\n",
              "      <td>3407061</td>\n",
              "      <td>1</td>\n",
              "      <td>dsgdb9nsd_123246</td>\n",
              "      <td>133</td>\n",
              "      <td>dsgdb9nsd_000828</td>\n",
              "      <td>2</td>\n",
              "      <td>13</td>\n",
              "      <td>505229</td>\n",
              "      <td>1</td>\n",
              "      <td>225</td>\n",
              "      <td>1</td>\n",
              "      <td>517218</td>\n",
              "      <td>26</td>\n",
              "      <td>629</td>\n",
              "      <td>2JHC</td>\n",
              "      <td>1140674</td>\n",
              "      <td>2JHH</td>\n",
              "      <td>378036</td>\n",
              "      <td>-11.3724</td>\n",
              "      <td>29</td>\n",
              "      <td>27.655500</td>\n",
              "      <td>1</td>\n",
              "    </tr>\n",
              "    <tr>\n",
              "      <th>2</th>\n",
              "      <td>4242754</td>\n",
              "      <td>1</td>\n",
              "      <td>3394771</td>\n",
              "      <td>1</td>\n",
              "      <td>dsgdb9nsd_096580</td>\n",
              "      <td>133</td>\n",
              "      <td>dsgdb9nsd_021849</td>\n",
              "      <td>2</td>\n",
              "      <td>9</td>\n",
              "      <td>485891</td>\n",
              "      <td>27</td>\n",
              "      <td>116</td>\n",
              "      <td>3</td>\n",
              "      <td>458480</td>\n",
              "      <td>25</td>\n",
              "      <td>596</td>\n",
              "      <td>1JHC</td>\n",
              "      <td>709416</td>\n",
              "      <td>3JHN</td>\n",
              "      <td>166415</td>\n",
              "      <td>-11.5202</td>\n",
              "      <td>28</td>\n",
              "      <td>-17.196400</td>\n",
              "      <td>1</td>\n",
              "    </tr>\n",
              "    <tr>\n",
              "      <th>3</th>\n",
              "      <td>46403</td>\n",
              "      <td>1</td>\n",
              "      <td>3398865</td>\n",
              "      <td>1</td>\n",
              "      <td>dsgdb9nsd_123139</td>\n",
              "      <td>132</td>\n",
              "      <td>dsgdb9nsd_133421</td>\n",
              "      <td>2</td>\n",
              "      <td>14</td>\n",
              "      <td>476556</td>\n",
              "      <td>28</td>\n",
              "      <td>92</td>\n",
              "      <td>4</td>\n",
              "      <td>439876</td>\n",
              "      <td>28</td>\n",
              "      <td>76</td>\n",
              "      <td>3JHH</td>\n",
              "      <td>590611</td>\n",
              "      <td>2JHN</td>\n",
              "      <td>119253</td>\n",
              "      <td>-11.6697</td>\n",
              "      <td>28</td>\n",
              "      <td>-4.446720</td>\n",
              "      <td>1</td>\n",
              "    </tr>\n",
              "    <tr>\n",
              "      <th>4</th>\n",
              "      <td>4230468</td>\n",
              "      <td>1</td>\n",
              "      <td>0</td>\n",
              "      <td>1</td>\n",
              "      <td>dsgdb9nsd_122665</td>\n",
              "      <td>132</td>\n",
              "      <td>dsgdb9nsd_000003</td>\n",
              "      <td>1</td>\n",
              "      <td>10</td>\n",
              "      <td>473624</td>\n",
              "      <td>0</td>\n",
              "      <td>3</td>\n",
              "      <td>5</td>\n",
              "      <td>415448</td>\n",
              "      <td>27</td>\n",
              "      <td>52</td>\n",
              "      <td>2JHH</td>\n",
              "      <td>378036</td>\n",
              "      <td>1JHN</td>\n",
              "      <td>43363</td>\n",
              "      <td>-11.4635</td>\n",
              "      <td>28</td>\n",
              "      <td>0.389893</td>\n",
              "      <td>1</td>\n",
              "    </tr>\n",
              "  </tbody>\n",
              "</table>\n",
              "</div>"
            ],
            "text/plain": [
              "        id  head       id  ...  head scalar_coupling_constant  tail\n",
              "0  4196351     1  3402967  ...    31                -3.092770     1\n",
              "1  4255048     1  3407061  ...    29                27.655500     1\n",
              "2  4242754     1  3394771  ...    28               -17.196400     1\n",
              "3    46403     1  3398865  ...    28                -4.446720     1\n",
              "4  4230468     1        0  ...    28                 0.389893     1\n",
              "\n",
              "[5 rows x 24 columns]"
            ]
          },
          "metadata": {
            "tags": []
          },
          "execution_count": 36
        }
      ]
    },
    {
      "cell_type": "markdown",
      "metadata": {
        "id": "WREledXoueO5",
        "colab_type": "text"
      },
      "source": [
        "## test.csv"
      ]
    },
    {
      "cell_type": "code",
      "metadata": {
        "id": "rBSDgrhGucgY",
        "colab_type": "code",
        "outputId": "7626da65-3e9e-408b-8174-f9c7bc693021",
        "colab": {
          "base_uri": "https://localhost:8080/",
          "height": 220
        }
      },
      "source": [
        "f = fnames[1]\n",
        "df = pd.read_csv(path_molecular+f+'.csv')\n",
        "print(f, df.shape)\n",
        "df.head()"
      ],
      "execution_count": 0,
      "outputs": [
        {
          "output_type": "stream",
          "text": [
            "test (2505542, 5)\n"
          ],
          "name": "stdout"
        },
        {
          "output_type": "execute_result",
          "data": {
            "text/html": [
              "<div>\n",
              "<style scoped>\n",
              "    .dataframe tbody tr th:only-of-type {\n",
              "        vertical-align: middle;\n",
              "    }\n",
              "\n",
              "    .dataframe tbody tr th {\n",
              "        vertical-align: top;\n",
              "    }\n",
              "\n",
              "    .dataframe thead th {\n",
              "        text-align: right;\n",
              "    }\n",
              "</style>\n",
              "<table border=\"1\" class=\"dataframe\">\n",
              "  <thead>\n",
              "    <tr style=\"text-align: right;\">\n",
              "      <th></th>\n",
              "      <th>id</th>\n",
              "      <th>molecule_name</th>\n",
              "      <th>atom_index_0</th>\n",
              "      <th>atom_index_1</th>\n",
              "      <th>type</th>\n",
              "    </tr>\n",
              "  </thead>\n",
              "  <tbody>\n",
              "    <tr>\n",
              "      <th>0</th>\n",
              "      <td>4658147</td>\n",
              "      <td>dsgdb9nsd_000004</td>\n",
              "      <td>2</td>\n",
              "      <td>0</td>\n",
              "      <td>2JHC</td>\n",
              "    </tr>\n",
              "    <tr>\n",
              "      <th>1</th>\n",
              "      <td>4658148</td>\n",
              "      <td>dsgdb9nsd_000004</td>\n",
              "      <td>2</td>\n",
              "      <td>1</td>\n",
              "      <td>1JHC</td>\n",
              "    </tr>\n",
              "    <tr>\n",
              "      <th>2</th>\n",
              "      <td>4658149</td>\n",
              "      <td>dsgdb9nsd_000004</td>\n",
              "      <td>2</td>\n",
              "      <td>3</td>\n",
              "      <td>3JHH</td>\n",
              "    </tr>\n",
              "    <tr>\n",
              "      <th>3</th>\n",
              "      <td>4658150</td>\n",
              "      <td>dsgdb9nsd_000004</td>\n",
              "      <td>3</td>\n",
              "      <td>0</td>\n",
              "      <td>1JHC</td>\n",
              "    </tr>\n",
              "    <tr>\n",
              "      <th>4</th>\n",
              "      <td>4658151</td>\n",
              "      <td>dsgdb9nsd_000004</td>\n",
              "      <td>3</td>\n",
              "      <td>1</td>\n",
              "      <td>2JHC</td>\n",
              "    </tr>\n",
              "  </tbody>\n",
              "</table>\n",
              "</div>"
            ],
            "text/plain": [
              "        id     molecule_name  atom_index_0  atom_index_1  type\n",
              "0  4658147  dsgdb9nsd_000004             2             0  2JHC\n",
              "1  4658148  dsgdb9nsd_000004             2             1  1JHC\n",
              "2  4658149  dsgdb9nsd_000004             2             3  3JHH\n",
              "3  4658150  dsgdb9nsd_000004             3             0  1JHC\n",
              "4  4658151  dsgdb9nsd_000004             3             1  2JHC"
            ]
          },
          "metadata": {
            "tags": []
          },
          "execution_count": 47
        }
      ]
    },
    {
      "cell_type": "code",
      "metadata": {
        "id": "endrkacIuj6i",
        "colab_type": "code",
        "outputId": "ca7a3f54-f4df-4a9d-9747-e0410a118fcf",
        "colab": {
          "base_uri": "https://localhost:8080/",
          "height": 295
        }
      },
      "source": [
        "df.describe()"
      ],
      "execution_count": 0,
      "outputs": [
        {
          "output_type": "execute_result",
          "data": {
            "text/html": [
              "<div>\n",
              "<style scoped>\n",
              "    .dataframe tbody tr th:only-of-type {\n",
              "        vertical-align: middle;\n",
              "    }\n",
              "\n",
              "    .dataframe tbody tr th {\n",
              "        vertical-align: top;\n",
              "    }\n",
              "\n",
              "    .dataframe thead th {\n",
              "        text-align: right;\n",
              "    }\n",
              "</style>\n",
              "<table border=\"1\" class=\"dataframe\">\n",
              "  <thead>\n",
              "    <tr style=\"text-align: right;\">\n",
              "      <th></th>\n",
              "      <th>id</th>\n",
              "      <th>atom_index_0</th>\n",
              "      <th>atom_index_1</th>\n",
              "    </tr>\n",
              "  </thead>\n",
              "  <tbody>\n",
              "    <tr>\n",
              "      <th>count</th>\n",
              "      <td>2.505542e+06</td>\n",
              "      <td>2.505542e+06</td>\n",
              "      <td>2.505542e+06</td>\n",
              "    </tr>\n",
              "    <tr>\n",
              "      <th>mean</th>\n",
              "      <td>5.910918e+06</td>\n",
              "      <td>1.335449e+01</td>\n",
              "      <td>5.877949e+00</td>\n",
              "    </tr>\n",
              "    <tr>\n",
              "      <th>std</th>\n",
              "      <td>7.232878e+05</td>\n",
              "      <td>3.272209e+00</td>\n",
              "      <td>4.992313e+00</td>\n",
              "    </tr>\n",
              "    <tr>\n",
              "      <th>min</th>\n",
              "      <td>4.658147e+06</td>\n",
              "      <td>1.000000e+00</td>\n",
              "      <td>0.000000e+00</td>\n",
              "    </tr>\n",
              "    <tr>\n",
              "      <th>25%</th>\n",
              "      <td>5.284532e+06</td>\n",
              "      <td>1.100000e+01</td>\n",
              "      <td>2.000000e+00</td>\n",
              "    </tr>\n",
              "    <tr>\n",
              "      <th>50%</th>\n",
              "      <td>5.910918e+06</td>\n",
              "      <td>1.300000e+01</td>\n",
              "      <td>5.000000e+00</td>\n",
              "    </tr>\n",
              "    <tr>\n",
              "      <th>75%</th>\n",
              "      <td>6.537303e+06</td>\n",
              "      <td>1.600000e+01</td>\n",
              "      <td>8.000000e+00</td>\n",
              "    </tr>\n",
              "    <tr>\n",
              "      <th>max</th>\n",
              "      <td>7.163688e+06</td>\n",
              "      <td>2.800000e+01</td>\n",
              "      <td>2.800000e+01</td>\n",
              "    </tr>\n",
              "  </tbody>\n",
              "</table>\n",
              "</div>"
            ],
            "text/plain": [
              "                 id  atom_index_0  atom_index_1\n",
              "count  2.505542e+06  2.505542e+06  2.505542e+06\n",
              "mean   5.910918e+06  1.335449e+01  5.877949e+00\n",
              "std    7.232878e+05  3.272209e+00  4.992313e+00\n",
              "min    4.658147e+06  1.000000e+00  0.000000e+00\n",
              "25%    5.284532e+06  1.100000e+01  2.000000e+00\n",
              "50%    5.910918e+06  1.300000e+01  5.000000e+00\n",
              "75%    6.537303e+06  1.600000e+01  8.000000e+00\n",
              "max    7.163688e+06  2.800000e+01  2.800000e+01"
            ]
          },
          "metadata": {
            "tags": []
          },
          "execution_count": 40
        }
      ]
    },
    {
      "cell_type": "code",
      "metadata": {
        "id": "ai9h6jYZuoqt",
        "colab_type": "code",
        "outputId": "767dd091-97d6-4902-df5b-314a32cb11f9",
        "colab": {
          "base_uri": "https://localhost:8080/",
          "height": 172
        }
      },
      "source": [
        "df.select_dtypes(exclude=np.number).describe()"
      ],
      "execution_count": 0,
      "outputs": [
        {
          "output_type": "execute_result",
          "data": {
            "text/html": [
              "<div>\n",
              "<style scoped>\n",
              "    .dataframe tbody tr th:only-of-type {\n",
              "        vertical-align: middle;\n",
              "    }\n",
              "\n",
              "    .dataframe tbody tr th {\n",
              "        vertical-align: top;\n",
              "    }\n",
              "\n",
              "    .dataframe thead th {\n",
              "        text-align: right;\n",
              "    }\n",
              "</style>\n",
              "<table border=\"1\" class=\"dataframe\">\n",
              "  <thead>\n",
              "    <tr style=\"text-align: right;\">\n",
              "      <th></th>\n",
              "      <th>molecule_name</th>\n",
              "      <th>type</th>\n",
              "    </tr>\n",
              "  </thead>\n",
              "  <tbody>\n",
              "    <tr>\n",
              "      <th>count</th>\n",
              "      <td>2505542</td>\n",
              "      <td>2505542</td>\n",
              "    </tr>\n",
              "    <tr>\n",
              "      <th>unique</th>\n",
              "      <td>45772</td>\n",
              "      <td>8</td>\n",
              "    </tr>\n",
              "    <tr>\n",
              "      <th>top</th>\n",
              "      <td>dsgdb9nsd_041946</td>\n",
              "      <td>3JHC</td>\n",
              "    </tr>\n",
              "    <tr>\n",
              "      <th>freq</th>\n",
              "      <td>131</td>\n",
              "      <td>811999</td>\n",
              "    </tr>\n",
              "  </tbody>\n",
              "</table>\n",
              "</div>"
            ],
            "text/plain": [
              "           molecule_name     type\n",
              "count            2505542  2505542\n",
              "unique             45772        8\n",
              "top     dsgdb9nsd_041946     3JHC\n",
              "freq                 131   811999"
            ]
          },
          "metadata": {
            "tags": []
          },
          "execution_count": 43
        }
      ]
    },
    {
      "cell_type": "code",
      "metadata": {
        "id": "wJeDc3Zau4CU",
        "colab_type": "code",
        "outputId": "1b6c762c-8d13-4390-fbc5-ca29c8f01973",
        "colab": {
          "base_uri": "https://localhost:8080/",
          "height": 240
        }
      },
      "source": [
        "values = df_value_counts(df)\n",
        "values"
      ],
      "execution_count": 0,
      "outputs": [
        {
          "output_type": "stream",
          "text": [
            "different values: ['id:2505542', 'molecule_name:45772', 'atom_index_0:28', 'atom_index_1:29', 'type:8']\n"
          ],
          "name": "stdout"
        },
        {
          "output_type": "execute_result",
          "data": {
            "text/html": [
              "<div>\n",
              "<style scoped>\n",
              "    .dataframe tbody tr th:only-of-type {\n",
              "        vertical-align: middle;\n",
              "    }\n",
              "\n",
              "    .dataframe tbody tr th {\n",
              "        vertical-align: top;\n",
              "    }\n",
              "\n",
              "    .dataframe thead th {\n",
              "        text-align: right;\n",
              "    }\n",
              "</style>\n",
              "<table border=\"1\" class=\"dataframe\">\n",
              "  <thead>\n",
              "    <tr style=\"text-align: right;\">\n",
              "      <th></th>\n",
              "      <th>id</th>\n",
              "      <th>head</th>\n",
              "      <th>id</th>\n",
              "      <th>tail</th>\n",
              "      <th>molecule_name</th>\n",
              "      <th>head</th>\n",
              "      <th>molecule_name</th>\n",
              "      <th>tail</th>\n",
              "      <th>atom_index_0</th>\n",
              "      <th>head</th>\n",
              "      <th>atom_index_0</th>\n",
              "      <th>tail</th>\n",
              "      <th>atom_index_1</th>\n",
              "      <th>head</th>\n",
              "      <th>atom_index_1</th>\n",
              "      <th>tail</th>\n",
              "      <th>type</th>\n",
              "      <th>head</th>\n",
              "      <th>type</th>\n",
              "      <th>tail</th>\n",
              "    </tr>\n",
              "  </thead>\n",
              "  <tbody>\n",
              "    <tr>\n",
              "      <th>0</th>\n",
              "      <td>4658973</td>\n",
              "      <td>1</td>\n",
              "      <td>5881442</td>\n",
              "      <td>1</td>\n",
              "      <td>dsgdb9nsd_041946</td>\n",
              "      <td>131</td>\n",
              "      <td>dsgdb9nsd_000491</td>\n",
              "      <td>3</td>\n",
              "      <td>12</td>\n",
              "      <td>297573</td>\n",
              "      <td>4</td>\n",
              "      <td>303</td>\n",
              "      <td>2</td>\n",
              "      <td>290178</td>\n",
              "      <td>24</td>\n",
              "      <td>1863</td>\n",
              "      <td>3JHC</td>\n",
              "      <td>811999</td>\n",
              "      <td>3JHH</td>\n",
              "      <td>317435</td>\n",
              "    </tr>\n",
              "    <tr>\n",
              "      <th>1</th>\n",
              "      <td>5619731</td>\n",
              "      <td>1</td>\n",
              "      <td>5875297</td>\n",
              "      <td>1</td>\n",
              "      <td>dsgdb9nsd_060268</td>\n",
              "      <td>131</td>\n",
              "      <td>dsgdb9nsd_131419</td>\n",
              "      <td>2</td>\n",
              "      <td>13</td>\n",
              "      <td>271245</td>\n",
              "      <td>2</td>\n",
              "      <td>286</td>\n",
              "      <td>1</td>\n",
              "      <td>279232</td>\n",
              "      <td>26</td>\n",
              "      <td>387</td>\n",
              "      <td>2JHC</td>\n",
              "      <td>613138</td>\n",
              "      <td>2JHH</td>\n",
              "      <td>203126</td>\n",
              "    </tr>\n",
              "    <tr>\n",
              "      <th>2</th>\n",
              "      <td>5605402</td>\n",
              "      <td>1</td>\n",
              "      <td>5877344</td>\n",
              "      <td>1</td>\n",
              "      <td>dsgdb9nsd_060445</td>\n",
              "      <td>131</td>\n",
              "      <td>dsgdb9nsd_131074</td>\n",
              "      <td>2</td>\n",
              "      <td>9</td>\n",
              "      <td>261752</td>\n",
              "      <td>1</td>\n",
              "      <td>137</td>\n",
              "      <td>3</td>\n",
              "      <td>246208</td>\n",
              "      <td>25</td>\n",
              "      <td>372</td>\n",
              "      <td>1JHC</td>\n",
              "      <td>380609</td>\n",
              "      <td>3JHN</td>\n",
              "      <td>90616</td>\n",
              "    </tr>\n",
              "    <tr>\n",
              "      <th>3</th>\n",
              "      <td>5607449</td>\n",
              "      <td>1</td>\n",
              "      <td>5789279</td>\n",
              "      <td>1</td>\n",
              "      <td>dsgdb9nsd_096326</td>\n",
              "      <td>131</td>\n",
              "      <td>dsgdb9nsd_027034</td>\n",
              "      <td>2</td>\n",
              "      <td>14</td>\n",
              "      <td>255595</td>\n",
              "      <td>27</td>\n",
              "      <td>54</td>\n",
              "      <td>4</td>\n",
              "      <td>236209</td>\n",
              "      <td>28</td>\n",
              "      <td>34</td>\n",
              "      <td>3JHH</td>\n",
              "      <td>317435</td>\n",
              "      <td>2JHN</td>\n",
              "      <td>64424</td>\n",
              "    </tr>\n",
              "    <tr>\n",
              "      <th>4</th>\n",
              "      <td>5609496</td>\n",
              "      <td>1</td>\n",
              "      <td>4659427</td>\n",
              "      <td>1</td>\n",
              "      <td>dsgdb9nsd_116157</td>\n",
              "      <td>130</td>\n",
              "      <td>dsgdb9nsd_132243</td>\n",
              "      <td>2</td>\n",
              "      <td>10</td>\n",
              "      <td>255083</td>\n",
              "      <td>28</td>\n",
              "      <td>43</td>\n",
              "      <td>5</td>\n",
              "      <td>223022</td>\n",
              "      <td>27</td>\n",
              "      <td>23</td>\n",
              "      <td>2JHH</td>\n",
              "      <td>203126</td>\n",
              "      <td>1JHN</td>\n",
              "      <td>24195</td>\n",
              "    </tr>\n",
              "  </tbody>\n",
              "</table>\n",
              "</div>"
            ],
            "text/plain": [
              "        id  head       id  tail  ...  type    head  type    tail\n",
              "0  4658973     1  5881442     1  ...  3JHC  811999  3JHH  317435\n",
              "1  5619731     1  5875297     1  ...  2JHC  613138  2JHH  203126\n",
              "2  5605402     1  5877344     1  ...  1JHC  380609  3JHN   90616\n",
              "3  5607449     1  5789279     1  ...  3JHH  317435  2JHN   64424\n",
              "4  5609496     1  4659427     1  ...  2JHH  203126  1JHN   24195\n",
              "\n",
              "[5 rows x 20 columns]"
            ]
          },
          "metadata": {
            "tags": []
          },
          "execution_count": 44
        }
      ]
    },
    {
      "cell_type": "markdown",
      "metadata": {
        "id": "ruNWEqhKvo69",
        "colab_type": "text"
      },
      "source": [
        "## structures.csv  \n",
        "\n",
        "for both train and test molecules"
      ]
    },
    {
      "cell_type": "code",
      "metadata": {
        "id": "a27xRmXYvgSy",
        "colab_type": "code",
        "outputId": "5acebb6e-24ab-479c-ffb7-836fdd98687d",
        "colab": {
          "base_uri": "https://localhost:8080/",
          "height": 220
        }
      },
      "source": [
        "f = fnames[2]\n",
        "df = pd.read_csv(path_molecular+f+'.csv')\n",
        "print(f, df.shape)\n",
        "df.head()"
      ],
      "execution_count": 0,
      "outputs": [
        {
          "output_type": "stream",
          "text": [
            "structures (2358657, 6)\n"
          ],
          "name": "stdout"
        },
        {
          "output_type": "execute_result",
          "data": {
            "text/html": [
              "<div>\n",
              "<style scoped>\n",
              "    .dataframe tbody tr th:only-of-type {\n",
              "        vertical-align: middle;\n",
              "    }\n",
              "\n",
              "    .dataframe tbody tr th {\n",
              "        vertical-align: top;\n",
              "    }\n",
              "\n",
              "    .dataframe thead th {\n",
              "        text-align: right;\n",
              "    }\n",
              "</style>\n",
              "<table border=\"1\" class=\"dataframe\">\n",
              "  <thead>\n",
              "    <tr style=\"text-align: right;\">\n",
              "      <th></th>\n",
              "      <th>molecule_name</th>\n",
              "      <th>atom_index</th>\n",
              "      <th>atom</th>\n",
              "      <th>x</th>\n",
              "      <th>y</th>\n",
              "      <th>z</th>\n",
              "    </tr>\n",
              "  </thead>\n",
              "  <tbody>\n",
              "    <tr>\n",
              "      <th>0</th>\n",
              "      <td>dsgdb9nsd_000001</td>\n",
              "      <td>0</td>\n",
              "      <td>C</td>\n",
              "      <td>-0.012698</td>\n",
              "      <td>1.085804</td>\n",
              "      <td>0.008001</td>\n",
              "    </tr>\n",
              "    <tr>\n",
              "      <th>1</th>\n",
              "      <td>dsgdb9nsd_000001</td>\n",
              "      <td>1</td>\n",
              "      <td>H</td>\n",
              "      <td>0.002150</td>\n",
              "      <td>-0.006031</td>\n",
              "      <td>0.001976</td>\n",
              "    </tr>\n",
              "    <tr>\n",
              "      <th>2</th>\n",
              "      <td>dsgdb9nsd_000001</td>\n",
              "      <td>2</td>\n",
              "      <td>H</td>\n",
              "      <td>1.011731</td>\n",
              "      <td>1.463751</td>\n",
              "      <td>0.000277</td>\n",
              "    </tr>\n",
              "    <tr>\n",
              "      <th>3</th>\n",
              "      <td>dsgdb9nsd_000001</td>\n",
              "      <td>3</td>\n",
              "      <td>H</td>\n",
              "      <td>-0.540815</td>\n",
              "      <td>1.447527</td>\n",
              "      <td>-0.876644</td>\n",
              "    </tr>\n",
              "    <tr>\n",
              "      <th>4</th>\n",
              "      <td>dsgdb9nsd_000001</td>\n",
              "      <td>4</td>\n",
              "      <td>H</td>\n",
              "      <td>-0.523814</td>\n",
              "      <td>1.437933</td>\n",
              "      <td>0.906397</td>\n",
              "    </tr>\n",
              "  </tbody>\n",
              "</table>\n",
              "</div>"
            ],
            "text/plain": [
              "      molecule_name  atom_index atom         x         y         z\n",
              "0  dsgdb9nsd_000001           0    C -0.012698  1.085804  0.008001\n",
              "1  dsgdb9nsd_000001           1    H  0.002150 -0.006031  0.001976\n",
              "2  dsgdb9nsd_000001           2    H  1.011731  1.463751  0.000277\n",
              "3  dsgdb9nsd_000001           3    H -0.540815  1.447527 -0.876644\n",
              "4  dsgdb9nsd_000001           4    H -0.523814  1.437933  0.906397"
            ]
          },
          "metadata": {
            "tags": []
          },
          "execution_count": 48
        }
      ]
    },
    {
      "cell_type": "code",
      "metadata": {
        "id": "3_lr1ozYvkbH",
        "colab_type": "code",
        "outputId": "47112e00-1b7c-4401-8b29-d65686a9b60b",
        "colab": {
          "base_uri": "https://localhost:8080/",
          "height": 295
        }
      },
      "source": [
        "df.describe()"
      ],
      "execution_count": 0,
      "outputs": [
        {
          "output_type": "execute_result",
          "data": {
            "text/html": [
              "<div>\n",
              "<style scoped>\n",
              "    .dataframe tbody tr th:only-of-type {\n",
              "        vertical-align: middle;\n",
              "    }\n",
              "\n",
              "    .dataframe tbody tr th {\n",
              "        vertical-align: top;\n",
              "    }\n",
              "\n",
              "    .dataframe thead th {\n",
              "        text-align: right;\n",
              "    }\n",
              "</style>\n",
              "<table border=\"1\" class=\"dataframe\">\n",
              "  <thead>\n",
              "    <tr style=\"text-align: right;\">\n",
              "      <th></th>\n",
              "      <th>atom_index</th>\n",
              "      <th>x</th>\n",
              "      <th>y</th>\n",
              "      <th>z</th>\n",
              "    </tr>\n",
              "  </thead>\n",
              "  <tbody>\n",
              "    <tr>\n",
              "      <th>count</th>\n",
              "      <td>2.358657e+06</td>\n",
              "      <td>2.358657e+06</td>\n",
              "      <td>2.358657e+06</td>\n",
              "      <td>2.358657e+06</td>\n",
              "    </tr>\n",
              "    <tr>\n",
              "      <th>mean</th>\n",
              "      <td>8.757349e+00</td>\n",
              "      <td>9.489178e-02</td>\n",
              "      <td>-3.337381e-01</td>\n",
              "      <td>6.241504e-02</td>\n",
              "    </tr>\n",
              "    <tr>\n",
              "      <th>std</th>\n",
              "      <td>5.592487e+00</td>\n",
              "      <td>1.655271e+00</td>\n",
              "      <td>1.989152e+00</td>\n",
              "      <td>1.445870e+00</td>\n",
              "    </tr>\n",
              "    <tr>\n",
              "      <th>min</th>\n",
              "      <td>0.000000e+00</td>\n",
              "      <td>-9.234889e+00</td>\n",
              "      <td>-9.933938e+00</td>\n",
              "      <td>-9.134765e+00</td>\n",
              "    </tr>\n",
              "    <tr>\n",
              "      <th>25%</th>\n",
              "      <td>4.000000e+00</td>\n",
              "      <td>-8.746097e-01</td>\n",
              "      <td>-1.826156e+00</td>\n",
              "      <td>-8.424896e-01</td>\n",
              "    </tr>\n",
              "    <tr>\n",
              "      <th>50%</th>\n",
              "      <td>9.000000e+00</td>\n",
              "      <td>5.183615e-02</td>\n",
              "      <td>-4.035932e-01</td>\n",
              "      <td>1.093207e-02</td>\n",
              "    </tr>\n",
              "    <tr>\n",
              "      <th>75%</th>\n",
              "      <td>1.300000e+01</td>\n",
              "      <td>1.116101e+00</td>\n",
              "      <td>1.373660e+00</td>\n",
              "      <td>9.394357e-01</td>\n",
              "    </tr>\n",
              "    <tr>\n",
              "      <th>max</th>\n",
              "      <td>2.800000e+01</td>\n",
              "      <td>9.382240e+00</td>\n",
              "      <td>1.018196e+01</td>\n",
              "      <td>7.894733e+00</td>\n",
              "    </tr>\n",
              "  </tbody>\n",
              "</table>\n",
              "</div>"
            ],
            "text/plain": [
              "         atom_index             x             y             z\n",
              "count  2.358657e+06  2.358657e+06  2.358657e+06  2.358657e+06\n",
              "mean   8.757349e+00  9.489178e-02 -3.337381e-01  6.241504e-02\n",
              "std    5.592487e+00  1.655271e+00  1.989152e+00  1.445870e+00\n",
              "min    0.000000e+00 -9.234889e+00 -9.933938e+00 -9.134765e+00\n",
              "25%    4.000000e+00 -8.746097e-01 -1.826156e+00 -8.424896e-01\n",
              "50%    9.000000e+00  5.183615e-02 -4.035932e-01  1.093207e-02\n",
              "75%    1.300000e+01  1.116101e+00  1.373660e+00  9.394357e-01\n",
              "max    2.800000e+01  9.382240e+00  1.018196e+01  7.894733e+00"
            ]
          },
          "metadata": {
            "tags": []
          },
          "execution_count": 49
        }
      ]
    },
    {
      "cell_type": "code",
      "metadata": {
        "id": "sMYknfxxxumZ",
        "colab_type": "code",
        "outputId": "20438891-55ea-4d10-b640-0169e046b988",
        "colab": {
          "base_uri": "https://localhost:8080/",
          "height": 172
        }
      },
      "source": [
        "df.select_dtypes(exclude=np.number).describe()"
      ],
      "execution_count": 0,
      "outputs": [
        {
          "output_type": "execute_result",
          "data": {
            "text/html": [
              "<div>\n",
              "<style scoped>\n",
              "    .dataframe tbody tr th:only-of-type {\n",
              "        vertical-align: middle;\n",
              "    }\n",
              "\n",
              "    .dataframe tbody tr th {\n",
              "        vertical-align: top;\n",
              "    }\n",
              "\n",
              "    .dataframe thead th {\n",
              "        text-align: right;\n",
              "    }\n",
              "</style>\n",
              "<table border=\"1\" class=\"dataframe\">\n",
              "  <thead>\n",
              "    <tr style=\"text-align: right;\">\n",
              "      <th></th>\n",
              "      <th>molecule_name</th>\n",
              "      <th>atom</th>\n",
              "    </tr>\n",
              "  </thead>\n",
              "  <tbody>\n",
              "    <tr>\n",
              "      <th>count</th>\n",
              "      <td>2358657</td>\n",
              "      <td>2358657</td>\n",
              "    </tr>\n",
              "    <tr>\n",
              "      <th>unique</th>\n",
              "      <td>130775</td>\n",
              "      <td>5</td>\n",
              "    </tr>\n",
              "    <tr>\n",
              "      <th>top</th>\n",
              "      <td>dsgdb9nsd_058183</td>\n",
              "      <td>H</td>\n",
              "    </tr>\n",
              "    <tr>\n",
              "      <th>freq</th>\n",
              "      <td>29</td>\n",
              "      <td>1208387</td>\n",
              "    </tr>\n",
              "  </tbody>\n",
              "</table>\n",
              "</div>"
            ],
            "text/plain": [
              "           molecule_name     atom\n",
              "count            2358657  2358657\n",
              "unique            130775        5\n",
              "top     dsgdb9nsd_058183        H\n",
              "freq                  29  1208387"
            ]
          },
          "metadata": {
            "tags": []
          },
          "execution_count": 51
        }
      ]
    },
    {
      "cell_type": "code",
      "metadata": {
        "id": "cpaIVSCtvn1I",
        "colab_type": "code",
        "outputId": "c04cb904-0aa9-4bea-8e47-c38d1d63359a",
        "colab": {
          "base_uri": "https://localhost:8080/",
          "height": 240
        }
      },
      "source": [
        "values = df_value_counts(df)\n",
        "values"
      ],
      "execution_count": 0,
      "outputs": [
        {
          "output_type": "stream",
          "text": [
            "different values: ['molecule_name:130775', 'atom_index:29', 'atom:5', 'x:2358441', 'y:2358364', 'z:2358421']\n"
          ],
          "name": "stdout"
        },
        {
          "output_type": "execute_result",
          "data": {
            "text/html": [
              "<div>\n",
              "<style scoped>\n",
              "    .dataframe tbody tr th:only-of-type {\n",
              "        vertical-align: middle;\n",
              "    }\n",
              "\n",
              "    .dataframe tbody tr th {\n",
              "        vertical-align: top;\n",
              "    }\n",
              "\n",
              "    .dataframe thead th {\n",
              "        text-align: right;\n",
              "    }\n",
              "</style>\n",
              "<table border=\"1\" class=\"dataframe\">\n",
              "  <thead>\n",
              "    <tr style=\"text-align: right;\">\n",
              "      <th></th>\n",
              "      <th>molecule_name</th>\n",
              "      <th>head</th>\n",
              "      <th>molecule_name</th>\n",
              "      <th>tail</th>\n",
              "      <th>atom_index</th>\n",
              "      <th>head</th>\n",
              "      <th>atom_index</th>\n",
              "      <th>tail</th>\n",
              "      <th>atom</th>\n",
              "      <th>head</th>\n",
              "      <th>atom</th>\n",
              "      <th>tail</th>\n",
              "      <th>x</th>\n",
              "      <th>head</th>\n",
              "      <th>x</th>\n",
              "      <th>tail</th>\n",
              "      <th>y</th>\n",
              "      <th>head</th>\n",
              "      <th>y</th>\n",
              "      <th>tail</th>\n",
              "      <th>z</th>\n",
              "      <th>head</th>\n",
              "      <th>z</th>\n",
              "      <th>tail</th>\n",
              "    </tr>\n",
              "  </thead>\n",
              "  <tbody>\n",
              "    <tr>\n",
              "      <th>0</th>\n",
              "      <td>dsgdb9nsd_058183</td>\n",
              "      <td>29</td>\n",
              "      <td>dsgdb9nsd_000001</td>\n",
              "      <td>5</td>\n",
              "      <td>0</td>\n",
              "      <td>130775</td>\n",
              "      <td>24</td>\n",
              "      <td>2373</td>\n",
              "      <td>H</td>\n",
              "      <td>1208387</td>\n",
              "      <td>H</td>\n",
              "      <td>1208387</td>\n",
              "      <td>1.718218</td>\n",
              "      <td>2</td>\n",
              "      <td>-1.971617</td>\n",
              "      <td>1</td>\n",
              "      <td>0.000000</td>\n",
              "      <td>25</td>\n",
              "      <td>3.556175</td>\n",
              "      <td>1</td>\n",
              "      <td>1.000000</td>\n",
              "      <td>9</td>\n",
              "      <td>0.079165</td>\n",
              "      <td>1</td>\n",
              "    </tr>\n",
              "    <tr>\n",
              "      <th>1</th>\n",
              "      <td>dsgdb9nsd_101611</td>\n",
              "      <td>29</td>\n",
              "      <td>dsgdb9nsd_000002</td>\n",
              "      <td>4</td>\n",
              "      <td>1</td>\n",
              "      <td>130775</td>\n",
              "      <td>25</td>\n",
              "      <td>450</td>\n",
              "      <td>C</td>\n",
              "      <td>831726</td>\n",
              "      <td>C</td>\n",
              "      <td>831726</td>\n",
              "      <td>1.340796</td>\n",
              "      <td>2</td>\n",
              "      <td>-1.710241</td>\n",
              "      <td>1</td>\n",
              "      <td>2.011211</td>\n",
              "      <td>2</td>\n",
              "      <td>-0.265920</td>\n",
              "      <td>1</td>\n",
              "      <td>0.000000</td>\n",
              "      <td>6</td>\n",
              "      <td>1.989778</td>\n",
              "      <td>1</td>\n",
              "    </tr>\n",
              "    <tr>\n",
              "      <th>2</th>\n",
              "      <td>dsgdb9nsd_099964</td>\n",
              "      <td>29</td>\n",
              "      <td>dsgdb9nsd_000004</td>\n",
              "      <td>4</td>\n",
              "      <td>2</td>\n",
              "      <td>130775</td>\n",
              "      <td>26</td>\n",
              "      <td>391</td>\n",
              "      <td>O</td>\n",
              "      <td>183187</td>\n",
              "      <td>O</td>\n",
              "      <td>183187</td>\n",
              "      <td>1.541167</td>\n",
              "      <td>2</td>\n",
              "      <td>0.646930</td>\n",
              "      <td>1</td>\n",
              "      <td>-1.001659</td>\n",
              "      <td>2</td>\n",
              "      <td>1.419407</td>\n",
              "      <td>1</td>\n",
              "      <td>-1.261138</td>\n",
              "      <td>2</td>\n",
              "      <td>0.609443</td>\n",
              "      <td>1</td>\n",
              "    </tr>\n",
              "    <tr>\n",
              "      <th>3</th>\n",
              "      <td>dsgdb9nsd_122877</td>\n",
              "      <td>29</td>\n",
              "      <td>dsgdb9nsd_000003</td>\n",
              "      <td>3</td>\n",
              "      <td>3</td>\n",
              "      <td>130773</td>\n",
              "      <td>27</td>\n",
              "      <td>35</td>\n",
              "      <td>N</td>\n",
              "      <td>132361</td>\n",
              "      <td>N</td>\n",
              "      <td>132361</td>\n",
              "      <td>1.359100</td>\n",
              "      <td>2</td>\n",
              "      <td>2.457004</td>\n",
              "      <td>1</td>\n",
              "      <td>3.382052</td>\n",
              "      <td>2</td>\n",
              "      <td>-0.291140</td>\n",
              "      <td>1</td>\n",
              "      <td>1.998706</td>\n",
              "      <td>2</td>\n",
              "      <td>0.003090</td>\n",
              "      <td>1</td>\n",
              "    </tr>\n",
              "    <tr>\n",
              "      <th>4</th>\n",
              "      <td>dsgdb9nsd_101816</td>\n",
              "      <td>29</td>\n",
              "      <td>dsgdb9nsd_000005</td>\n",
              "      <td>3</td>\n",
              "      <td>4</td>\n",
              "      <td>130771</td>\n",
              "      <td>28</td>\n",
              "      <td>35</td>\n",
              "      <td>F</td>\n",
              "      <td>2996</td>\n",
              "      <td>F</td>\n",
              "      <td>2996</td>\n",
              "      <td>-2.147225</td>\n",
              "      <td>2</td>\n",
              "      <td>-0.169536</td>\n",
              "      <td>1</td>\n",
              "      <td>2.216082</td>\n",
              "      <td>2</td>\n",
              "      <td>-2.329218</td>\n",
              "      <td>1</td>\n",
              "      <td>-1.240759</td>\n",
              "      <td>2</td>\n",
              "      <td>-1.644857</td>\n",
              "      <td>1</td>\n",
              "    </tr>\n",
              "  </tbody>\n",
              "</table>\n",
              "</div>"
            ],
            "text/plain": [
              "      molecule_name  head     molecule_name  ...  head         z  tail\n",
              "0  dsgdb9nsd_058183    29  dsgdb9nsd_000001  ...     9  0.079165     1\n",
              "1  dsgdb9nsd_101611    29  dsgdb9nsd_000002  ...     6  1.989778     1\n",
              "2  dsgdb9nsd_099964    29  dsgdb9nsd_000004  ...     2  0.609443     1\n",
              "3  dsgdb9nsd_122877    29  dsgdb9nsd_000003  ...     2  0.003090     1\n",
              "4  dsgdb9nsd_101816    29  dsgdb9nsd_000005  ...     2 -1.644857     1\n",
              "\n",
              "[5 rows x 24 columns]"
            ]
          },
          "metadata": {
            "tags": []
          },
          "execution_count": 50
        }
      ]
    },
    {
      "cell_type": "markdown",
      "metadata": {
        "id": "jghU0p2nyBe0",
        "colab_type": "text"
      },
      "source": [
        "## scalar_coupling_contributions.csv   \n",
        "\n",
        "This is only for train molecule data (85003 molecules)."
      ]
    },
    {
      "cell_type": "code",
      "metadata": {
        "id": "yUfslZW-x-v0",
        "colab_type": "code",
        "outputId": "9f3ba3a7-a6bd-4dcb-a620-5f47e2809487",
        "colab": {
          "base_uri": "https://localhost:8080/",
          "height": 220
        }
      },
      "source": [
        "f = fnames[3]\n",
        "df = pd.read_csv(path_molecular+f+'.csv')\n",
        "print(f, df.shape)\n",
        "df.head()"
      ],
      "execution_count": 0,
      "outputs": [
        {
          "output_type": "stream",
          "text": [
            "scalar_coupling_contributions (4658147, 8)\n"
          ],
          "name": "stdout"
        },
        {
          "output_type": "execute_result",
          "data": {
            "text/html": [
              "<div>\n",
              "<style scoped>\n",
              "    .dataframe tbody tr th:only-of-type {\n",
              "        vertical-align: middle;\n",
              "    }\n",
              "\n",
              "    .dataframe tbody tr th {\n",
              "        vertical-align: top;\n",
              "    }\n",
              "\n",
              "    .dataframe thead th {\n",
              "        text-align: right;\n",
              "    }\n",
              "</style>\n",
              "<table border=\"1\" class=\"dataframe\">\n",
              "  <thead>\n",
              "    <tr style=\"text-align: right;\">\n",
              "      <th></th>\n",
              "      <th>molecule_name</th>\n",
              "      <th>atom_index_0</th>\n",
              "      <th>atom_index_1</th>\n",
              "      <th>type</th>\n",
              "      <th>fc</th>\n",
              "      <th>sd</th>\n",
              "      <th>pso</th>\n",
              "      <th>dso</th>\n",
              "    </tr>\n",
              "  </thead>\n",
              "  <tbody>\n",
              "    <tr>\n",
              "      <th>0</th>\n",
              "      <td>dsgdb9nsd_000001</td>\n",
              "      <td>1</td>\n",
              "      <td>0</td>\n",
              "      <td>1JHC</td>\n",
              "      <td>83.0224</td>\n",
              "      <td>0.254579</td>\n",
              "      <td>1.25862</td>\n",
              "      <td>0.272010</td>\n",
              "    </tr>\n",
              "    <tr>\n",
              "      <th>1</th>\n",
              "      <td>dsgdb9nsd_000001</td>\n",
              "      <td>1</td>\n",
              "      <td>2</td>\n",
              "      <td>2JHH</td>\n",
              "      <td>-11.0347</td>\n",
              "      <td>0.352978</td>\n",
              "      <td>2.85839</td>\n",
              "      <td>-3.433600</td>\n",
              "    </tr>\n",
              "    <tr>\n",
              "      <th>2</th>\n",
              "      <td>dsgdb9nsd_000001</td>\n",
              "      <td>1</td>\n",
              "      <td>3</td>\n",
              "      <td>2JHH</td>\n",
              "      <td>-11.0325</td>\n",
              "      <td>0.352944</td>\n",
              "      <td>2.85852</td>\n",
              "      <td>-3.433870</td>\n",
              "    </tr>\n",
              "    <tr>\n",
              "      <th>3</th>\n",
              "      <td>dsgdb9nsd_000001</td>\n",
              "      <td>1</td>\n",
              "      <td>4</td>\n",
              "      <td>2JHH</td>\n",
              "      <td>-11.0319</td>\n",
              "      <td>0.352934</td>\n",
              "      <td>2.85855</td>\n",
              "      <td>-3.433930</td>\n",
              "    </tr>\n",
              "    <tr>\n",
              "      <th>4</th>\n",
              "      <td>dsgdb9nsd_000001</td>\n",
              "      <td>2</td>\n",
              "      <td>0</td>\n",
              "      <td>1JHC</td>\n",
              "      <td>83.0222</td>\n",
              "      <td>0.254585</td>\n",
              "      <td>1.25861</td>\n",
              "      <td>0.272013</td>\n",
              "    </tr>\n",
              "  </tbody>\n",
              "</table>\n",
              "</div>"
            ],
            "text/plain": [
              "      molecule_name  atom_index_0  atom_index_1  ...        sd      pso       dso\n",
              "0  dsgdb9nsd_000001             1             0  ...  0.254579  1.25862  0.272010\n",
              "1  dsgdb9nsd_000001             1             2  ...  0.352978  2.85839 -3.433600\n",
              "2  dsgdb9nsd_000001             1             3  ...  0.352944  2.85852 -3.433870\n",
              "3  dsgdb9nsd_000001             1             4  ...  0.352934  2.85855 -3.433930\n",
              "4  dsgdb9nsd_000001             2             0  ...  0.254585  1.25861  0.272013\n",
              "\n",
              "[5 rows x 8 columns]"
            ]
          },
          "metadata": {
            "tags": []
          },
          "execution_count": 52
        }
      ]
    },
    {
      "cell_type": "code",
      "metadata": {
        "id": "9GTkitJbyIo4",
        "colab_type": "code",
        "outputId": "fd81e40a-562e-4340-e6f4-21c8d11dc5a2",
        "colab": {
          "base_uri": "https://localhost:8080/",
          "height": 295
        }
      },
      "source": [
        "df.describe()"
      ],
      "execution_count": 0,
      "outputs": [
        {
          "output_type": "execute_result",
          "data": {
            "text/html": [
              "<div>\n",
              "<style scoped>\n",
              "    .dataframe tbody tr th:only-of-type {\n",
              "        vertical-align: middle;\n",
              "    }\n",
              "\n",
              "    .dataframe tbody tr th {\n",
              "        vertical-align: top;\n",
              "    }\n",
              "\n",
              "    .dataframe thead th {\n",
              "        text-align: right;\n",
              "    }\n",
              "</style>\n",
              "<table border=\"1\" class=\"dataframe\">\n",
              "  <thead>\n",
              "    <tr style=\"text-align: right;\">\n",
              "      <th></th>\n",
              "      <th>atom_index_0</th>\n",
              "      <th>atom_index_1</th>\n",
              "      <th>fc</th>\n",
              "      <th>sd</th>\n",
              "      <th>pso</th>\n",
              "      <th>dso</th>\n",
              "    </tr>\n",
              "  </thead>\n",
              "  <tbody>\n",
              "    <tr>\n",
              "      <th>count</th>\n",
              "      <td>4.658147e+06</td>\n",
              "      <td>4.658147e+06</td>\n",
              "      <td>4.658147e+06</td>\n",
              "      <td>4.658147e+06</td>\n",
              "      <td>4.658147e+06</td>\n",
              "      <td>4.658147e+06</td>\n",
              "    </tr>\n",
              "    <tr>\n",
              "      <th>mean</th>\n",
              "      <td>1.335689e+01</td>\n",
              "      <td>5.883966e+00</td>\n",
              "      <td>1.569776e+01</td>\n",
              "      <td>8.233637e-02</td>\n",
              "      <td>3.751619e-01</td>\n",
              "      <td>-2.336117e-01</td>\n",
              "    </tr>\n",
              "    <tr>\n",
              "      <th>std</th>\n",
              "      <td>3.267712e+00</td>\n",
              "      <td>4.993943e+00</td>\n",
              "      <td>3.441461e+01</td>\n",
              "      <td>1.386516e-01</td>\n",
              "      <td>7.422133e-01</td>\n",
              "      <td>9.296036e-01</td>\n",
              "    </tr>\n",
              "    <tr>\n",
              "      <th>min</th>\n",
              "      <td>0.000000e+00</td>\n",
              "      <td>0.000000e+00</td>\n",
              "      <td>-3.722400e+01</td>\n",
              "      <td>-3.184910e+00</td>\n",
              "      <td>-3.288110e+00</td>\n",
              "      <td>-6.856790e+00</td>\n",
              "    </tr>\n",
              "    <tr>\n",
              "      <th>25%</th>\n",
              "      <td>1.100000e+01</td>\n",
              "      <td>2.000000e+00</td>\n",
              "      <td>-2.129645e-01</td>\n",
              "      <td>-1.438100e-02</td>\n",
              "      <td>-3.506500e-02</td>\n",
              "      <td>-3.734250e-01</td>\n",
              "    </tr>\n",
              "    <tr>\n",
              "      <th>50%</th>\n",
              "      <td>1.300000e+01</td>\n",
              "      <td>5.000000e+00</td>\n",
              "      <td>2.327140e+00</td>\n",
              "      <td>5.072900e-02</td>\n",
              "      <td>1.594810e-01</td>\n",
              "      <td>-6.476600e-02</td>\n",
              "    </tr>\n",
              "    <tr>\n",
              "      <th>75%</th>\n",
              "      <td>1.600000e+01</td>\n",
              "      <td>8.000000e+00</td>\n",
              "      <td>7.472885e+00</td>\n",
              "      <td>1.303520e-01</td>\n",
              "      <td>4.350445e-01</td>\n",
              "      <td>1.433210e-01</td>\n",
              "    </tr>\n",
              "    <tr>\n",
              "      <th>max</th>\n",
              "      <td>2.800000e+01</td>\n",
              "      <td>2.800000e+01</td>\n",
              "      <td>2.055170e+02</td>\n",
              "      <td>2.296690e+00</td>\n",
              "      <td>8.201530e+00</td>\n",
              "      <td>1.701610e+00</td>\n",
              "    </tr>\n",
              "  </tbody>\n",
              "</table>\n",
              "</div>"
            ],
            "text/plain": [
              "       atom_index_0  atom_index_1  ...           pso           dso\n",
              "count  4.658147e+06  4.658147e+06  ...  4.658147e+06  4.658147e+06\n",
              "mean   1.335689e+01  5.883966e+00  ...  3.751619e-01 -2.336117e-01\n",
              "std    3.267712e+00  4.993943e+00  ...  7.422133e-01  9.296036e-01\n",
              "min    0.000000e+00  0.000000e+00  ... -3.288110e+00 -6.856790e+00\n",
              "25%    1.100000e+01  2.000000e+00  ... -3.506500e-02 -3.734250e-01\n",
              "50%    1.300000e+01  5.000000e+00  ...  1.594810e-01 -6.476600e-02\n",
              "75%    1.600000e+01  8.000000e+00  ...  4.350445e-01  1.433210e-01\n",
              "max    2.800000e+01  2.800000e+01  ...  8.201530e+00  1.701610e+00\n",
              "\n",
              "[8 rows x 6 columns]"
            ]
          },
          "metadata": {
            "tags": []
          },
          "execution_count": 53
        }
      ]
    },
    {
      "cell_type": "code",
      "metadata": {
        "id": "EVgpCsmJylwf",
        "colab_type": "code",
        "outputId": "ef3cca05-b936-42f5-bcf9-e01054ba4397",
        "colab": {
          "base_uri": "https://localhost:8080/",
          "height": 240
        }
      },
      "source": [
        "values = df_value_counts(df)\n",
        "values"
      ],
      "execution_count": 0,
      "outputs": [
        {
          "output_type": "stream",
          "text": [
            "different values: ['molecule_name:85003', 'atom_index_0:29', 'atom_index_1:29', 'type:8', 'fc:2171072', 'sd:576942', 'pso:1355945', 'dso:1443215']\n"
          ],
          "name": "stdout"
        },
        {
          "output_type": "execute_result",
          "data": {
            "text/html": [
              "<div>\n",
              "<style scoped>\n",
              "    .dataframe tbody tr th:only-of-type {\n",
              "        vertical-align: middle;\n",
              "    }\n",
              "\n",
              "    .dataframe tbody tr th {\n",
              "        vertical-align: top;\n",
              "    }\n",
              "\n",
              "    .dataframe thead th {\n",
              "        text-align: right;\n",
              "    }\n",
              "</style>\n",
              "<table border=\"1\" class=\"dataframe\">\n",
              "  <thead>\n",
              "    <tr style=\"text-align: right;\">\n",
              "      <th></th>\n",
              "      <th>molecule_name</th>\n",
              "      <th>head</th>\n",
              "      <th>molecule_name</th>\n",
              "      <th>tail</th>\n",
              "      <th>atom_index_0</th>\n",
              "      <th>head</th>\n",
              "      <th>atom_index_0</th>\n",
              "      <th>tail</th>\n",
              "      <th>atom_index_1</th>\n",
              "      <th>head</th>\n",
              "      <th>atom_index_1</th>\n",
              "      <th>tail</th>\n",
              "      <th>type</th>\n",
              "      <th>head</th>\n",
              "      <th>type</th>\n",
              "      <th>tail</th>\n",
              "      <th>fc</th>\n",
              "      <th>head</th>\n",
              "      <th>fc</th>\n",
              "      <th>tail</th>\n",
              "      <th>sd</th>\n",
              "      <th>head</th>\n",
              "      <th>sd</th>\n",
              "      <th>tail</th>\n",
              "      <th>pso</th>\n",
              "      <th>head</th>\n",
              "      <th>pso</th>\n",
              "      <th>tail</th>\n",
              "      <th>dso</th>\n",
              "      <th>head</th>\n",
              "      <th>dso</th>\n",
              "      <th>tail</th>\n",
              "    </tr>\n",
              "  </thead>\n",
              "  <tbody>\n",
              "    <tr>\n",
              "      <th>0</th>\n",
              "      <td>dsgdb9nsd_042139</td>\n",
              "      <td>135</td>\n",
              "      <td>dsgdb9nsd_021441</td>\n",
              "      <td>2</td>\n",
              "      <td>12</td>\n",
              "      <td>552263</td>\n",
              "      <td>4</td>\n",
              "      <td>635</td>\n",
              "      <td>2</td>\n",
              "      <td>537311</td>\n",
              "      <td>24</td>\n",
              "      <td>3520</td>\n",
              "      <td>3JHC</td>\n",
              "      <td>1510379</td>\n",
              "      <td>3JHH</td>\n",
              "      <td>590611</td>\n",
              "      <td>-11.6819</td>\n",
              "      <td>32</td>\n",
              "      <td>-3.977640</td>\n",
              "      <td>1</td>\n",
              "      <td>-0.032579</td>\n",
              "      <td>49</td>\n",
              "      <td>0.498849</td>\n",
              "      <td>1</td>\n",
              "      <td>1.801740</td>\n",
              "      <td>22</td>\n",
              "      <td>-0.282650</td>\n",
              "      <td>1</td>\n",
              "      <td>1.01248</td>\n",
              "      <td>29</td>\n",
              "      <td>-0.523847</td>\n",
              "      <td>1</td>\n",
              "    </tr>\n",
              "    <tr>\n",
              "      <th>1</th>\n",
              "      <td>dsgdb9nsd_123246</td>\n",
              "      <td>133</td>\n",
              "      <td>dsgdb9nsd_000828</td>\n",
              "      <td>2</td>\n",
              "      <td>13</td>\n",
              "      <td>505229</td>\n",
              "      <td>1</td>\n",
              "      <td>225</td>\n",
              "      <td>1</td>\n",
              "      <td>517218</td>\n",
              "      <td>26</td>\n",
              "      <td>629</td>\n",
              "      <td>2JHC</td>\n",
              "      <td>1140674</td>\n",
              "      <td>2JHH</td>\n",
              "      <td>378036</td>\n",
              "      <td>-11.5730</td>\n",
              "      <td>30</td>\n",
              "      <td>9.312150</td>\n",
              "      <td>1</td>\n",
              "      <td>-0.032230</td>\n",
              "      <td>49</td>\n",
              "      <td>0.902666</td>\n",
              "      <td>1</td>\n",
              "      <td>0.225626</td>\n",
              "      <td>22</td>\n",
              "      <td>1.151700</td>\n",
              "      <td>1</td>\n",
              "      <td>1.00908</td>\n",
              "      <td>29</td>\n",
              "      <td>-1.234130</td>\n",
              "      <td>1</td>\n",
              "    </tr>\n",
              "    <tr>\n",
              "      <th>2</th>\n",
              "      <td>dsgdb9nsd_096580</td>\n",
              "      <td>133</td>\n",
              "      <td>dsgdb9nsd_021849</td>\n",
              "      <td>2</td>\n",
              "      <td>9</td>\n",
              "      <td>485891</td>\n",
              "      <td>27</td>\n",
              "      <td>116</td>\n",
              "      <td>3</td>\n",
              "      <td>458480</td>\n",
              "      <td>25</td>\n",
              "      <td>596</td>\n",
              "      <td>1JHC</td>\n",
              "      <td>709416</td>\n",
              "      <td>3JHN</td>\n",
              "      <td>166415</td>\n",
              "      <td>-11.5540</td>\n",
              "      <td>30</td>\n",
              "      <td>-0.279036</td>\n",
              "      <td>1</td>\n",
              "      <td>-0.031363</td>\n",
              "      <td>47</td>\n",
              "      <td>-0.126418</td>\n",
              "      <td>1</td>\n",
              "      <td>-0.042280</td>\n",
              "      <td>21</td>\n",
              "      <td>0.487733</td>\n",
              "      <td>1</td>\n",
              "      <td>1.02141</td>\n",
              "      <td>29</td>\n",
              "      <td>0.789978</td>\n",
              "      <td>1</td>\n",
              "    </tr>\n",
              "    <tr>\n",
              "      <th>3</th>\n",
              "      <td>dsgdb9nsd_123139</td>\n",
              "      <td>132</td>\n",
              "      <td>dsgdb9nsd_133421</td>\n",
              "      <td>2</td>\n",
              "      <td>14</td>\n",
              "      <td>476556</td>\n",
              "      <td>28</td>\n",
              "      <td>92</td>\n",
              "      <td>4</td>\n",
              "      <td>439876</td>\n",
              "      <td>28</td>\n",
              "      <td>76</td>\n",
              "      <td>3JHH</td>\n",
              "      <td>590611</td>\n",
              "      <td>2JHN</td>\n",
              "      <td>119253</td>\n",
              "      <td>-11.6426</td>\n",
              "      <td>30</td>\n",
              "      <td>0.544804</td>\n",
              "      <td>1</td>\n",
              "      <td>-0.032530</td>\n",
              "      <td>46</td>\n",
              "      <td>0.346525</td>\n",
              "      <td>1</td>\n",
              "      <td>-0.071992</td>\n",
              "      <td>21</td>\n",
              "      <td>0.496642</td>\n",
              "      <td>1</td>\n",
              "      <td>1.03324</td>\n",
              "      <td>28</td>\n",
              "      <td>0.380959</td>\n",
              "      <td>1</td>\n",
              "    </tr>\n",
              "    <tr>\n",
              "      <th>4</th>\n",
              "      <td>dsgdb9nsd_122665</td>\n",
              "      <td>132</td>\n",
              "      <td>dsgdb9nsd_000003</td>\n",
              "      <td>1</td>\n",
              "      <td>10</td>\n",
              "      <td>473624</td>\n",
              "      <td>0</td>\n",
              "      <td>3</td>\n",
              "      <td>5</td>\n",
              "      <td>415448</td>\n",
              "      <td>27</td>\n",
              "      <td>52</td>\n",
              "      <td>2JHH</td>\n",
              "      <td>378036</td>\n",
              "      <td>1JHN</td>\n",
              "      <td>43363</td>\n",
              "      <td>-11.6345</td>\n",
              "      <td>29</td>\n",
              "      <td>0.000000</td>\n",
              "      <td>1</td>\n",
              "      <td>-0.030894</td>\n",
              "      <td>46</td>\n",
              "      <td>0.431647</td>\n",
              "      <td>1</td>\n",
              "      <td>2.009990</td>\n",
              "      <td>21</td>\n",
              "      <td>-0.394681</td>\n",
              "      <td>1</td>\n",
              "      <td>1.02708</td>\n",
              "      <td>28</td>\n",
              "      <td>0.764658</td>\n",
              "      <td>1</td>\n",
              "    </tr>\n",
              "  </tbody>\n",
              "</table>\n",
              "</div>"
            ],
            "text/plain": [
              "      molecule_name  head     molecule_name  ...  head       dso  tail\n",
              "0  dsgdb9nsd_042139   135  dsgdb9nsd_021441  ...    29 -0.523847     1\n",
              "1  dsgdb9nsd_123246   133  dsgdb9nsd_000828  ...    29 -1.234130     1\n",
              "2  dsgdb9nsd_096580   133  dsgdb9nsd_021849  ...    29  0.789978     1\n",
              "3  dsgdb9nsd_123139   132  dsgdb9nsd_133421  ...    28  0.380959     1\n",
              "4  dsgdb9nsd_122665   132  dsgdb9nsd_000003  ...    28  0.764658     1\n",
              "\n",
              "[5 rows x 32 columns]"
            ]
          },
          "metadata": {
            "tags": []
          },
          "execution_count": 54
        }
      ]
    },
    {
      "cell_type": "markdown",
      "metadata": {
        "id": "i4ynxgN77Mhe",
        "colab_type": "text"
      },
      "source": [
        "## potential_energy.csv\n",
        "\n",
        "for train data only (85003 molecules)"
      ]
    },
    {
      "cell_type": "code",
      "metadata": {
        "id": "v_s0jxi77RHP",
        "colab_type": "code",
        "outputId": "508b91f7-2442-4d2b-924f-19ad2c58f4f9",
        "colab": {
          "base_uri": "https://localhost:8080/",
          "height": 220
        }
      },
      "source": [
        "f = fnames[5]\n",
        "df = pd.read_csv(path_molecular+f+'.csv')\n",
        "print(f, df.shape)\n",
        "df.head()"
      ],
      "execution_count": 0,
      "outputs": [
        {
          "output_type": "stream",
          "text": [
            "potential_energy (85003, 2)\n"
          ],
          "name": "stdout"
        },
        {
          "output_type": "execute_result",
          "data": {
            "text/html": [
              "<div>\n",
              "<style scoped>\n",
              "    .dataframe tbody tr th:only-of-type {\n",
              "        vertical-align: middle;\n",
              "    }\n",
              "\n",
              "    .dataframe tbody tr th {\n",
              "        vertical-align: top;\n",
              "    }\n",
              "\n",
              "    .dataframe thead th {\n",
              "        text-align: right;\n",
              "    }\n",
              "</style>\n",
              "<table border=\"1\" class=\"dataframe\">\n",
              "  <thead>\n",
              "    <tr style=\"text-align: right;\">\n",
              "      <th></th>\n",
              "      <th>molecule_name</th>\n",
              "      <th>potential_energy</th>\n",
              "    </tr>\n",
              "  </thead>\n",
              "  <tbody>\n",
              "    <tr>\n",
              "      <th>0</th>\n",
              "      <td>dsgdb9nsd_000001</td>\n",
              "      <td>-40.52368</td>\n",
              "    </tr>\n",
              "    <tr>\n",
              "      <th>1</th>\n",
              "      <td>dsgdb9nsd_000002</td>\n",
              "      <td>-56.56025</td>\n",
              "    </tr>\n",
              "    <tr>\n",
              "      <th>2</th>\n",
              "      <td>dsgdb9nsd_000003</td>\n",
              "      <td>-76.42608</td>\n",
              "    </tr>\n",
              "    <tr>\n",
              "      <th>3</th>\n",
              "      <td>dsgdb9nsd_000005</td>\n",
              "      <td>-93.42849</td>\n",
              "    </tr>\n",
              "    <tr>\n",
              "      <th>4</th>\n",
              "      <td>dsgdb9nsd_000007</td>\n",
              "      <td>-79.83869</td>\n",
              "    </tr>\n",
              "  </tbody>\n",
              "</table>\n",
              "</div>"
            ],
            "text/plain": [
              "      molecule_name  potential_energy\n",
              "0  dsgdb9nsd_000001         -40.52368\n",
              "1  dsgdb9nsd_000002         -56.56025\n",
              "2  dsgdb9nsd_000003         -76.42608\n",
              "3  dsgdb9nsd_000005         -93.42849\n",
              "4  dsgdb9nsd_000007         -79.83869"
            ]
          },
          "metadata": {
            "tags": []
          },
          "execution_count": 64
        }
      ]
    },
    {
      "cell_type": "code",
      "metadata": {
        "id": "1I_IoNLn7r_Q",
        "colab_type": "code",
        "outputId": "9de192b6-0f47-448a-98ef-fb1c49ae7717",
        "colab": {
          "base_uri": "https://localhost:8080/",
          "height": 295
        }
      },
      "source": [
        "df.describe()"
      ],
      "execution_count": 0,
      "outputs": [
        {
          "output_type": "execute_result",
          "data": {
            "text/html": [
              "<div>\n",
              "<style scoped>\n",
              "    .dataframe tbody tr th:only-of-type {\n",
              "        vertical-align: middle;\n",
              "    }\n",
              "\n",
              "    .dataframe tbody tr th {\n",
              "        vertical-align: top;\n",
              "    }\n",
              "\n",
              "    .dataframe thead th {\n",
              "        text-align: right;\n",
              "    }\n",
              "</style>\n",
              "<table border=\"1\" class=\"dataframe\">\n",
              "  <thead>\n",
              "    <tr style=\"text-align: right;\">\n",
              "      <th></th>\n",
              "      <th>potential_energy</th>\n",
              "    </tr>\n",
              "  </thead>\n",
              "  <tbody>\n",
              "    <tr>\n",
              "      <th>count</th>\n",
              "      <td>85003.000000</td>\n",
              "    </tr>\n",
              "    <tr>\n",
              "      <th>mean</th>\n",
              "      <td>-410.874055</td>\n",
              "    </tr>\n",
              "    <tr>\n",
              "      <th>std</th>\n",
              "      <td>39.828871</td>\n",
              "    </tr>\n",
              "    <tr>\n",
              "      <th>min</th>\n",
              "      <td>-714.626200</td>\n",
              "    </tr>\n",
              "    <tr>\n",
              "      <th>25%</th>\n",
              "      <td>-438.000750</td>\n",
              "    </tr>\n",
              "    <tr>\n",
              "      <th>50%</th>\n",
              "      <td>-416.921700</td>\n",
              "    </tr>\n",
              "    <tr>\n",
              "      <th>75%</th>\n",
              "      <td>-387.218950</td>\n",
              "    </tr>\n",
              "    <tr>\n",
              "      <th>max</th>\n",
              "      <td>-40.523680</td>\n",
              "    </tr>\n",
              "  </tbody>\n",
              "</table>\n",
              "</div>"
            ],
            "text/plain": [
              "       potential_energy\n",
              "count      85003.000000\n",
              "mean        -410.874055\n",
              "std           39.828871\n",
              "min         -714.626200\n",
              "25%         -438.000750\n",
              "50%         -416.921700\n",
              "75%         -387.218950\n",
              "max          -40.523680"
            ]
          },
          "metadata": {
            "tags": []
          },
          "execution_count": 58
        }
      ]
    },
    {
      "cell_type": "code",
      "metadata": {
        "id": "QTgQ1-BwCRNy",
        "colab_type": "code",
        "outputId": "152d18f3-e25b-4e78-ee28-5bdb09be2417",
        "colab": {
          "base_uri": "https://localhost:8080/",
          "height": 284
        }
      },
      "source": [
        "sns.distplot(df['potential_energy']);"
      ],
      "execution_count": 0,
      "outputs": [
        {
          "output_type": "display_data",
          "data": {
            "image/png": "[encoded data removed]",
            "text/plain": [
              "<Figure size 432x288 with 1 Axes>"
            ]
          },
          "metadata": {
            "tags": []
          }
        }
      ]
    },
    {
      "cell_type": "markdown",
      "metadata": {
        "id": "3-EdePS7AQ0b",
        "colab_type": "text"
      },
      "source": [
        "## mulliken_charges.csv\n",
        "\n",
        "for train data only (85003 molecules)"
      ]
    },
    {
      "cell_type": "code",
      "metadata": {
        "id": "-QjaJSCOAQCy",
        "colab_type": "code",
        "outputId": "b966ddf7-461a-4c6a-ecc0-10ee49aa2632",
        "colab": {
          "base_uri": "https://localhost:8080/",
          "height": 220
        }
      },
      "source": [
        "f = fnames[6]\n",
        "df = pd.read_csv(path_molecular+f+'.csv')\n",
        "print(f, df.shape)\n",
        "df.head()"
      ],
      "execution_count": 0,
      "outputs": [
        {
          "output_type": "stream",
          "text": [
            "mulliken_charges (1533537, 3)\n"
          ],
          "name": "stdout"
        },
        {
          "output_type": "execute_result",
          "data": {
            "text/html": [
              "<div>\n",
              "<style scoped>\n",
              "    .dataframe tbody tr th:only-of-type {\n",
              "        vertical-align: middle;\n",
              "    }\n",
              "\n",
              "    .dataframe tbody tr th {\n",
              "        vertical-align: top;\n",
              "    }\n",
              "\n",
              "    .dataframe thead th {\n",
              "        text-align: right;\n",
              "    }\n",
              "</style>\n",
              "<table border=\"1\" class=\"dataframe\">\n",
              "  <thead>\n",
              "    <tr style=\"text-align: right;\">\n",
              "      <th></th>\n",
              "      <th>molecule_name</th>\n",
              "      <th>atom_index</th>\n",
              "      <th>mulliken_charge</th>\n",
              "    </tr>\n",
              "  </thead>\n",
              "  <tbody>\n",
              "    <tr>\n",
              "      <th>0</th>\n",
              "      <td>dsgdb9nsd_000001</td>\n",
              "      <td>0</td>\n",
              "      <td>-0.535689</td>\n",
              "    </tr>\n",
              "    <tr>\n",
              "      <th>1</th>\n",
              "      <td>dsgdb9nsd_000001</td>\n",
              "      <td>1</td>\n",
              "      <td>0.133921</td>\n",
              "    </tr>\n",
              "    <tr>\n",
              "      <th>2</th>\n",
              "      <td>dsgdb9nsd_000001</td>\n",
              "      <td>2</td>\n",
              "      <td>0.133922</td>\n",
              "    </tr>\n",
              "    <tr>\n",
              "      <th>3</th>\n",
              "      <td>dsgdb9nsd_000001</td>\n",
              "      <td>3</td>\n",
              "      <td>0.133923</td>\n",
              "    </tr>\n",
              "    <tr>\n",
              "      <th>4</th>\n",
              "      <td>dsgdb9nsd_000001</td>\n",
              "      <td>4</td>\n",
              "      <td>0.133923</td>\n",
              "    </tr>\n",
              "  </tbody>\n",
              "</table>\n",
              "</div>"
            ],
            "text/plain": [
              "      molecule_name  atom_index  mulliken_charge\n",
              "0  dsgdb9nsd_000001           0        -0.535689\n",
              "1  dsgdb9nsd_000001           1         0.133921\n",
              "2  dsgdb9nsd_000001           2         0.133922\n",
              "3  dsgdb9nsd_000001           3         0.133923\n",
              "4  dsgdb9nsd_000001           4         0.133923"
            ]
          },
          "metadata": {
            "tags": []
          },
          "execution_count": 75
        }
      ]
    },
    {
      "cell_type": "code",
      "metadata": {
        "id": "6a-qESfNAaoM",
        "colab_type": "code",
        "outputId": "511ab5e8-7d2e-486c-cb6a-68037f2010d9",
        "colab": {
          "base_uri": "https://localhost:8080/",
          "height": 295
        }
      },
      "source": [
        "df.describe()"
      ],
      "execution_count": 0,
      "outputs": [
        {
          "output_type": "execute_result",
          "data": {
            "text/html": [
              "<div>\n",
              "<style scoped>\n",
              "    .dataframe tbody tr th:only-of-type {\n",
              "        vertical-align: middle;\n",
              "    }\n",
              "\n",
              "    .dataframe tbody tr th {\n",
              "        vertical-align: top;\n",
              "    }\n",
              "\n",
              "    .dataframe thead th {\n",
              "        text-align: right;\n",
              "    }\n",
              "</style>\n",
              "<table border=\"1\" class=\"dataframe\">\n",
              "  <thead>\n",
              "    <tr style=\"text-align: right;\">\n",
              "      <th></th>\n",
              "      <th>atom_index</th>\n",
              "      <th>mulliken_charge</th>\n",
              "    </tr>\n",
              "  </thead>\n",
              "  <tbody>\n",
              "    <tr>\n",
              "      <th>count</th>\n",
              "      <td>1.533537e+06</td>\n",
              "      <td>1.533537e+06</td>\n",
              "    </tr>\n",
              "    <tr>\n",
              "      <th>mean</th>\n",
              "      <td>8.759199e+00</td>\n",
              "      <td>-2.256222e-10</td>\n",
              "    </tr>\n",
              "    <tr>\n",
              "      <th>std</th>\n",
              "      <td>5.592808e+00</td>\n",
              "      <td>2.254392e-01</td>\n",
              "    </tr>\n",
              "    <tr>\n",
              "      <th>min</th>\n",
              "      <td>0.000000e+00</td>\n",
              "      <td>-7.334500e-01</td>\n",
              "    </tr>\n",
              "    <tr>\n",
              "      <th>25%</th>\n",
              "      <td>4.000000e+00</td>\n",
              "      <td>-1.915330e-01</td>\n",
              "    </tr>\n",
              "    <tr>\n",
              "      <th>50%</th>\n",
              "      <td>9.000000e+00</td>\n",
              "      <td>9.867800e-02</td>\n",
              "    </tr>\n",
              "    <tr>\n",
              "      <th>75%</th>\n",
              "      <td>1.300000e+01</td>\n",
              "      <td>1.273960e-01</td>\n",
              "    </tr>\n",
              "    <tr>\n",
              "      <th>max</th>\n",
              "      <td>2.800000e+01</td>\n",
              "      <td>7.289810e-01</td>\n",
              "    </tr>\n",
              "  </tbody>\n",
              "</table>\n",
              "</div>"
            ],
            "text/plain": [
              "         atom_index  mulliken_charge\n",
              "count  1.533537e+06     1.533537e+06\n",
              "mean   8.759199e+00    -2.256222e-10\n",
              "std    5.592808e+00     2.254392e-01\n",
              "min    0.000000e+00    -7.334500e-01\n",
              "25%    4.000000e+00    -1.915330e-01\n",
              "50%    9.000000e+00     9.867800e-02\n",
              "75%    1.300000e+01     1.273960e-01\n",
              "max    2.800000e+01     7.289810e-01"
            ]
          },
          "metadata": {
            "tags": []
          },
          "execution_count": 60
        }
      ]
    },
    {
      "cell_type": "code",
      "metadata": {
        "id": "LvgDNxWnJtJF",
        "colab_type": "code",
        "colab": {
          "base_uri": "https://localhost:8080/",
          "height": 172
        },
        "outputId": "f9652b19-d16c-45db-be73-8cfadb86842f"
      },
      "source": [
        "df.select_dtypes(exclude=np.number).describe()"
      ],
      "execution_count": 94,
      "outputs": [
        {
          "output_type": "execute_result",
          "data": {
            "text/html": [
              "<div>\n",
              "<style scoped>\n",
              "    .dataframe tbody tr th:only-of-type {\n",
              "        vertical-align: middle;\n",
              "    }\n",
              "\n",
              "    .dataframe tbody tr th {\n",
              "        vertical-align: top;\n",
              "    }\n",
              "\n",
              "    .dataframe thead th {\n",
              "        text-align: right;\n",
              "    }\n",
              "</style>\n",
              "<table border=\"1\" class=\"dataframe\">\n",
              "  <thead>\n",
              "    <tr style=\"text-align: right;\">\n",
              "      <th></th>\n",
              "      <th>molecule_name</th>\n",
              "    </tr>\n",
              "  </thead>\n",
              "  <tbody>\n",
              "    <tr>\n",
              "      <th>count</th>\n",
              "      <td>1533537</td>\n",
              "    </tr>\n",
              "    <tr>\n",
              "      <th>unique</th>\n",
              "      <td>85003</td>\n",
              "    </tr>\n",
              "    <tr>\n",
              "      <th>top</th>\n",
              "      <td>dsgdb9nsd_117978</td>\n",
              "    </tr>\n",
              "    <tr>\n",
              "      <th>freq</th>\n",
              "      <td>29</td>\n",
              "    </tr>\n",
              "  </tbody>\n",
              "</table>\n",
              "</div>"
            ],
            "text/plain": [
              "           molecule_name\n",
              "count            1533537\n",
              "unique             85003\n",
              "top     dsgdb9nsd_117978\n",
              "freq                  29"
            ]
          },
          "metadata": {
            "tags": []
          },
          "execution_count": 94
        }
      ]
    },
    {
      "cell_type": "code",
      "metadata": {
        "id": "FnAwiSpbB4Xj",
        "colab_type": "code",
        "outputId": "0c1f5f23-750d-4433-cffd-8a019288a005",
        "colab": {
          "base_uri": "https://localhost:8080/",
          "height": 284
        }
      },
      "source": [
        "sns.distplot(df['mulliken_charge']);"
      ],
      "execution_count": 0,
      "outputs": [
        {
          "output_type": "display_data",
          "data": {
            "image/png": "[encoded data removed]",
            "text/plain": [
              "<Figure size 432x288 with 1 Axes>"
            ]
          },
          "metadata": {
            "tags": []
          }
        }
      ]
    },
    {
      "cell_type": "markdown",
      "metadata": {
        "id": "8sEhohMDDvaq",
        "colab_type": "text"
      },
      "source": [
        "## magnetic_shielding_tensors.csv\n",
        "\n",
        "for train data only (85003 molucules)"
      ]
    },
    {
      "cell_type": "code",
      "metadata": {
        "id": "A5z_wNmxDtIG",
        "colab_type": "code",
        "outputId": "3af7bab3-ea6e-4a97-cdd4-183ca28911bf",
        "colab": {
          "base_uri": "https://localhost:8080/",
          "height": 220
        }
      },
      "source": [
        "f = fnames[7]\n",
        "df = pd.read_csv(path_molecular+f+'.csv')\n",
        "print(f, df.shape)\n",
        "df.head()"
      ],
      "execution_count": 0,
      "outputs": [
        {
          "output_type": "stream",
          "text": [
            "magnetic_shielding_tensors (1533537, 11)\n"
          ],
          "name": "stdout"
        },
        {
          "output_type": "execute_result",
          "data": {
            "text/html": [
              "<div>\n",
              "<style scoped>\n",
              "    .dataframe tbody tr th:only-of-type {\n",
              "        vertical-align: middle;\n",
              "    }\n",
              "\n",
              "    .dataframe tbody tr th {\n",
              "        vertical-align: top;\n",
              "    }\n",
              "\n",
              "    .dataframe thead th {\n",
              "        text-align: right;\n",
              "    }\n",
              "</style>\n",
              "<table border=\"1\" class=\"dataframe\">\n",
              "  <thead>\n",
              "    <tr style=\"text-align: right;\">\n",
              "      <th></th>\n",
              "      <th>molecule_name</th>\n",
              "      <th>atom_index</th>\n",
              "      <th>XX</th>\n",
              "      <th>YX</th>\n",
              "      <th>ZX</th>\n",
              "      <th>XY</th>\n",
              "      <th>YY</th>\n",
              "      <th>ZY</th>\n",
              "      <th>XZ</th>\n",
              "      <th>YZ</th>\n",
              "      <th>ZZ</th>\n",
              "    </tr>\n",
              "  </thead>\n",
              "  <tbody>\n",
              "    <tr>\n",
              "      <th>0</th>\n",
              "      <td>dsgdb9nsd_000001</td>\n",
              "      <td>0</td>\n",
              "      <td>195.3150</td>\n",
              "      <td>0.0000</td>\n",
              "      <td>-0.0001</td>\n",
              "      <td>0.0000</td>\n",
              "      <td>195.3170</td>\n",
              "      <td>0.0007</td>\n",
              "      <td>-0.0001</td>\n",
              "      <td>0.0007</td>\n",
              "      <td>195.3170</td>\n",
              "    </tr>\n",
              "    <tr>\n",
              "      <th>1</th>\n",
              "      <td>dsgdb9nsd_000001</td>\n",
              "      <td>1</td>\n",
              "      <td>31.3410</td>\n",
              "      <td>-1.2317</td>\n",
              "      <td>4.0544</td>\n",
              "      <td>-1.2317</td>\n",
              "      <td>28.9546</td>\n",
              "      <td>-1.7173</td>\n",
              "      <td>4.0546</td>\n",
              "      <td>-1.7173</td>\n",
              "      <td>34.0861</td>\n",
              "    </tr>\n",
              "    <tr>\n",
              "      <th>2</th>\n",
              "      <td>dsgdb9nsd_000001</td>\n",
              "      <td>2</td>\n",
              "      <td>31.5814</td>\n",
              "      <td>1.2173</td>\n",
              "      <td>-4.1474</td>\n",
              "      <td>1.2173</td>\n",
              "      <td>28.9036</td>\n",
              "      <td>-1.6036</td>\n",
              "      <td>-4.1476</td>\n",
              "      <td>-1.6036</td>\n",
              "      <td>33.8967</td>\n",
              "    </tr>\n",
              "    <tr>\n",
              "      <th>3</th>\n",
              "      <td>dsgdb9nsd_000001</td>\n",
              "      <td>3</td>\n",
              "      <td>31.5172</td>\n",
              "      <td>4.1086</td>\n",
              "      <td>1.2723</td>\n",
              "      <td>4.1088</td>\n",
              "      <td>33.9068</td>\n",
              "      <td>1.6950</td>\n",
              "      <td>1.2724</td>\n",
              "      <td>1.6951</td>\n",
              "      <td>28.9579</td>\n",
              "    </tr>\n",
              "    <tr>\n",
              "      <th>4</th>\n",
              "      <td>dsgdb9nsd_000001</td>\n",
              "      <td>4</td>\n",
              "      <td>31.4029</td>\n",
              "      <td>-4.0942</td>\n",
              "      <td>-1.1793</td>\n",
              "      <td>-4.0944</td>\n",
              "      <td>34.0776</td>\n",
              "      <td>1.6259</td>\n",
              "      <td>-1.1795</td>\n",
              "      <td>1.6260</td>\n",
              "      <td>28.9013</td>\n",
              "    </tr>\n",
              "  </tbody>\n",
              "</table>\n",
              "</div>"
            ],
            "text/plain": [
              "      molecule_name  atom_index        XX  ...      XZ      YZ        ZZ\n",
              "0  dsgdb9nsd_000001           0  195.3150  ... -0.0001  0.0007  195.3170\n",
              "1  dsgdb9nsd_000001           1   31.3410  ...  4.0546 -1.7173   34.0861\n",
              "2  dsgdb9nsd_000001           2   31.5814  ... -4.1476 -1.6036   33.8967\n",
              "3  dsgdb9nsd_000001           3   31.5172  ...  1.2724  1.6951   28.9579\n",
              "4  dsgdb9nsd_000001           4   31.4029  ... -1.1795  1.6260   28.9013\n",
              "\n",
              "[5 rows x 11 columns]"
            ]
          },
          "metadata": {
            "tags": []
          },
          "execution_count": 79
        }
      ]
    },
    {
      "cell_type": "code",
      "metadata": {
        "id": "VdVi857lEzUL",
        "colab_type": "code",
        "colab": {
          "base_uri": "https://localhost:8080/",
          "height": 315
        },
        "outputId": "f32bda1e-03df-4df4-de3c-474b7425be9e"
      },
      "source": [
        "df.describe()"
      ],
      "execution_count": 80,
      "outputs": [
        {
          "output_type": "execute_result",
          "data": {
            "text/html": [
              "<div>\n",
              "<style scoped>\n",
              "    .dataframe tbody tr th:only-of-type {\n",
              "        vertical-align: middle;\n",
              "    }\n",
              "\n",
              "    .dataframe tbody tr th {\n",
              "        vertical-align: top;\n",
              "    }\n",
              "\n",
              "    .dataframe thead th {\n",
              "        text-align: right;\n",
              "    }\n",
              "</style>\n",
              "<table border=\"1\" class=\"dataframe\">\n",
              "  <thead>\n",
              "    <tr style=\"text-align: right;\">\n",
              "      <th></th>\n",
              "      <th>atom_index</th>\n",
              "      <th>XX</th>\n",
              "      <th>YX</th>\n",
              "      <th>ZX</th>\n",
              "      <th>XY</th>\n",
              "      <th>YY</th>\n",
              "      <th>ZY</th>\n",
              "      <th>XZ</th>\n",
              "      <th>YZ</th>\n",
              "      <th>ZZ</th>\n",
              "    </tr>\n",
              "  </thead>\n",
              "  <tbody>\n",
              "    <tr>\n",
              "      <th>count</th>\n",
              "      <td>1.533537e+06</td>\n",
              "      <td>1.533537e+06</td>\n",
              "      <td>1.533537e+06</td>\n",
              "      <td>1.533537e+06</td>\n",
              "      <td>1.533537e+06</td>\n",
              "      <td>1.533537e+06</td>\n",
              "      <td>1.533537e+06</td>\n",
              "      <td>1.533537e+06</td>\n",
              "      <td>1.533537e+06</td>\n",
              "      <td>1.533537e+06</td>\n",
              "    </tr>\n",
              "    <tr>\n",
              "      <th>mean</th>\n",
              "      <td>8.759199e+00</td>\n",
              "      <td>6.881581e+01</td>\n",
              "      <td>-9.326109e-02</td>\n",
              "      <td>9.941325e-02</td>\n",
              "      <td>-1.320880e-01</td>\n",
              "      <td>6.549244e+01</td>\n",
              "      <td>-3.228053e-02</td>\n",
              "      <td>1.055878e-01</td>\n",
              "      <td>2.729817e-02</td>\n",
              "      <td>8.261999e+01</td>\n",
              "    </tr>\n",
              "    <tr>\n",
              "      <th>std</th>\n",
              "      <td>5.592808e+00</td>\n",
              "      <td>1.147867e+02</td>\n",
              "      <td>3.691271e+01</td>\n",
              "      <td>3.413662e+01</td>\n",
              "      <td>3.679941e+01</td>\n",
              "      <td>1.063009e+02</td>\n",
              "      <td>3.370626e+01</td>\n",
              "      <td>3.484276e+01</td>\n",
              "      <td>3.416867e+01</td>\n",
              "      <td>8.556882e+01</td>\n",
              "    </tr>\n",
              "    <tr>\n",
              "      <th>min</th>\n",
              "      <td>0.000000e+00</td>\n",
              "      <td>-3.452650e+03</td>\n",
              "      <td>-7.582950e+02</td>\n",
              "      <td>-7.319900e+02</td>\n",
              "      <td>-9.447450e+02</td>\n",
              "      <td>-2.146680e+03</td>\n",
              "      <td>-6.457610e+02</td>\n",
              "      <td>-7.043470e+02</td>\n",
              "      <td>-6.542020e+02</td>\n",
              "      <td>-9.486030e+02</td>\n",
              "    </tr>\n",
              "    <tr>\n",
              "      <th>25%</th>\n",
              "      <td>4.000000e+00</td>\n",
              "      <td>2.804470e+01</td>\n",
              "      <td>-3.334200e+00</td>\n",
              "      <td>-2.541200e+00</td>\n",
              "      <td>-3.202000e+00</td>\n",
              "      <td>2.719330e+01</td>\n",
              "      <td>-2.795100e+00</td>\n",
              "      <td>-2.484500e+00</td>\n",
              "      <td>-2.801100e+00</td>\n",
              "      <td>2.735380e+01</td>\n",
              "    </tr>\n",
              "    <tr>\n",
              "      <th>50%</th>\n",
              "      <td>9.000000e+00</td>\n",
              "      <td>3.190900e+01</td>\n",
              "      <td>1.000000e-03</td>\n",
              "      <td>0.000000e+00</td>\n",
              "      <td>9.000000e-04</td>\n",
              "      <td>3.174760e+01</td>\n",
              "      <td>-0.000000e+00</td>\n",
              "      <td>0.000000e+00</td>\n",
              "      <td>0.000000e+00</td>\n",
              "      <td>3.378320e+01</td>\n",
              "    </tr>\n",
              "    <tr>\n",
              "      <th>75%</th>\n",
              "      <td>1.300000e+01</td>\n",
              "      <td>1.480430e+02</td>\n",
              "      <td>3.373300e+00</td>\n",
              "      <td>2.617500e+00</td>\n",
              "      <td>3.236000e+00</td>\n",
              "      <td>1.361710e+02</td>\n",
              "      <td>2.845100e+00</td>\n",
              "      <td>2.552700e+00</td>\n",
              "      <td>2.872000e+00</td>\n",
              "      <td>1.416480e+02</td>\n",
              "    </tr>\n",
              "    <tr>\n",
              "      <th>max</th>\n",
              "      <td>2.800000e+01</td>\n",
              "      <td>4.254020e+02</td>\n",
              "      <td>1.080230e+03</td>\n",
              "      <td>6.620490e+02</td>\n",
              "      <td>1.273990e+03</td>\n",
              "      <td>4.254660e+02</td>\n",
              "      <td>6.739150e+02</td>\n",
              "      <td>8.633610e+02</td>\n",
              "      <td>7.384150e+02</td>\n",
              "      <td>5.568840e+02</td>\n",
              "    </tr>\n",
              "  </tbody>\n",
              "</table>\n",
              "</div>"
            ],
            "text/plain": [
              "         atom_index            XX  ...            YZ            ZZ\n",
              "count  1.533537e+06  1.533537e+06  ...  1.533537e+06  1.533537e+06\n",
              "mean   8.759199e+00  6.881581e+01  ...  2.729817e-02  8.261999e+01\n",
              "std    5.592808e+00  1.147867e+02  ...  3.416867e+01  8.556882e+01\n",
              "min    0.000000e+00 -3.452650e+03  ... -6.542020e+02 -9.486030e+02\n",
              "25%    4.000000e+00  2.804470e+01  ... -2.801100e+00  2.735380e+01\n",
              "50%    9.000000e+00  3.190900e+01  ...  0.000000e+00  3.378320e+01\n",
              "75%    1.300000e+01  1.480430e+02  ...  2.872000e+00  1.416480e+02\n",
              "max    2.800000e+01  4.254020e+02  ...  7.384150e+02  5.568840e+02\n",
              "\n",
              "[8 rows x 10 columns]"
            ]
          },
          "metadata": {
            "tags": []
          },
          "execution_count": 80
        }
      ]
    },
    {
      "cell_type": "code",
      "metadata": {
        "id": "9x-PTHAaFJqT",
        "colab_type": "code",
        "colab": {
          "base_uri": "https://localhost:8080/",
          "height": 105
        },
        "outputId": "ef298d4d-ce07-4a01-8cea-e04f33620080"
      },
      "source": [
        "df['molecule_name'].describe()"
      ],
      "execution_count": 82,
      "outputs": [
        {
          "output_type": "execute_result",
          "data": {
            "text/plain": [
              "count              1533537\n",
              "unique               85003\n",
              "top       dsgdb9nsd_117978\n",
              "freq                    29\n",
              "Name: molecule_name, dtype: object"
            ]
          },
          "metadata": {
            "tags": []
          },
          "execution_count": 82
        }
      ]
    },
    {
      "cell_type": "code",
      "metadata": {
        "id": "2wHp3v8iHE7A",
        "colab_type": "code",
        "colab": {
          "base_uri": "https://localhost:8080/",
          "height": 392
        },
        "outputId": "6bae8134-f0fe-437a-e3d5-4a0105802460"
      },
      "source": [
        "plt.figure(figsize=(8,6))\n",
        "for i,col in enumerate(df.columns[2:]):\n",
        "  plt.subplot(3,3,i+1)\n",
        "  sns.distplot(df[col])"
      ],
      "execution_count": 93,
      "outputs": [
        {
          "output_type": "display_data",
          "data": {
            "image/png": "[encoded data removed]",
            "text/plain": [
              "<Figure size 576x432 with 9 Axes>"
            ]
          },
          "metadata": {
            "tags": []
          }
        }
      ]
    },
    {
      "cell_type": "markdown",
      "metadata": {
        "id": "giJbBGZRKFWy",
        "colab_type": "text"
      },
      "source": [
        "## dipole_moments.csv\n",
        "\n",
        "for train data only (80053 molecules)"
      ]
    },
    {
      "cell_type": "code",
      "metadata": {
        "id": "H2MlJfxdItaG",
        "colab_type": "code",
        "colab": {
          "base_uri": "https://localhost:8080/",
          "height": 220
        },
        "outputId": "17d50658-26cd-45fb-a49d-aa93f06d905e"
      },
      "source": [
        "f = fnames[8]\n",
        "df = pd.read_csv(path_molecular+f+'.csv')\n",
        "print(f, df.shape)\n",
        "df.head()"
      ],
      "execution_count": 95,
      "outputs": [
        {
          "output_type": "stream",
          "text": [
            "dipole_moments (85003, 4)\n"
          ],
          "name": "stdout"
        },
        {
          "output_type": "execute_result",
          "data": {
            "text/html": [
              "<div>\n",
              "<style scoped>\n",
              "    .dataframe tbody tr th:only-of-type {\n",
              "        vertical-align: middle;\n",
              "    }\n",
              "\n",
              "    .dataframe tbody tr th {\n",
              "        vertical-align: top;\n",
              "    }\n",
              "\n",
              "    .dataframe thead th {\n",
              "        text-align: right;\n",
              "    }\n",
              "</style>\n",
              "<table border=\"1\" class=\"dataframe\">\n",
              "  <thead>\n",
              "    <tr style=\"text-align: right;\">\n",
              "      <th></th>\n",
              "      <th>molecule_name</th>\n",
              "      <th>X</th>\n",
              "      <th>Y</th>\n",
              "      <th>Z</th>\n",
              "    </tr>\n",
              "  </thead>\n",
              "  <tbody>\n",
              "    <tr>\n",
              "      <th>0</th>\n",
              "      <td>dsgdb9nsd_000001</td>\n",
              "      <td>0.0000</td>\n",
              "      <td>0.0</td>\n",
              "      <td>0.0000</td>\n",
              "    </tr>\n",
              "    <tr>\n",
              "      <th>1</th>\n",
              "      <td>dsgdb9nsd_000002</td>\n",
              "      <td>-0.0002</td>\n",
              "      <td>0.0</td>\n",
              "      <td>1.6256</td>\n",
              "    </tr>\n",
              "    <tr>\n",
              "      <th>2</th>\n",
              "      <td>dsgdb9nsd_000003</td>\n",
              "      <td>0.0000</td>\n",
              "      <td>0.0</td>\n",
              "      <td>-1.8511</td>\n",
              "    </tr>\n",
              "    <tr>\n",
              "      <th>3</th>\n",
              "      <td>dsgdb9nsd_000005</td>\n",
              "      <td>0.0000</td>\n",
              "      <td>0.0</td>\n",
              "      <td>-2.8937</td>\n",
              "    </tr>\n",
              "    <tr>\n",
              "      <th>4</th>\n",
              "      <td>dsgdb9nsd_000007</td>\n",
              "      <td>0.0000</td>\n",
              "      <td>0.0</td>\n",
              "      <td>0.0000</td>\n",
              "    </tr>\n",
              "  </tbody>\n",
              "</table>\n",
              "</div>"
            ],
            "text/plain": [
              "      molecule_name       X    Y       Z\n",
              "0  dsgdb9nsd_000001  0.0000  0.0  0.0000\n",
              "1  dsgdb9nsd_000002 -0.0002  0.0  1.6256\n",
              "2  dsgdb9nsd_000003  0.0000  0.0 -1.8511\n",
              "3  dsgdb9nsd_000005  0.0000  0.0 -2.8937\n",
              "4  dsgdb9nsd_000007  0.0000  0.0  0.0000"
            ]
          },
          "metadata": {
            "tags": []
          },
          "execution_count": 95
        }
      ]
    },
    {
      "cell_type": "code",
      "metadata": {
        "id": "-pe8QBJuKOtL",
        "colab_type": "code",
        "colab": {
          "base_uri": "https://localhost:8080/",
          "height": 295
        },
        "outputId": "d2796f8b-f4da-4a71-c720-78629fa05df6"
      },
      "source": [
        "df.describe()"
      ],
      "execution_count": 98,
      "outputs": [
        {
          "output_type": "execute_result",
          "data": {
            "text/html": [
              "<div>\n",
              "<style scoped>\n",
              "    .dataframe tbody tr th:only-of-type {\n",
              "        vertical-align: middle;\n",
              "    }\n",
              "\n",
              "    .dataframe tbody tr th {\n",
              "        vertical-align: top;\n",
              "    }\n",
              "\n",
              "    .dataframe thead th {\n",
              "        text-align: right;\n",
              "    }\n",
              "</style>\n",
              "<table border=\"1\" class=\"dataframe\">\n",
              "  <thead>\n",
              "    <tr style=\"text-align: right;\">\n",
              "      <th></th>\n",
              "      <th>X</th>\n",
              "      <th>Y</th>\n",
              "      <th>Z</th>\n",
              "    </tr>\n",
              "  </thead>\n",
              "  <tbody>\n",
              "    <tr>\n",
              "      <th>count</th>\n",
              "      <td>85003.000000</td>\n",
              "      <td>85003.000000</td>\n",
              "      <td>85003.000000</td>\n",
              "    </tr>\n",
              "    <tr>\n",
              "      <th>mean</th>\n",
              "      <td>-0.019937</td>\n",
              "      <td>0.093764</td>\n",
              "      <td>0.252982</td>\n",
              "    </tr>\n",
              "    <tr>\n",
              "      <th>std</th>\n",
              "      <td>2.283738</td>\n",
              "      <td>1.739395</td>\n",
              "      <td>1.027573</td>\n",
              "    </tr>\n",
              "    <tr>\n",
              "      <th>min</th>\n",
              "      <td>-22.958000</td>\n",
              "      <td>-9.252300</td>\n",
              "      <td>-6.028500</td>\n",
              "    </tr>\n",
              "    <tr>\n",
              "      <th>25%</th>\n",
              "      <td>-1.363250</td>\n",
              "      <td>-0.941950</td>\n",
              "      <td>-0.247750</td>\n",
              "    </tr>\n",
              "    <tr>\n",
              "      <th>50%</th>\n",
              "      <td>-0.000100</td>\n",
              "      <td>0.081400</td>\n",
              "      <td>0.117600</td>\n",
              "    </tr>\n",
              "    <tr>\n",
              "      <th>75%</th>\n",
              "      <td>1.311000</td>\n",
              "      <td>1.166750</td>\n",
              "      <td>0.902050</td>\n",
              "    </tr>\n",
              "    <tr>\n",
              "      <th>max</th>\n",
              "      <td>21.873800</td>\n",
              "      <td>13.005600</td>\n",
              "      <td>6.880100</td>\n",
              "    </tr>\n",
              "  </tbody>\n",
              "</table>\n",
              "</div>"
            ],
            "text/plain": [
              "                  X             Y             Z\n",
              "count  85003.000000  85003.000000  85003.000000\n",
              "mean      -0.019937      0.093764      0.252982\n",
              "std        2.283738      1.739395      1.027573\n",
              "min      -22.958000     -9.252300     -6.028500\n",
              "25%       -1.363250     -0.941950     -0.247750\n",
              "50%       -0.000100      0.081400      0.117600\n",
              "75%        1.311000      1.166750      0.902050\n",
              "max       21.873800     13.005600      6.880100"
            ]
          },
          "metadata": {
            "tags": []
          },
          "execution_count": 98
        }
      ]
    },
    {
      "cell_type": "code",
      "metadata": {
        "id": "N7Ap7cXhKYoh",
        "colab_type": "code",
        "colab": {
          "base_uri": "https://localhost:8080/",
          "height": 283
        },
        "outputId": "b2c551b5-6493-4a68-8759-2539a324fe73"
      },
      "source": [
        "plt.figure(figsize=(12,4))\n",
        "for i,col in enumerate(df.columns[1:]):\n",
        "  plt.subplot(1,3,i+1)\n",
        "  sns.distplot(df[col])"
      ],
      "execution_count": 101,
      "outputs": [
        {
          "output_type": "display_data",
          "data": {
            "image/png": "[encoded data removed]",
            "text/plain": [
              "<Figure size 864x288 with 3 Axes>"
            ]
          },
          "metadata": {
            "tags": []
          }
        }
      ]
    },
    {
      "cell_type": "markdown",
      "metadata": {
        "id": "kJgIt9dLynSy",
        "colab_type": "text"
      },
      "source": [
        "## sample_submission.csv"
      ]
    },
    {
      "cell_type": "code",
      "metadata": {
        "id": "vkb4ETiP6juW",
        "colab_type": "code",
        "outputId": "b7ed9e3a-5add-457a-d4b9-c6f770f56e67",
        "colab": {
          "base_uri": "https://localhost:8080/",
          "height": 220
        }
      },
      "source": [
        "f = fnames[4]\n",
        "df = pd.read_csv(path_molecular+f+'.csv')\n",
        "print(f, df.shape)\n",
        "df.head()"
      ],
      "execution_count": 0,
      "outputs": [
        {
          "output_type": "stream",
          "text": [
            "sample_submission (2505542, 2)\n"
          ],
          "name": "stdout"
        },
        {
          "output_type": "execute_result",
          "data": {
            "text/html": [
              "<div>\n",
              "<style scoped>\n",
              "    .dataframe tbody tr th:only-of-type {\n",
              "        vertical-align: middle;\n",
              "    }\n",
              "\n",
              "    .dataframe tbody tr th {\n",
              "        vertical-align: top;\n",
              "    }\n",
              "\n",
              "    .dataframe thead th {\n",
              "        text-align: right;\n",
              "    }\n",
              "</style>\n",
              "<table border=\"1\" class=\"dataframe\">\n",
              "  <thead>\n",
              "    <tr style=\"text-align: right;\">\n",
              "      <th></th>\n",
              "      <th>id</th>\n",
              "      <th>scalar_coupling_constant</th>\n",
              "    </tr>\n",
              "  </thead>\n",
              "  <tbody>\n",
              "    <tr>\n",
              "      <th>0</th>\n",
              "      <td>4658147</td>\n",
              "      <td>0</td>\n",
              "    </tr>\n",
              "    <tr>\n",
              "      <th>1</th>\n",
              "      <td>4658148</td>\n",
              "      <td>0</td>\n",
              "    </tr>\n",
              "    <tr>\n",
              "      <th>2</th>\n",
              "      <td>4658149</td>\n",
              "      <td>0</td>\n",
              "    </tr>\n",
              "    <tr>\n",
              "      <th>3</th>\n",
              "      <td>4658150</td>\n",
              "      <td>0</td>\n",
              "    </tr>\n",
              "    <tr>\n",
              "      <th>4</th>\n",
              "      <td>4658151</td>\n",
              "      <td>0</td>\n",
              "    </tr>\n",
              "  </tbody>\n",
              "</table>\n",
              "</div>"
            ],
            "text/plain": [
              "        id  scalar_coupling_constant\n",
              "0  4658147                         0\n",
              "1  4658148                         0\n",
              "2  4658149                         0\n",
              "3  4658150                         0\n",
              "4  4658151                         0"
            ]
          },
          "metadata": {
            "tags": []
          },
          "execution_count": 56
        }
      ]
    }
  ]
}