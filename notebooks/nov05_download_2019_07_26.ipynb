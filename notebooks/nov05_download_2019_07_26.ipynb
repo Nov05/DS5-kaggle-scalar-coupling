{
  "nbformat": 4,
  "nbformat_minor": 0,
  "metadata": {
    "colab": {
      "name": "nov05_download_2019-07-26.ipynb",
      "version": "0.3.2",
      "provenance": [],
      "collapsed_sections": [],
      "include_colab_link": true
    },
    "kernelspec": {
      "name": "python3",
      "display_name": "Python 3"
    }
  },
  "cells": [
    {
      "cell_type": "markdown",
      "metadata": {
        "id": "view-in-github",
        "colab_type": "text"
      },
      "source": [
        "<a href=\"https://colab.research.google.com/github/elizabethts/DS5-kaggle-scalar-coupling/blob/master/notebooks/nov05_download_2019_07_26.ipynb\" target=\"_parent\"><img src=\"https://colab.research.google.com/assets/colab-badge.svg\" alt=\"Open In Colab\"/></a>"
      ]
    },
    {
      "cell_type": "code",
      "metadata": {
        "id": "TjdvJmjhVudv",
        "colab_type": "code",
        "colab": {}
      },
      "source": [
        "# created by nov05 on 2019-07-26\n",
        "# DS5-kaggle-scalar-coupling/"
      ],
      "execution_count": 0,
      "outputs": []
    },
    {
      "cell_type": "markdown",
      "metadata": {
        "id": "2HvId9KhxPuZ",
        "colab_type": "text"
      },
      "source": [
        "Kaggle Data  Downloaded to Google Drive  \n",
        "https://drive.google.com/open?id=1ZDcOZRZgcLCdcGlRbryEPyI81h9rj-JX"
      ]
    },
    {
      "cell_type": "code",
      "metadata": {
        "id": "3takF-sWvqSL",
        "colab_type": "code",
        "colab": {}
      },
      "source": [
        "from google.colab import drive\n",
        "from google.colab import files\n",
        "import zipfile\n",
        "import glob\n",
        "\n",
        "competition_name = \"champs-scalar-coupling\"\n",
        "path_data = \"/content/drive/My Drive/data/\"\n",
        "path_molecular = path_data + \"kaggle-molecular/\"\n",
        "path_structures = path_molecular + \"structures/\""
      ],
      "execution_count": 0,
      "outputs": []
    },
    {
      "cell_type": "code",
      "metadata": {
        "id": "uugD6WXwWC0a",
        "colab_type": "code",
        "colab": {}
      },
      "source": [
        "from google.colab import drive\n",
        "drive.mount('/content/drive')"
      ],
      "execution_count": 0,
      "outputs": []
    },
    {
      "cell_type": "code",
      "metadata": {
        "id": "PDfA50q9WbZO",
        "colab_type": "code",
        "outputId": "b62a3781-4d1f-41c1-ddfb-73bfa68803d3",
        "colab": {
          "base_uri": "https://localhost:8080/",
          "height": 35
        }
      },
      "source": [
        "# do this only once unless you create a new API key:\n",
        "# create a folder with name \"config\" in \"My Drive\" \n",
        "# and store your API config file \"kaggle.json\" there\n",
        "\n",
        "# do this every time after you reset all your runtimes,\n",
        "# or kaggle won't find your API config file \"kaggle.json\" \n",
        "%env KAGGLE_CONFIG_DIR=/content/drive/My Drive/config"
      ],
      "execution_count": 3,
      "outputs": [
        {
          "output_type": "stream",
          "text": [
            "env: KAGGLE_CONFIG_DIR=/content/drive/My Drive/config\n"
          ],
          "name": "stdout"
        }
      ]
    },
    {
      "cell_type": "markdown",
      "metadata": {
        "id": "cY0i26xqRSsq",
        "colab_type": "text"
      },
      "source": [
        "## Download Kaggle Data to Google Drive"
      ]
    },
    {
      "cell_type": "code",
      "metadata": {
        "id": "M81UB_kdWfpu",
        "colab_type": "code",
        "colab": {}
      },
      "source": [
        "## Download Kaggle competition data to Google Drive folder\n",
        "# !kaggle competitions download -c champs-scalar-coupling -p /content/drive/'My Drive'/data/kaggle-molecular"
      ],
      "execution_count": 0,
      "outputs": []
    },
    {
      "cell_type": "code",
      "metadata": {
        "id": "KJBofoHWseYt",
        "colab_type": "code",
        "colab": {
          "base_uri": "https://localhost:8080/",
          "height": 105
        },
        "outputId": "ad108947-baca-408d-e849-95d82503595f"
      },
      "source": [
        "# list files downloaded\n",
        "!ls /content/drive/'My Drive'/data/kaggle-molecular"
      ],
      "execution_count": 42,
      "outputs": [
        {
          "output_type": "stream",
          "text": [
            "dipole_moments.csv.zip\t\t    scalar_coupling_contributions.csv.zip\n",
            "magnetic_shielding_tensors.csv.zip  structures.csv.zip\n",
            "mulliken_charges.csv.zip\t    structures.zip\n",
            "potential_energy.csv.zip\t    test.csv.zip\n",
            "sample_submission.csv.zip\t    train.csv.zip\n"
          ],
          "name": "stdout"
        }
      ]
    },
    {
      "cell_type": "code",
      "metadata": {
        "id": "PbDRYx3fwG6H",
        "colab_type": "code",
        "colab": {
          "base_uri": "https://localhost:8080/",
          "height": 211
        },
        "outputId": "5e9c99bf-6030-41cf-d802-7eab2adde9b2"
      },
      "source": [
        "# list files downloaded\n",
        "for file in glob.glob(path_molecular+'/*'):\n",
        "  print(file)"
      ],
      "execution_count": 45,
      "outputs": [
        {
          "output_type": "stream",
          "text": [
            "/content/drive/My Drive/data/kaggle-molecular/train.csv.zip\n",
            "/content/drive/My Drive/data/kaggle-molecular/test.csv.zip\n",
            "/content/drive/My Drive/data/kaggle-molecular/structures.zip\n",
            "/content/drive/My Drive/data/kaggle-molecular/structures.csv.zip\n",
            "/content/drive/My Drive/data/kaggle-molecular/scalar_coupling_contributions.csv.zip\n",
            "/content/drive/My Drive/data/kaggle-molecular/sample_submission.csv.zip\n",
            "/content/drive/My Drive/data/kaggle-molecular/potential_energy.csv.zip\n",
            "/content/drive/My Drive/data/kaggle-molecular/mulliken_charges.csv.zip\n",
            "/content/drive/My Drive/data/kaggle-molecular/magnetic_shielding_tensors.csv.zip\n",
            "/content/drive/My Drive/data/kaggle-molecular/dipole_moments.csv.zip\n",
            "/content/drive/My Drive/data/kaggle-molecular/dipole_moments.csv\n"
          ],
          "name": "stdout"
        }
      ]
    },
    {
      "cell_type": "code",
      "metadata": {
        "id": "I6TGk0VFxiWv",
        "colab_type": "code",
        "colab": {
          "base_uri": "https://localhost:8080/",
          "height": 175
        },
        "outputId": "449fe63e-110d-4cb1-a178-ad4957cfa0fd"
      },
      "source": [
        "# unzip csv files\n",
        "for f in glob.glob(path_molecular+'/*.csv.zip'):\n",
        "  print(\"unzip\", f)\n",
        "  z = zipfile.ZipFile(f, 'r')\n",
        "  z.extractall(path_molecular)\n",
        "  z.close()"
      ],
      "execution_count": 47,
      "outputs": [
        {
          "output_type": "stream",
          "text": [
            "unzip /content/drive/My Drive/data/kaggle-molecular/train.csv.zip\n",
            "unzip /content/drive/My Drive/data/kaggle-molecular/test.csv.zip\n",
            "unzip /content/drive/My Drive/data/kaggle-molecular/structures.csv.zip\n",
            "unzip /content/drive/My Drive/data/kaggle-molecular/scalar_coupling_contributions.csv.zip\n",
            "unzip /content/drive/My Drive/data/kaggle-molecular/sample_submission.csv.zip\n",
            "unzip /content/drive/My Drive/data/kaggle-molecular/potential_energy.csv.zip\n",
            "unzip /content/drive/My Drive/data/kaggle-molecular/mulliken_charges.csv.zip\n",
            "unzip /content/drive/My Drive/data/kaggle-molecular/magnetic_shielding_tensors.csv.zip\n",
            "unzip /content/drive/My Drive/data/kaggle-molecular/dipole_moments.csv.zip\n"
          ],
          "name": "stdout"
        }
      ]
    },
    {
      "cell_type": "code",
      "metadata": {
        "id": "35L5vgap0dZk",
        "colab_type": "code",
        "colab": {
          "base_uri": "https://localhost:8080/",
          "height": 35
        },
        "outputId": "f4a44698-0e62-416a-85af-607d8612ce5c"
      },
      "source": [
        "# structures.csv - this file contains the same information \n",
        "# as the individual xyz structure files, but in a single file\n",
        "\n",
        "# probably no need to unzip this file\n",
        "# unzip .xyz files to folder\n",
        "\n",
        "# CAUTION: this takes long time\n",
        "f = path_molecular + '/structures.zip'\n",
        "print(\"unzip\", f)\n",
        "# z = zipfile.ZipFile(f, 'r')\n",
        "# z.extractall(path_molecular + '/structures')\n",
        "# z.close()"
      ],
      "execution_count": 51,
      "outputs": [
        {
          "output_type": "stream",
          "text": [
            "unzip /content/drive/My Drive/data/kaggle-molecular/structures.zip\n"
          ],
          "name": "stdout"
        }
      ]
    },
    {
      "cell_type": "code",
      "metadata": {
        "id": "_opAN2r9K-ND",
        "colab_type": "code",
        "colab": {}
      },
      "source": [
        "# remove all zip files from Google Drive folder\n",
        "# haven't found a solution"
      ],
      "execution_count": 0,
      "outputs": []
    },
    {
      "cell_type": "code",
      "metadata": {
        "id": "nxuqYxYO7G2i",
        "colab_type": "code",
        "colab": {
          "base_uri": "https://localhost:8080/",
          "height": 140
        },
        "outputId": "14dc7ea8-61b2-4ddd-bb08-9503ff0e112f"
      },
      "source": [
        "# list all non-zip files \n",
        "# Note: 'rm' command won't actually remove files in Google Drive\n",
        "%cd /content/drive/My Drive/data/kaggle-molecular/\n",
        "!rm *.zip\n",
        "!ls"
      ],
      "execution_count": 5,
      "outputs": [
        {
          "output_type": "stream",
          "text": [
            "/content/drive/My Drive/data/kaggle-molecular\n",
            "dipole_moments.csv\t\tscalar_coupling_contributions.csv\n",
            "dipole_moments.gsheet\t\tstructures\n",
            "magnetic_shielding_tensors.csv\tstructures.csv\n",
            "mulliken_charges.csv\t\ttest.csv\n",
            "potential_energy.csv\t\ttrain.csv\n",
            "sample_submission.csv\n"
          ],
          "name": "stdout"
        }
      ]
    },
    {
      "cell_type": "markdown",
      "metadata": {
        "id": "klO1bJtBavxt",
        "colab_type": "text"
      },
      "source": [
        "https://www.kaggle.com/c/champs-scalar-coupling/data   \n",
        "\n",
        "## Data Description\n",
        "\n",
        "In this competition, you will be predicting the scalar_coupling_constant between atom pairs in molecules, given the two atom types (e.g., C and H), the coupling type (e.g., 2JHC), and any features you are able to create from the molecule structure (xyz) files.\n",
        "\n",
        "For this competition, you will not be predicting all the atom pairs in each molecule rather, you will only need to predict the pairs that are explicitly listed in the train and test files. For example, some molecules contain Fluorine (F), but you will not be predicting the scalar coupling constant for any pair that includes F.\n",
        "\n",
        "The training and test splits are by molecule, so that no molecule in the training data is found in the test data.\n",
        "\n",
        "## Files\n",
        "\n",
        "train.csv - the training set, where the first column (molecule_name) is the name of the molecule where the coupling constant originates (the corresponding XYZ file is located at ./structures/.xyz), the second (atom_index_0) and third column (atom_index_1) is the atom indices of the atom-pair creating the coupling and the fourth column (scalar_coupling_constant) is the scalar coupling constant that we want to be able to predict\n",
        "\n",
        "test.csv - the test set; same info as train, without the target variable\n",
        "\n",
        "sample_submission.csv - a sample submission file in the correct format\n",
        "\n",
        "structures.zip - folder containing molecular structure (xyz) files, where the first line is the number of atoms in the molecule, followed by a blank line, and then a line for every atom, where the first column contains the atomic element (H for hydrogen, C for carbon etc.) and the remaining columns contain the X, Y and Z cartesian coordinates (a standard format for chemists and molecular visualization programs)\n",
        "\n",
        "structures.csv - this file contains the same information as the individual xyz structure files, but in a single file\n",
        "\n",
        "## Additional Data\n",
        "\n",
        "NOTE: additional data is provided for the molecules in Train only!\n",
        "\n",
        "dipole_moments.csv - contains the molecular electric dipole moments. These are three dimensional vectors that indicate the charge distribution in the molecule. The first column (molecule_name) are the names of the molecule, the second to fourth column are the X, Y and Z components respectively of the dipole moment.\n",
        "\n",
        "magnetic_shielding_tensors.csv - contains the magnetic shielding tensors for all atoms in the molecules. The first column (molecule_name) contains the molecule name, the second column (atom_index) contains the index of the atom in the molecule, the third to eleventh columns contain the XX, YX, ZX, XY, YY, ZY, XZ, YZ and ZZ elements of the tensor/matrix respectively.\n",
        "\n",
        "mulliken_charges.csv - contains the mulliken charges for all atoms in the molecules. The first column (molecule_name) contains the name of the molecule, the second column (atom_index) contains the index of the atom in the molecule, the third column (mulliken_charge) contains the mulliken charge of the atom.\n",
        "\n",
        "potential_energy.csv - contains the potential energy of the molecules. The first column (molecule_name) contains the name of the molecule, the second column (potential_energy) contains the potential energy of the molecule.\n",
        "scalar_coupling_contributions.csv - The scalar coupling constants in train.csv (or corresponding files) are a sum of four terms. scalar_coupling_contributions.csv contain all these terms. The first column (molecule_name) are the name of the molecule, the second (atom_index_0) and third column (atom_index_1) are the atom indices of the atom-pair, the fourth column indicates the type of coupling, the fifth column (fc) is the Fermi Contact contribution, the sixth column (sd) is the Spin-dipolar contribution, the seventh column (pso) is the Paramagnetic spin-orbit contribution and the eighth column (dso) is the Diamagnetic spin-orbit contribution.   \n"
      ]
    },
    {
      "cell_type": "markdown",
      "metadata": {
        "id": "_6Cy8RDb2UkC",
        "colab_type": "text"
      },
      "source": [
        "https://medium.com/@Keshav31/colab-features-download-and-upload-e1ec537a83df  \n",
        "https://colab.research.google.com/notebooks/io.ipynb  "
      ]
    }
  ]
}